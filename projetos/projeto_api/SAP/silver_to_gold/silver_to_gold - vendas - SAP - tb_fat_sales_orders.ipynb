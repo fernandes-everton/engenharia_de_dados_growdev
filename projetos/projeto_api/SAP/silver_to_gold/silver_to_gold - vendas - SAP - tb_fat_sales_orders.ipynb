{
 "cells": [
  {
   "cell_type": "code",
   "execution_count": 0,
   "metadata": {
    "application/vnd.databricks.v1+cell": {
     "cellMetadata": {
      "byteLimit": 2048000,
      "rowLimit": 10000
     },
     "inputWidgets": {},
     "nuid": "7c2133a8-2658-4798-975b-36b0d8a0309b",
     "showTitle": false,
     "title": ""
    }
   },
   "outputs": [],
   "source": [
    "df_sales_orders = '/tmp/silver/tb_fat_sales_orders'\n",
    "df = spark.read.format('delta').load(df_sales_orders)\n",
    "df.createOrReplaceTempView('sales_orders')"
   ]
  },
  {
   "cell_type": "code",
   "execution_count": 0,
   "metadata": {
    "application/vnd.databricks.v1+cell": {
     "cellMetadata": {
      "byteLimit": 2048000,
      "rowLimit": 10000
     },
     "inputWidgets": {},
     "nuid": "baf2aced-b9bf-4e85-aa62-303cd3ebf526",
     "showTitle": false,
     "title": ""
    }
   },
   "outputs": [],
   "source": [
    "df_sales_order_items = '/tmp/silver/tb_fat_sales_order_items'\n",
    "df = spark.read.format('delta').load(df_sales_order_items)\n",
    "df.createOrReplaceTempView('sales_order_items')"
   ]
  },
  {
   "cell_type": "code",
   "execution_count": 0,
   "metadata": {
    "application/vnd.databricks.v1+cell": {
     "cellMetadata": {
      "byteLimit": 2048000,
      "implicitDf": true,
      "rowLimit": 10000
     },
     "inputWidgets": {},
     "nuid": "4396cae0-2184-4997-9497-7f18bcc4f477",
     "showTitle": false,
     "title": ""
    }
   },
   "outputs": [
    {
     "output_type": "display_data",
     "data": {
      "text/html": [
       "<style scoped>\n",
       "  .table-result-container {\n",
       "    max-height: 300px;\n",
       "    overflow: auto;\n",
       "  }\n",
       "  table, th, td {\n",
       "    border: 1px solid black;\n",
       "    border-collapse: collapse;\n",
       "  }\n",
       "  th, td {\n",
       "    padding: 5px;\n",
       "  }\n",
       "  th {\n",
       "    text-align: left;\n",
       "  }\n",
       "</style><div class='table-result-container'><table class='table-result'><thead style='background-color: white'><tr><th>cd_product</th></tr></thead><tbody><tr><td>CB-1161</td></tr><tr><td>CC-1021</td></tr><tr><td>CB-1162</td></tr><tr><td>MB-1033</td></tr><tr><td>CC-1022</td></tr><tr><td>RC-1052</td></tr><tr><td>BX-1015</td></tr><tr><td>DB-1082</td></tr><tr><td>RC-1053</td></tr><tr><td>HB-1174</td></tr><tr><td>HB-1171</td></tr><tr><td>EB-1135</td></tr><tr><td>MB-1034</td></tr><tr><td>RC-1056</td></tr><tr><td>RO-1002</td></tr><tr><td>MB-1032</td></tr><tr><td>CB-1163</td></tr><tr><td>HB-1172</td></tr><tr><td>BX-1016</td></tr><tr><td>EB-1134</td></tr><tr><td>HB-1175</td></tr><tr><td>BX-1011</td></tr><tr><td>DB-1083</td></tr><tr><td>RO-1003</td></tr><tr><td>BX-1012</td></tr><tr><td>BX-1013</td></tr><tr><td>RC-1057</td></tr><tr><td>HB-1173</td></tr><tr><td>HB-1176</td></tr><tr><td>MB-1031</td></tr><tr><td>DB-1081</td></tr><tr><td>EB-1137</td></tr><tr><td>CC-1023</td></tr><tr><td>RC-1055</td></tr><tr><td>EB-1131</td></tr><tr><td>EB-1133</td></tr><tr><td>BX-1014</td></tr><tr><td>EB-1132</td></tr><tr><td>RO-1001</td></tr><tr><td>RC-1051</td></tr><tr><td>RC-1054</td></tr><tr><td>EB-1136</td></tr></tbody></table></div>"
      ]
     },
     "metadata": {
      "application/vnd.databricks.v1+output": {
       "addedWidgets": {},
       "aggData": [],
       "aggError": "",
       "aggOverflow": false,
       "aggSchema": [],
       "aggSeriesLimitReached": false,
       "aggType": "",
       "arguments": {},
       "columnCustomDisplayInfos": {},
       "data": [
        [
         "CB-1161"
        ],
        [
         "CC-1021"
        ],
        [
         "CB-1162"
        ],
        [
         "MB-1033"
        ],
        [
         "CC-1022"
        ],
        [
         "RC-1052"
        ],
        [
         "BX-1015"
        ],
        [
         "DB-1082"
        ],
        [
         "RC-1053"
        ],
        [
         "HB-1174"
        ],
        [
         "HB-1171"
        ],
        [
         "EB-1135"
        ],
        [
         "MB-1034"
        ],
        [
         "RC-1056"
        ],
        [
         "RO-1002"
        ],
        [
         "MB-1032"
        ],
        [
         "CB-1163"
        ],
        [
         "HB-1172"
        ],
        [
         "BX-1016"
        ],
        [
         "EB-1134"
        ],
        [
         "HB-1175"
        ],
        [
         "BX-1011"
        ],
        [
         "DB-1083"
        ],
        [
         "RO-1003"
        ],
        [
         "BX-1012"
        ],
        [
         "BX-1013"
        ],
        [
         "RC-1057"
        ],
        [
         "HB-1173"
        ],
        [
         "HB-1176"
        ],
        [
         "MB-1031"
        ],
        [
         "DB-1081"
        ],
        [
         "EB-1137"
        ],
        [
         "CC-1023"
        ],
        [
         "RC-1055"
        ],
        [
         "EB-1131"
        ],
        [
         "EB-1133"
        ],
        [
         "BX-1014"
        ],
        [
         "EB-1132"
        ],
        [
         "RO-1001"
        ],
        [
         "RC-1051"
        ],
        [
         "RC-1054"
        ],
        [
         "EB-1136"
        ]
       ],
       "datasetInfos": [],
       "dbfsResultPath": null,
       "isJsonSchema": true,
       "metadata": {},
       "overflow": false,
       "plotOptions": {
        "customPlotOptions": {},
        "displayType": "table",
        "pivotAggregation": null,
        "pivotColumns": null,
        "xColumns": null,
        "yColumns": null
       },
       "removedWidgets": [],
       "schema": [
        {
         "metadata": "{}",
         "name": "cd_product",
         "type": "\"string\""
        }
       ],
       "type": "table"
      }
     },
     "output_type": "display_data"
    }
   ],
   "source": [
    "%sql\n",
    "WITH cte_join as (\n",
    "  SELECT *\n",
    "  FROM sales_orders so\n",
    "  LEFT JOIN sales_order_items soi\n",
    "  ON so.cd_sales_order = soi.cd_sales_order\n",
    "),\n",
    "\n",
    "cte_dim as (\n",
    "  SELECT\n",
    "    cd_product\n",
    "  FROM cte_join\n",
    "  GROUP BY cd_product\n",
    ")\n",
    "\n",
    "SELECT * FROM cte_dim"
   ]
  }
 ],
 "metadata": {
  "application/vnd.databricks.v1+notebook": {
   "dashboards": [],
   "environmentMetadata": null,
   "language": "python",
   "notebookMetadata": {
    "mostRecentlyExecutedCommandWithImplicitDF": {
     "commandId": 753303418395861,
     "dataframes": [
      "_sqldf"
     ]
    },
    "pythonIndentUnit": 4
   },
   "notebookName": "silver_to_gold - vendas - SAP - tb_fat_sales_orders",
   "widgets": {}
  }
 },
 "nbformat": 4,
 "nbformat_minor": 0
}
