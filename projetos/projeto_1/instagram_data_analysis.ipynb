{
  "cells": [
    {
      "cell_type": "markdown",
      "metadata": {
        "id": "hozJu7Q5Ews1"
      },
      "source": [
        "# Project 1\n",
        "\n",
        "Data Source: https://rapidapi.com/mrngstar/api/instagram-scraper-api3\n",
        "\n",
        "Instagram: @marcitocastro (482001976) - https://www.instagram.com/marcitocastro/\n",
        "\n",
        "- Profile Data (twice)\n",
        "- General Information About the Last 24 Posts (twice)\n",
        "- Comments from the Last Post (twice)\n",
        "- Classification of Comments from the Last Post (twice)\n",
        "  - Data and Time of Data Extraction:\n",
        "    - 2024-09-18 / 05:03:20.26\n",
        "    - 2024-09-21 / 19:04:30.89"
      ]
    },
    {
      "cell_type": "markdown",
      "metadata": {
        "id": "Er9LaE9GE-qo"
      },
      "source": [
        "## Install Dependencies"
      ]
    },
    {
      "cell_type": "code",
      "execution_count": null,
      "metadata": {
        "id": "UtiO-lloGcF1"
      },
      "outputs": [],
      "source": [
        "!pip install requests\n",
        "!apt-get update # Update apt-get repository.\n",
        "!apt-get install openjdk-8-jdk-headless -qq > /dev/null # Install Java.\n",
        "!wget -q http://archive.apache.org/dist/spark/spark-3.1.1/spark-3.1.1-bin-hadoop3.2.tgz # Download Apache Spark.\n",
        "!tar xf spark-3.1.1-bin-hadoop3.2.tgz # Unzip the tgz file.\n",
        "!pip install pyspark==3.1.1\n",
        "!pip install -q findspark # Install findspark. Adds PySpark to the System path during runtime.\n",
        "!pip install -U google-generativeai # Install or update the Google Generative AI package.\n",
        "!ls\n"
      ]
    },
    {
      "cell_type": "markdown",
      "metadata": {
        "id": "6kBRksOqFL8B"
      },
      "source": [
        "## Configure Environment"
      ]
    },
    {
      "cell_type": "code",
      "execution_count": null,
      "metadata": {
        "colab": {
          "base_uri": "https://localhost:8080/",
          "height": 237
        },
        "id": "bA3N5KXqGjQJ",
        "outputId": "f6b42d9d-77fb-44c4-d1b9-7cd3d68ae113"
      },
      "outputs": [
        {
          "name": "stdout",
          "output_type": "stream",
          "text": [
            "Mounted at /content/drive\n"
          ]
        },
        {
          "data": {
            "text/html": [
              "\n",
              "            <div>\n",
              "                <p><b>SparkSession - in-memory</b></p>\n",
              "                \n",
              "        <div>\n",
              "            <p><b>SparkContext</b></p>\n",
              "\n",
              "            <p><a href=\"http://4dd7f0baba07:4040\">Spark UI</a></p>\n",
              "\n",
              "            <dl>\n",
              "              <dt>Version</dt>\n",
              "                <dd><code>v3.1.1</code></dd>\n",
              "              <dt>Master</dt>\n",
              "                <dd><code>local[*]</code></dd>\n",
              "              <dt>AppName</dt>\n",
              "                <dd><code>Instagram Data Analysis</code></dd>\n",
              "            </dl>\n",
              "        </div>\n",
              "        \n",
              "            </div>\n",
              "        "
            ],
            "text/plain": [
              "<pyspark.sql.session.SparkSession at 0x7f66548e5240>"
            ]
          },
          "execution_count": 1,
          "metadata": {},
          "output_type": "execute_result"
        }
      ],
      "source": [
        "# Import libraries\n",
        "import requests\n",
        "import json\n",
        "import findspark\n",
        "import os\n",
        "import pandas as pd\n",
        "import pyspark\n",
        "from pyspark.sql import DataFrame, SparkSession\n",
        "from typing import List, Tuple, Dict\n",
        "from array import ArrayType\n",
        "import pyspark.sql.types as T\n",
        "import pyspark.sql.functions as F\n",
        "import google.generativeai as genai # Import the Google Generative AI module\n",
        "from google.colab import userdata\n",
        "from google.colab import drive\n",
        "\n",
        "# Configure environment variables\n",
        "os.environ[\"JAVA_HOME\"] = \"/usr/lib/jvm/java-8-openjdk-amd64\"\n",
        "os.environ[\"SPARK_HOME\"] = \"/content/spark-3.1.1-bin-hadoop3.2\"\n",
        "\n",
        "drive.mount('/content/drive')\n",
        "\n",
        "# Initialize Spark session\n",
        "findspark.init()\n",
        "spark = SparkSession.builder.appName(\"Instagram Data Analysis\").getOrCreate()\n",
        "spark\n"
      ]
    },
    {
      "cell_type": "markdown",
      "metadata": {
        "id": "SmZAej3BFLon"
      },
      "source": [
        "## Get Infos from Instagram"
      ]
    },
    {
      "cell_type": "markdown",
      "metadata": {
        "id": "wtqz-SDwFLhs"
      },
      "source": [
        "### Get PROFILE"
      ]
    },
    {
      "cell_type": "code",
      "execution_count": null,
      "metadata": {
        "id": "KEDL_QSuHU9l"
      },
      "outputs": [],
      "source": [
        "def get_influencer_profile(influencer: str, url: str, headers: dict):\n",
        "    \"\"\"\n",
        "    Fetches the profile information of the given Instagram influencer.\n",
        "\n",
        "    Args:\n",
        "        influencer (str): The username of the Instagram influencer.\n",
        "        url (str): The base URL for the Instagram API.\n",
        "        headers (dict): Headers required for the API request.\n",
        "    \"\"\"\n",
        "    try:\n",
        "        querystring = {\"username_or_id\": influencer}\n",
        "        method = 'user_info'\n",
        "        response = requests.get(f'{url}{method}', headers=headers, params=querystring)\n",
        "        response.raise_for_status() # Checks if there was an HTTP error\n",
        "\n",
        "        response_instagram = response.json()\n",
        "\n",
        "        profile = response_instagram.get(\"data\", {})\n",
        "\n",
        "        full_name = profile.get('full_name')\n",
        "        profile_id  = profile.get('id')\n",
        "        biography = profile.get('biography')\n",
        "        category = profile.get('category')\n",
        "        bio_links = profile.get('bio_links')\n",
        "        follower_count = profile.get('follower_count')\n",
        "        following_count = profile.get('following_count')\n",
        "\n",
        "        hd_profile_pic_versions = profile.get('hd_profile_pic_versions', [])\n",
        "        hd_profile_pic_versions_url = hd_profile_pic_versions[0].get('url') if hd_profile_pic_versions else None\n",
        "\n",
        "        media_count = profile.get('media_count')\n",
        "        is_verified = profile.get('is_verified')\n",
        "        threads_profile_glyph_url = profile.get('threads_profile_glyph_url')\n",
        "\n",
        "        data_profile = [(\n",
        "            full_name, profile_id, biography, category, bio_links, follower_count, following_count, hd_profile_pic_versions_url,\n",
        "            media_count, is_verified, threads_profile_glyph_url\n",
        "        )]\n",
        "\n",
        "        return data_profile\n",
        "\n",
        "    except requests.RequestException as e:\n",
        "        print(f\"Error fetching influencer profile: {e}\")\n",
        "        return []\n"
      ]
    },
    {
      "cell_type": "markdown",
      "metadata": {
        "id": "TMop5gT0FLbc"
      },
      "source": [
        "### Get POSTS"
      ]
    },
    {
      "cell_type": "code",
      "execution_count": null,
      "metadata": {
        "id": "GEbT2BTdHZi6"
      },
      "outputs": [],
      "source": [
        "def get_influencer_posts(influencer: str, url: str, headers: dict):\n",
        "    \"\"\"\n",
        "    Fetches up to 24 posts of the given Instagram influencer\n",
        "\n",
        "    Args:\n",
        "        influencer (str): The username of the Instagram influencer.\n",
        "        url (str): The base URL for the Instagram API.\n",
        "        headers (dict): Headers required for the API request.\n",
        "    \"\"\"\n",
        "    try:\n",
        "        method = 'user_posts'\n",
        "        latest_post_code = ''\n",
        "        next_max_id = None\n",
        "        data_posts = []\n",
        "\n",
        "        for i in range(2):  # Limit to two requests\n",
        "            querystring = {\"username_or_id\": influencer, \"count\": \"12\"}\n",
        "\n",
        "            if next_max_id:\n",
        "                querystring[\"max_id\"] = next_max_id\n",
        "\n",
        "            response = requests.get(f'{url}{method}', headers=headers, params=querystring)\n",
        "            response.raise_for_status() # Checks if there was an HTTP error\n",
        "\n",
        "            response_instagram = response.json()\n",
        "\n",
        "            items = response_instagram.get('data', {}).get('items', [])\n",
        "            next_max_id = response_instagram.get('data', {}).get('next_max_id')\n",
        "\n",
        "            # Process each post\n",
        "            for item in items:\n",
        "                post_id = item.get('id')\n",
        "                code = item.get('code')\n",
        "\n",
        "                # Update the latest post code if not pinned\n",
        "                if item.get('timeline_pinned_user_ids') == None:\n",
        "                    if latest_post_code == '':\n",
        "                        latest_post_code = code\n",
        "\n",
        "                device_timestamp = item.get('device_timestamp')\n",
        "                like_and_view_counts_disabled = item.get('like_and_view_counts_disabled')\n",
        "                caption = item.get('caption')\n",
        "                image_versions2 = item.get('image_versions2')\n",
        "                product_type = item.get('product_type')\n",
        "                coauthor_producers = item.get('coauthor_producers')\n",
        "                like_count = item.get('like_count')\n",
        "                comment_count = item.get('comment_count')\n",
        "                reshare_count = item.get('reshare_count')\n",
        "                timeline_pinned_user_ids = item.get('timeline_pinned_user_ids')\n",
        "\n",
        "                data_posts.append((\n",
        "                    post_id, code, device_timestamp, like_and_view_counts_disabled, caption, image_versions2, product_type,\n",
        "                    coauthor_producers, like_count, comment_count, reshare_count, timeline_pinned_user_ids\n",
        "                ))\n",
        "\n",
        "            if not next_max_id:\n",
        "                break\n",
        "\n",
        "        return data_posts, latest_post_code\n",
        "\n",
        "    except requests.RequestException as e:\n",
        "        print(f\"Error fetching influencer posts: {e}\")\n",
        "        return [], None\n"
      ]
    },
    {
      "cell_type": "markdown",
      "metadata": {
        "id": "LVfGvpEtFLM9"
      },
      "source": [
        "### Get COMMENTS"
      ]
    },
    {
      "cell_type": "code",
      "execution_count": null,
      "metadata": {
        "id": "Ky_dl6KuHdX2"
      },
      "outputs": [],
      "source": [
        "def get_comments_for_latest_post(latest_post_code: str, url: str, headers: dict):\n",
        "    \"\"\"\n",
        "    Fetches comments for the latest post of the given Instagram influencer.\n",
        "\n",
        "    Args:\n",
        "        latest_post_code (str): The code of the latest post.\n",
        "        url (str): The base URL for the Instagram API.\n",
        "        headers (dict): Headers required for the API request.\n",
        "    \"\"\"\n",
        "    method = 'media_comments'\n",
        "    min_id = None\n",
        "    data_comments = []\n",
        "\n",
        "    while True:\n",
        "        try:\n",
        "            querystring = {\"code_or_id_or_url\": latest_post_code, \"sort_order\": \"recent\", \"min_id\": min_id}\n",
        "            response = requests.get(f'{url}{method}', headers=headers, params=querystring)\n",
        "            response.raise_for_status() # Checks if there was an HTTP error\n",
        "\n",
        "            response_instagram = response.json()\n",
        "            array_comments = response_instagram.get('data', {}).get('comments', [])\n",
        "\n",
        "            # Loop through each comment in the response and extract relevant details\n",
        "            for comment in array_comments:\n",
        "                pk = comment.get('pk')\n",
        "                user_id = comment.get('user_id')\n",
        "                text = comment.get('text')\n",
        "                comment_like_count = comment.get('comment_like_count', 0)\n",
        "                child_comment_count = comment.get('child_comment_count', 0)\n",
        "                user_username = comment.get('user', {}).get('username')\n",
        "                user_full_name = comment.get('user', {}).get('full_name')\n",
        "                user_is_verified = comment.get('user', {}).get('is_verified')\n",
        "\n",
        "                # Store each comment's data in a dictionary\n",
        "                data_comments.append((\n",
        "                    pk, user_id, text, comment_like_count, child_comment_count, user_username, user_full_name, user_is_verified\n",
        "                ))\n",
        "\n",
        "            # Check if there is a next page of comments\n",
        "            min_id = response_instagram.get('data', {}).get('next_min_id')\n",
        "            if not min_id:\n",
        "                break\n",
        "\n",
        "        except requests.RequestException as e:\n",
        "            print(f\"Error fetching comments: {e}\")\n",
        "            break\n",
        "\n",
        "    return data_comments\n"
      ]
    },
    {
      "cell_type": "markdown",
      "metadata": {
        "id": "gtYaHHx3HxHU"
      },
      "source": [
        "## Main Function"
      ]
    },
    {
      "cell_type": "code",
      "execution_count": null,
      "metadata": {
        "id": "YisY_NmJHz7j"
      },
      "outputs": [],
      "source": [
        "def main(influencer: str, url: str, headers: dict):\n",
        "    \"\"\"\n",
        "    Main function to run the workflow: fetching profile, posts, comments for the latest post and saving to Data Lake.\n",
        "\n",
        "    Args:\n",
        "        influencer (str): The username of the Instagram influencer.\n",
        "        url (str): The base URL for the Instagram API.\n",
        "        headers (dict): Headers required for the API request.\n",
        "    \"\"\"\n",
        "    try:\n",
        "        # Get influencer profile\n",
        "        data_profile = get_influencer_profile(influencer, url, headers)\n",
        "        if not data_profile:\n",
        "            raise ValueError(\"Profile data could not be retrieved\")\n",
        "        else:\n",
        "            # Create and save DataFrame for profile\n",
        "            schema_profile = T.StructType([\n",
        "                T.StructField(\"full_name\", T.StringType(), nullable=False),\n",
        "                T.StructField(\"id\", T.StringType(), nullable=True),\n",
        "                T.StructField(\"biography\", T.StringType(), nullable=True),\n",
        "                T.StructField(\"category\", T.StringType(), nullable=True),\n",
        "                T.StructField(\"bio_links\", T.StringType(), nullable=True),\n",
        "                T.StructField(\"follower_count\", T.StringType(), nullable=True),\n",
        "                T.StructField(\"following_count\", T.StringType(), nullable=True),\n",
        "                T.StructField(\"hd_profile_pic_versions_url\", T.StringType(), nullable=True),\n",
        "                T.StructField(\"media_count\", T.StringType(), nullable=True),\n",
        "                T.StructField(\"is_verified\", T.StringType(), nullable=True),\n",
        "                T.StructField(\"threads_profile_glyph_url\", T.StringType(), nullable=True)\n",
        "            ])\n",
        "\n",
        "            df_profile = spark.createDataFrame(data_profile, schema=schema_profile)\n",
        "            df_profile = df_profile.withColumn('ts_exec', F.current_timestamp())\n",
        "            df_profile.write.partitionBy(\"full_name\", \"ts_exec\").mode(\"append\").format('parquet').save('/content/drive/MyDrive/Datalake/Instagram/Profile/')\n",
        "\n",
        "        # Get posts\n",
        "        data_posts, latest_post_code = get_influencer_posts(influencer, url, headers)\n",
        "        if not data_posts or not latest_post_code:\n",
        "            raise ValueError(\"Post data or latest post code could not be retrieved\")\n",
        "        else:\n",
        "            # Create and save DataFrame for posts\n",
        "            schema_posts = T.StructType([\n",
        "                T.StructField(\"id\", T.StringType(), nullable=True),\n",
        "                T.StructField(\"code\", T.StringType(), nullable=True),\n",
        "                T.StructField(\"device_timestamp\", T.StringType(), nullable=True),\n",
        "                T.StructField(\"like_and_view_counts_disabled\", T.StringType(), nullable=True),\n",
        "                T.StructField(\"caption\", T.StringType(), nullable=True),\n",
        "                T.StructField(\"image_versions2\", T.StringType(), nullable=True),\n",
        "                T.StructField(\"product_type\", T.StringType(), nullable=True),\n",
        "                T.StructField(\"coauthor_producers\", T.StringType(), nullable=True),\n",
        "                T.StructField(\"like_count\", T.StringType(), nullable=True),\n",
        "                T.StructField(\"comment_count\", T.StringType(), nullable=True),\n",
        "                T.StructField(\"reshare_count\", T.StringType(), nullable=True),\n",
        "                T.StructField(\"timeline_pinned_user_ids\", T.StringType(), nullable=True)\n",
        "            ])\n",
        "\n",
        "            df_posts = spark.createDataFrame(data_posts, schema=schema_posts)\n",
        "            df_posts = df_posts.withColumn('ts_exec', F.current_timestamp())\n",
        "            df_posts.write.partitionBy(\"ts_exec\").mode(\"append\").format('parquet').save('/content/drive/MyDrive/Datalake/Instagram/Posts/')\n",
        "\n",
        "        # Get comments for the latest post\n",
        "        comments_data = get_comments_for_latest_post(latest_post_code, url, headers)\n",
        "        if comments_data:\n",
        "            # Create and save DataFrame for comments\n",
        "            schema_comments = T.StructType([\n",
        "                T.StructField(\"pk\", T.StringType(), nullable=True),\n",
        "                T.StructField(\"user_id\", T.StringType(), nullable=True),\n",
        "                T.StructField(\"text\", T.StringType(), nullable=True),\n",
        "                T.StructField(\"comment_like_count\", T.StringType(), nullable=True),\n",
        "                T.StructField(\"child_comment_count\", T.StringType(), nullable=True),\n",
        "                T.StructField(\"user_username\", T.StringType(), nullable=True),\n",
        "                T.StructField(\"user_full_name\", T.StringType(), nullable=True),\n",
        "                T.StructField(\"user_is_verified\", T.StringType(), nullable=True)\n",
        "            ])\n",
        "\n",
        "            df_comments = spark.createDataFrame(comments_data, schema=schema_comments)\n",
        "            df_comments = df_comments.withColumn('ts_exec', F.current_timestamp())\n",
        "            df_comments.write.partitionBy(\"ts_exec\").mode(\"append\").format('parquet').save('/content/drive/MyDrive/Datalake/Instagram/Comments/')\n",
        "        else:\n",
        "            print(\"No comments found for the latest post\")\n",
        "\n",
        "    except ValueError as e:\n",
        "        print(f\"Error in the main workflow: {e}\")\n",
        "    except Exception as e:\n",
        "        print(f\"Unexpected error: {e}\")\n"
      ]
    },
    {
      "cell_type": "markdown",
      "metadata": {
        "id": "TLWy-LGrc781"
      },
      "source": [
        "## Classify Comments Using Google Gemini"
      ]
    },
    {
      "cell_type": "code",
      "execution_count": null,
      "metadata": {
        "id": "72paq15WdIHM"
      },
      "outputs": [],
      "source": [
        "def classify_comment(text: str, gemini_api_key: str):\n",
        "    \"\"\"\n",
        "    Classifies the sentiment of a comment using the Google Gemini API.\n",
        "\n",
        "    Args:\n",
        "        text (str): The comment text to classify.\n",
        "        gemini_api_key (str): The API key for Google Gemini.\n",
        "    \"\"\"\n",
        "    try:\n",
        "        genai.configure(api_key=gemini_api_key)\n",
        "        model = genai.GenerativeModel('gemini-1.5-flash')\n",
        "        prompt = f'Classify the following comment as (Positive, Negative, Neutral, Humorous). Return only the classification: {text}'\n",
        "        response = model.generate_content(prompt)\n",
        "\n",
        "        return response.text.strip()\n",
        "\n",
        "    except Exception as e:\n",
        "        print(f\"Error classifying comment: {e}\")\n",
        "\n",
        "        return 'Unknown'\n"
      ]
    },
    {
      "cell_type": "code",
      "execution_count": null,
      "metadata": {
        "id": "8s1XhQqGdH62"
      },
      "outputs": [],
      "source": [
        "def classify_comments_for_the_latest_post(influencer: str, url: str, headers: dict, gemini_api_key: str):\n",
        "    \"\"\"\n",
        "    Classifies the sentiment of comments on the latest Instagram post and stores the results in a Data Lake.\n",
        "\n",
        "    Args:\n",
        "        influencer (str): The username of the Instagram influencer.\n",
        "        url (str): The base URL for the Instagram API.\n",
        "        headers (dict): Headers required for the API request.\n",
        "        gemini_api_key (str): The API key for Google Gemini.\n",
        "    \"\"\"\n",
        "    try:\n",
        "        # Get comments for the latest post\n",
        "        data_posts, latest_post_code = get_influencer_posts(influencer, url, headers)\n",
        "        comments_data = get_comments_for_latest_post(latest_post_code, url, headers)\n",
        "        if comments_data:\n",
        "            # Classify comments using Google Gemini\n",
        "            comments_to_classify = comments_data[:20]  # Limit to 20 comments\n",
        "\n",
        "            classified_comments = [(pk, text, classify_comment(text, gemini_api_key))\n",
        "                                  for (pk, user_id, text, comment_like_count, child_comment_count, user_username, user_full_name, user_is_verified)\n",
        "                                  in comments_to_classify]\n",
        "\n",
        "            # Create and save DataFrame for classified comments\n",
        "            schema_classified_comments = T.StructType([\n",
        "                T.StructField(\"pk\", T.StringType(), nullable=True),\n",
        "                T.StructField(\"text_original\", T.StringType(), nullable=True),\n",
        "                T.StructField(\"classification\", T.StringType(), nullable=True)\n",
        "            ])\n",
        "\n",
        "            df_classified_comments = spark.createDataFrame(classified_comments, schema=schema_classified_comments)\n",
        "            df_classified_comments = df_classified_comments.withColumn('ts_exec', F.current_timestamp())\n",
        "            df_classified_comments.write.partitionBy(\"ts_exec\").mode(\"append\").format('parquet').save('/content/drive/MyDrive/Datalake/Instagram/Classified_comments/')\n",
        "        else:\n",
        "            print(\"No comments found for the latest post\")\n",
        "\n",
        "    except ValueError as e:\n",
        "        print(f\"Error in the main workflow: {e}\")\n",
        "    except Exception as e:\n",
        "        print(f\"Unexpected error: {e}\")\n"
      ]
    },
    {
      "cell_type": "markdown",
      "metadata": {
        "id": "JbFacw_8dcBB"
      },
      "source": [
        "## Define the Parameters and Execute the Workflow"
      ]
    },
    {
      "cell_type": "code",
      "execution_count": null,
      "metadata": {
        "id": "ClFMEch0dbSP"
      },
      "outputs": [],
      "source": [
        "# Define your parameters\n",
        "influencer = 'marcitocastro'\n",
        "\n",
        "url = 'https://instagram-scraper-api3.p.rapidapi.com/'\n",
        "\n",
        "headers = {\n",
        "    'x-rapidapi-key': userdata.get('x-rapidapi-key'),\n",
        "    'x-rapidapi-host': 'instagram-scraper-api3.p.rapidapi.com'\n",
        "}\n",
        "\n",
        "gemini_api_key = userdata.get('gemini_api_key')\n",
        "\n",
        "# Execute the workflow\n",
        "main(influencer, url, headers)\n",
        "classify_comments_for_the_latest_post(influencer, url, headers, gemini_api_key)\n"
      ]
    },
    {
      "cell_type": "markdown",
      "metadata": {
        "id": "KLEcUf_QurLz"
      },
      "source": [
        "## Analytics"
      ]
    },
    {
      "cell_type": "code",
      "execution_count": null,
      "metadata": {
        "colab": {
          "base_uri": "https://localhost:8080/"
        },
        "id": "EMvxtUCuZgm5",
        "outputId": "a22a5d6a-ecd4-4ce5-9b08-12614e9bf520"
      },
      "outputs": [
        {
          "name": "stdout",
          "output_type": "stream",
          "text": [
            "+-----------------------+----------+--------------+--------+-----------+--------------+---------------+-----------+--------------------------------------------------------------------------------------------------------------------------------------------------------------------------------------------------------------------------------------------------------------------------------------------------------------------------------------------------------------------+-----------------------------------------------------------------------------------------------------+\n",
            "|ts_exec                |profile_id|full_name     |category|media_count|follower_count|following_count|is_verified|hd_profile_pic_versions_url                                                                                                                                                                                                                                                                                                                                         |threads_profile_glyph_url                                                                            |\n",
            "+-----------------------+----------+--------------+--------+-----------+--------------+---------------+-----------+--------------------------------------------------------------------------------------------------------------------------------------------------------------------------------------------------------------------------------------------------------------------------------------------------------------------------------------------------------------------+-----------------------------------------------------------------------------------------------------+\n",
            "|2024-09-18 05:03:20.26 |482001976 |Marcito Castro|Comedian|4062       |820374        |3687           |true       |https://scontent-lax3-2.cdninstagram.com/v/t51.2885-19/455822620_1019247976559485_5672978017921992113_n.jpg?stp=dst-jpg_s320x320&_nc_ht=scontent-lax3-2.cdninstagram.com&_nc_cat=1&_nc_ohc=7aX1n923yskQ7kNvgHgqp0b&_nc_gid=7bb807a4eddd42bbb9d563f81cf6e17c&edm=AEF8tYYBAAAA&ccb=7-5&oh=00_AYDH5Tx2Uvk_4ver_Z1CL4PPiw8Uo3qoSQ_jK-oF3MjkDg&oe=66F04BA7&_nc_sid=1e20d2|https://www.threads.net/@marcitocastro?modal=true&xmt=AQGz4Mt1gRqMK2U-DjjEQXv_30CHCD3jL64M6HUEkpIF_nw|\n",
            "|2024-09-21 19:04:30.894|482001976 |Marcito Castro|Comedian|4069       |822214        |3692           |true       |https://instagram.fphl1-1.fna.fbcdn.net/v/t51.2885-19/455822620_1019247976559485_5672978017921992113_n.jpg?stp=dst-jpg_s320x320&_nc_ht=instagram.fphl1-1.fna.fbcdn.net&_nc_cat=1&_nc_ohc=D3Q07KdtSHkQ7kNvgEyaOD1&_nc_gid=0f3c6f9ea369444f997cb5a4c55423fa&edm=AEF8tYYBAAAA&ccb=7-5&oh=00_AYB7BRU9stsTZs-bHDs51_WQRlVwFABXGffyjsnMdGANGA&oe=66F4E8E7&_nc_sid=1e20d2  |https://www.threads.net/@marcitocastro?modal=true&xmt=AQGz1dBigI61n27fN9NQdGeddD0Gmv6dX9aXh52H1mxKPdM|\n",
            "+-----------------------+----------+--------------+--------+-----------+--------------+---------------+-----------+--------------------------------------------------------------------------------------------------------------------------------------------------------------------------------------------------------------------------------------------------------------------------------------------------------------------------------------------------------------------+-----------------------------------------------------------------------------------------------------+\n",
            "\n"
          ]
        }
      ],
      "source": [
        "df_profile = spark.read.parquet('/content/drive/MyDrive/Datalake/Instagram/Profile/')\n",
        "\n",
        "df_profile.createOrReplaceTempView(\"df_profile\")\n",
        "\n",
        "spark.sql(\"\"\"\n",
        "SELECT\n",
        "    ts_exec,\n",
        "    id AS profile_id,\n",
        "    full_name,\n",
        "    category,\n",
        "    media_count,\n",
        "    follower_count,\n",
        "    following_count,\n",
        "    is_verified,\n",
        "    hd_profile_pic_versions_url,\n",
        "    threads_profile_glyph_url\n",
        "FROM df_profile\n",
        "\"\"\"\n",
        ").show(truncate=False)\n"
      ]
    },
    {
      "cell_type": "code",
      "execution_count": null,
      "metadata": {
        "colab": {
          "base_uri": "https://localhost:8080/"
        },
        "id": "XtjiNOqAZAnI",
        "outputId": "de204e03-6a86-44ca-edc1-e9f40c649905"
      },
      "outputs": [
        {
          "name": "stdout",
          "output_type": "stream",
          "text": [
            "+-------------------------------+-----------+----------------+----------+-------------+-------------+------------------+------------------------+-------------------------------------------------------------------------------------------------------------------------------------------------------------------------------------------------------------------------------------------------------------------------------------------------------------------------------------------------------------------------------------------------------------------------------------------------------------------------------------------------------------------------------------------------------------------------------------------------------------------------------------------------------------------------------------------------------------------------------------------------------------------------------------------------------------------------------------------------------------------------------------------------------------------------------------------------------------------------------------------------------------------------------------------------------------------------------------------------------------------------------------------------------------------------------------------------------------------------------------------------------------------------------------------------------------------------------------------------------------------------------------------------------------------------------------------------------------------------------------------------------------------------------------------------------------------------------------------------------------------------------------------------------------------------------------------------------------------------------------------------------------------------------------------------------------------------------------------------------------------------------------------------------------------------------------------------------------------------------------------------------------------------------------------------------------------------------------------------------------------------------------------------------------------------------------------------------------------------------------------------------------------------------------------------------------------------------------------------------------------------------------------------------------------------------------------------------------------------------------------------------------------------------------------------------------------------------------------------------------------------------------------------------------------------------------------------------------------------------------------------------------------------------------------------------------------------------------------------------------------------------------------------------------------------------------------------------------------------------------------------------------------------------------+-----------------------------+-----------------------------------------------------------------------------------------------------------------------------------------------------------------------------------------------------------------------------------------------------------------------------------------------------------------------------------------------------------------------------------------------------------------------------------------------------------------------------------------------------------------------------------------------------------------------------------------------------------------------------------------------------------------------------------------------------------------------------------------------------------------------------------------------------------------------------------------------------------------------------------------------------------------------------------------------------------------------------------------------------------------------------------------------------------------------------------------------------------------------------------------------------------------------------------------------------------------------------------------------------------------------------------------------------------------------------------------------------------------------------------------------------------------------------------------------------------------------------------------------------------------------------------------------------------------------------------------------------------------------------------------------------------------------------------------------------------------------------------------------------------------------------------------------------------------------------------------------------------------------------------------------------------------------------------------------------------------------------------------------------------------------------------------------------------------------------------------------------------------------------------------------------------------------------------------------------------------------------------------------------------------------------------------------------------------------------------------------------------------------------------------------------------------------------------------------------------------------------------------------------------------------------------------------------------------------------------------------+\n",
            "|post_id                        |code       |device_timestamp|like_count|comment_count|reshare_count|product_type      |timeline_pinned_user_ids|coauthor_producers                                                                                                                                                                                                                                                                                                                                                                                                                                                                                                                                                                                                                                                                                                                                                                                                                                                                                                                                                                                                                                                                                                                                                                                                                                                                                                                                                                                                                                                                                                                                                                                                                                                                                                                                                                                                                                                                                                                                                                                                                                                                                                                                                                                                                                                                                                                                                                                                                                                                                                                                                                                                                                                                                                                                                                                                                                                                                                                                                                                                                   |like_and_view_counts_disabled|image_versions2                                                                                                                                                                                                                                                                                                                                                                                                                                                                                                                                                                                                                                                                                                                                                                                                                                                                                                                                                                                                                                                                                                                                                                                                                                                                                                                                                                                                                                                                                                                                                                                                                                                                                                                                                                                                                                                                                                                                                                                                                                                                                                                                                                                                                                                                                                                                                                                                                                                                                                                                                                                |\n",
            "+-------------------------------+-----------+----------------+----------+-------------+-------------+------------------+------------------------+-------------------------------------------------------------------------------------------------------------------------------------------------------------------------------------------------------------------------------------------------------------------------------------------------------------------------------------------------------------------------------------------------------------------------------------------------------------------------------------------------------------------------------------------------------------------------------------------------------------------------------------------------------------------------------------------------------------------------------------------------------------------------------------------------------------------------------------------------------------------------------------------------------------------------------------------------------------------------------------------------------------------------------------------------------------------------------------------------------------------------------------------------------------------------------------------------------------------------------------------------------------------------------------------------------------------------------------------------------------------------------------------------------------------------------------------------------------------------------------------------------------------------------------------------------------------------------------------------------------------------------------------------------------------------------------------------------------------------------------------------------------------------------------------------------------------------------------------------------------------------------------------------------------------------------------------------------------------------------------------------------------------------------------------------------------------------------------------------------------------------------------------------------------------------------------------------------------------------------------------------------------------------------------------------------------------------------------------------------------------------------------------------------------------------------------------------------------------------------------------------------------------------------------------------------------------------------------------------------------------------------------------------------------------------------------------------------------------------------------------------------------------------------------------------------------------------------------------------------------------------------------------------------------------------------------------------------------------------------------------------------------------------------------+-----------------------------+-----------------------------------------------------------------------------------------------------------------------------------------------------------------------------------------------------------------------------------------------------------------------------------------------------------------------------------------------------------------------------------------------------------------------------------------------------------------------------------------------------------------------------------------------------------------------------------------------------------------------------------------------------------------------------------------------------------------------------------------------------------------------------------------------------------------------------------------------------------------------------------------------------------------------------------------------------------------------------------------------------------------------------------------------------------------------------------------------------------------------------------------------------------------------------------------------------------------------------------------------------------------------------------------------------------------------------------------------------------------------------------------------------------------------------------------------------------------------------------------------------------------------------------------------------------------------------------------------------------------------------------------------------------------------------------------------------------------------------------------------------------------------------------------------------------------------------------------------------------------------------------------------------------------------------------------------------------------------------------------------------------------------------------------------------------------------------------------------------------------------------------------------------------------------------------------------------------------------------------------------------------------------------------------------------------------------------------------------------------------------------------------------------------------------------------------------------------------------------------------------------------------------------------------------------------------------------------------------+\n",
            "|3448401954307684253_482001976  |C_bL06ZRbed|172530125116770 |627       |24           |null         |feed              |[482001976]             |[]                                                                                                                                                                                                                                                                                                                                                                                                                                                                                                                                                                                                                                                                                                                                                                                                                                                                                                                                                                                                                                                                                                                                                                                                                                                                                                                                                                                                                                                                                                                                                                                                                                                                                                                                                                                                                                                                                                                                                                                                                                                                                                                                                                                                                                                                                                                                                                                                                                                                                                                                                                                                                                                                                                                                                                                                                                                                                                                                                                                                                                   |false                        |{candidates=[{width=1080, scans_profile=e35, url=https://scontent-iad3-2.cdninstagram.com/v/t51.29350-15/457666545_1031201388485124_4865510190400477601_n.jpg?stp=dst-jpg_e35_p1080x1080_tt7&_nc_cb=dae8a7dc-1d7da1ac&efg=eyJ2ZW5jb2RlX3RhZyI6ImltYWdlX3VybGdlbi4xMzQ3eDE2Nzkuc2RyLmYyOTM1MC5kZWZhdWx0X2ltYWdlLmpwZWdsaV9jb250cm9sIn0&_nc_ht=scontent-iad3-2.cdninstagram.com&_nc_cat=100&_nc_ohc=Cohlryrlrq8Q7kNvgFNNin9&_nc_gid=bb64bc9e225f4ab1b7ee2072cdec2f4b&edm=ABmJApABAAAA&ccb=7-5&ig_cache_key=MzQ0ODQwMTk1NDMwNzY4NDI1Mw%3D%3D.3-ccb7-5&oh=00_AYBGwT_5XVpRxSAp-KO6PQRBwYxecyHMimBty3gEfXl93g&oe=66F4F45F&_nc_sid=b41fef, height=1346}, {width=360, scans_profile=e35, url=https://scontent-iad3-2.cdninstagram.com/v/t51.29350-15/457666545_1031201388485124_4865510190400477601_n.jpg?stp=dst-jpg_e35_p360x360_tt7&_nc_cb=dae8a7dc-1d7da1ac&efg=eyJ2ZW5jb2RlX3RhZyI6ImltYWdlX3VybGdlbi4xMzQ3eDE2Nzkuc2RyLmYyOTM1MC5kZWZhdWx0X2ltYWdlLmpwZWdsaV9jb250cm9sIn0&_nc_ht=scontent-iad3-2.cdninstagram.com&_nc_cat=100&_nc_ohc=Cohlryrlrq8Q7kNvgFNNin9&_nc_gid=bb64bc9e225f4ab1b7ee2072cdec2f4b&edm=ABmJApABAAAA&ccb=7-5&ig_cache_key=MzQ0ODQwMTk1NDMwNzY4NDI1Mw%3D%3D.3-ccb7-5&oh=00_AYCD35T5SSNICZKKk8hgop5sOtABgTpYJuAmiBTOV2aXpg&oe=66F4F45F&_nc_sid=b41fef, height=449}]}                                                                                                                                                                                                                                                                                                                                                                                                                                                                                                                                                                                                                                                                                                                                                                                                                                                                                                                                                                                                                                                                                                                                                                                                                                                                                                            |\n",
            "|3444865860697304235_482001976  |C_Onz-lu6yr|1724879928670751|2814      |129          |null         |feed              |[482001976]             |[{is_private=false, full_name=Artistaria Produtora de Humor, pk_id=283038768, profile_pic_id=3237585762920388942_283038768, id=283038768, pk=283038768, profile_pic_url=https://scontent-iad3-1.cdninstagram.com/v/t51.2885-19/402461497_693925159360802_1610538001837494238_n.jpg?stp=dst-jpg_e0_s150x150&_nc_ht=scontent-iad3-1.cdninstagram.com&_nc_cat=1&_nc_ohc=dzxBsymR2WUQ7kNvgFxwEZz&_nc_gid=bb64bc9e225f4ab1b7ee2072cdec2f4b&edm=ABmJApABAAAA&ccb=7-5&oh=00_AYBydOkaLtC4b3cK56AX2jzLbArpR9CTBLZfYHBSY-0SWw&oe=66F4FA5F&_nc_sid=b41fef, is_verified=false, username=artistaria, strong_id__=283038768}]                                                                                                                                                                                                                                                                                                                                                                                                                                                                                                                                                                                                                                                                                                                                                                                                                                                                                                                                                                                                                                                                                                                                                                                                                                                                                                                                                                                                                                                                                                                                                                                                                                                                                                                                                                                                                                                                                                                                                                                                                                                                                                                                                                                                                                                                                                                                                                                                                      |false                        |{candidates=[{width=1080, scans_profile=e35, url=https://scontent-iad3-2.cdninstagram.com/v/t51.29350-15/457253650_430553743338917_8513078340794645965_n.jpg?stp=dst-jpg_e35_p1080x1080_tt7&_nc_cb=dae8a7dc-1d7da1ac&efg=eyJ2ZW5jb2RlX3RhZyI6ImltYWdlX3VybGdlbi4xMzQ3eDE2Nzkuc2RyLmYyOTM1MC5kZWZhdWx0X2ltYWdlLmpwZWdsaV9jb250cm9sIn0&_nc_ht=scontent-iad3-2.cdninstagram.com&_nc_cat=105&_nc_ohc=E6B1MJ4c-_YQ7kNvgHQYdKQ&_nc_gid=bb64bc9e225f4ab1b7ee2072cdec2f4b&edm=ABmJApABAAAA&ccb=7-5&ig_cache_key=MzQ0NDg2NTg2MDY5NzMwNDIzNQ%3D%3D.3-ccb7-5&oh=00_AYCs4BQybaz4rusMW4ll_Bg0QqRD2Y__QPuR6LyUkCW5bw&oe=66F4D6C0&_nc_sid=b41fef, height=1346}, {width=360, scans_profile=e35, url=https://scontent-iad3-2.cdninstagram.com/v/t51.29350-15/457253650_430553743338917_8513078340794645965_n.jpg?stp=dst-jpg_e35_p360x360_tt7&_nc_cb=dae8a7dc-1d7da1ac&efg=eyJ2ZW5jb2RlX3RhZyI6ImltYWdlX3VybGdlbi4xMzQ3eDE2Nzkuc2RyLmYyOTM1MC5kZWZhdWx0X2ltYWdlLmpwZWdsaV9jb250cm9sIn0&_nc_ht=scontent-iad3-2.cdninstagram.com&_nc_cat=105&_nc_ohc=E6B1MJ4c-_YQ7kNvgHQYdKQ&_nc_gid=bb64bc9e225f4ab1b7ee2072cdec2f4b&edm=ABmJApABAAAA&ccb=7-5&ig_cache_key=MzQ0NDg2NTg2MDY5NzMwNDIzNQ%3D%3D.3-ccb7-5&oh=00_AYChFL0Gyg_OPJrEWlwSSw4yxOSitD260IFiLefWRzhDhg&oe=66F4D6C0&_nc_sid=b41fef, height=449}]}                                                                                                                                                                                                                                                                                                                                                                                                                                                                                                                                                                                                                                                                                                                                                                                                                                                                                                                                                                                                                                                                                                                                                                                                                                                                                                              |\n",
            "|3453660828630795370_482001976  |C_t3jmxOERq|1725927989501229|1253      |26           |null         |feed              |[482001976]             |[{is_private=false, full_name=Matheus Castro, pk_id=3969072663, profile_pic_id=3451902283942016810_3969072663, id=3969072663, pk=3969072663, profile_pic_url=https://scontent-iad3-1.cdninstagram.com/v/t51.2885-19/458488527_1180672566570940_7570863953468056262_n.jpg?stp=dst-jpg_e0_s150x150&_nc_ht=scontent-iad3-1.cdninstagram.com&_nc_cat=104&_nc_ohc=E_W9y8A2x3oQ7kNvgE4RNUc&edm=ABmJApABAAAA&ccb=7-5&oh=00_AYCVzCWMfJ2F6SR_n4us3Va2BrdtbSF64na6OCEbcu9p0g&oe=66F4F256&_nc_sid=b41fef, is_verified=false, username=matheus_mcastro, strong_id__=3969072663}]                                                                                                                                                                                                                                                                                                                                                                                                                                                                                                                                                                                                                                                                                                                                                                                                                                                                                                                                                                                                                                                                                                                                                                                                                                                                                                                                                                                                                                                                                                                                                                                                                                                                                                                                                                                                                                                                                                                                                                                                                                                                                                                                                                                                                                                                                                                                                                                                                                                                 |false                        |{candidates=[{width=1080, scans_profile=e35, url=https://scontent-iad3-1.cdninstagram.com/v/t51.29350-15/459083354_473311215704110_9173933237595551627_n.jpg?stp=dst-jpg_e35_s1080x1080_tt7&_nc_cb=dae8a7dc-1d7da1ac&efg=eyJ2ZW5jb2RlX3RhZyI6ImltYWdlX3VybGdlbi4xNDQweDE0NDAuc2RyLmYyOTM1MC5kZWZhdWx0X2ltYWdlLmpwZWdsaV9jb250cm9sIn0&_nc_ht=scontent-iad3-1.cdninstagram.com&_nc_cat=110&_nc_ohc=z6FgeMkAy-AQ7kNvgFy3iNs&_nc_gid=bb64bc9e225f4ab1b7ee2072cdec2f4b&edm=ABmJApABAAAA&ccb=7-5&ig_cache_key=MzQ1MzY2MDgyODYzMDc5NTM3MA%3D%3D.3-ccb7-5&oh=00_AYDb1GexiU4K-_Jm88UE-DjJ50YmjO6Q9xJxQOtLfl-98g&oe=66F4CFC1&_nc_sid=b41fef, height=1080}, {width=360, scans_profile=e35, url=https://scontent-iad3-1.cdninstagram.com/v/t51.29350-15/459083354_473311215704110_9173933237595551627_n.jpg?stp=dst-jpg_e35_s360x360_tt7&_nc_cb=dae8a7dc-1d7da1ac&efg=eyJ2ZW5jb2RlX3RhZyI6ImltYWdlX3VybGdlbi4xNDQweDE0NDAuc2RyLmYyOTM1MC5kZWZhdWx0X2ltYWdlLmpwZWdsaV9jb250cm9sIn0&_nc_ht=scontent-iad3-1.cdninstagram.com&_nc_cat=110&_nc_ohc=z6FgeMkAy-AQ7kNvgFy3iNs&_nc_gid=bb64bc9e225f4ab1b7ee2072cdec2f4b&edm=ABmJApABAAAA&ccb=7-5&ig_cache_key=MzQ1MzY2MDgyODYzMDc5NTM3MA%3D%3D.3-ccb7-5&oh=00_AYDOhdSS2W0DMxHEMR-F5WHY0iToBigqkPYMxyrDJU5kIg&oe=66F4CFC1&_nc_sid=b41fef, height=360}]}                                                                                                                                                                                                                                                                                                                                                                                                                                                                                                                                                                                                                                                                                                                                                                                                                                                                                                                                                                                                                                                                                                                                                                                                                                                                                                              |\n",
            "|3461433661884847653_26216118730|DAJe5N2OdYl|1726855058833593|1925      |139          |716          |clips             |null                    |[{is_private=true, full_name=Diego Brum P. Martinez, pk_id=6033254481, profile_pic_id=3357999477623362925_6033254481, id=6033254481, pk=6033254481, profile_pic_url=https://scontent-iad3-2.cdninstagram.com/v/t51.2885-19/441264338_7382265265188030_4229151612507447850_n.jpg?stp=dst-jpg_e0_s150x150&_nc_ht=scontent-iad3-2.cdninstagram.com&_nc_cat=106&_nc_ohc=QYD1xjxY-o8Q7kNvgFXmtX1&_nc_gid=bb64bc9e225f4ab1b7ee2072cdec2f4b&edm=ABmJApABAAAA&ccb=7-5&oh=00_AYAab6Ypa84hIW3uGOsJbZkEqRg83woWY4UOvZRan9AnpA&oe=66F4E243&_nc_sid=b41fef, is_verified=false, username=diegobpmartinez, strong_id__=6033254481}, {is_private=false, full_name=Gabriel Sehnem da Cruz, pk_id=69421370574, profile_pic_id=3455974781184142376_69421370574, id=69421370574, pk=69421370574, profile_pic_url=https://scontent-iad3-1.cdninstagram.com/v/t51.2885-19/459285563_535877968894924_4515949249134262381_n.jpg?stp=dst-jpg_e0_s150x150&_nc_ht=scontent-iad3-1.cdninstagram.com&_nc_cat=104&_nc_ohc=-Egk8RR1ccIQ7kNvgFzBoqp&_nc_gid=bb64bc9e225f4ab1b7ee2072cdec2f4b&edm=ABmJApABAAAA&ccb=7-5&oh=00_AYCr7jBwyCViZf0BKiHOLeZxl70g-mSELYCavd0g09zNLA&oe=66F4E600&_nc_sid=b41fef, is_verified=false, username=todospelogabinho, strong_id__=69421370574}, {is_private=false, full_name=Marcito Castro, pk_id=482001976, profile_pic_id=3436382941194761236_482001976, id=482001976, pk=482001976, profile_pic_url=https://scontent-iad3-1.cdninstagram.com/v/t51.2885-19/455822620_1019247976559485_5672978017921992113_n.jpg?stp=dst-jpg_e0_s150x150&_nc_ht=scontent-iad3-1.cdninstagram.com&_nc_cat=1&_nc_ohc=D3Q07KdtSHkQ7kNvgER0sKM&edm=ABmJApABAAAA&ccb=7-5&oh=00_AYBPgtr5o-Zt1W5vKWRtPUhCkWFAjj9ocgMEqXNP_vxrKw&oe=66F4E8E7&_nc_sid=b41fef, is_verified=true, username=marcitocastro, strong_id__=482001976}, {is_private=false, full_name=Aquarela - Esmalteria e Bar, pk_id=49546236899, profile_pic_id=2685134520516131626_49546236899, id=49546236899, pk=49546236899, profile_pic_url=https://scontent-iad3-2.cdninstagram.com/v/t51.2885-19/245941387_156505983364391_2787784641565289288_n.jpg?stp=dst-jpg_e0_s150x150&_nc_ht=scontent-iad3-2.cdninstagram.com&_nc_cat=111&_nc_ohc=h0qTI6A0vmoQ7kNvgFNPbvc&_nc_gid=bb64bc9e225f4ab1b7ee2072cdec2f4b&edm=ABmJApABAAAA&ccb=7-5&oh=00_AYAzesr7X6P-g7ifsIUkoyqEV1zEv6G_wfVUJ738JCEIXQ&oe=66F4F79E&_nc_sid=b41fef, is_verified=false, username=aquarelaesmalteriaebar, strong_id__=49546236899}, {is_private=false, full_name=, pk_id=477160493, profile_pic_id=1635925009116750839_477160493, id=477160493, pk=477160493, profile_pic_url=https://scontent-iad3-1.cdninstagram.com/v/t51.2885-19/22857477_384077742011050_1793399057989763072_n.jpg?stp=dst-jpg_e0_s150x150&_nc_ht=scontent-iad3-1.cdninstagram.com&_nc_cat=110&_nc_ohc=aJaF2bzhGD8Q7kNvgGqrM1m&_nc_gid=bb64bc9e225f4ab1b7ee2072cdec2f4b&edm=ABmJApABAAAA&ccb=7-5&oh=00_AYAfoKKHUnwI3izCz0YF9mne4Wcweww-xs1zTdaWil7DPg&oe=66F4E922&_nc_sid=b41fef, is_verified=false, username=raphasmagalhaes, strong_id__=477160493}]|false                        |{scrubber_spritesheet_info_candidates={default={video_length=114.223, max_thumbnails_per_sprite=105, sprite_height=1246, sprite_urls=[https://scontent-iad3-1.cdninstagram.com/v/t51.2885-15/460683677_1178749576754770_3668859608237250329_n.jpg?_nc_ht=scontent-iad3-1.cdninstagram.com&_nc_cat=110&_nc_ohc=nzXaPEqMn50Q7kNvgEI7yqr&edm=ABmJApABAAAA&ccb=7-5&oh=00_AYBI7p4sWCGxP3t43_I0EC6vQBBjHeMUyWU7-ipf3DwkFQ&oe=66F4FA33&_nc_sid=b41fef], thumbnail_duration=1.0878380952380953, rendered_width=96, thumbnail_height=178, file_size_kb=379, total_thumbnail_num_per_sprite=105, thumbnails_per_row=15, sprite_width=1500, thumbnail_width=100}}, candidates=[{width=360, scans_profile=e15, url=https://scontent-iad3-2.cdninstagram.com/v/t51.29350-15/460543138_3557701527853703_3588975371604403430_n.jpg?stp=dst-jpg_e15_p360x360_tt7&_nc_cb=dae8a7dc-1d7da1ac&efg=eyJ2ZW5jb2RlX3RhZyI6ImltYWdlX3VybGdlbi40ODB4ODU0LnNkci5mMjkzNTAuZGVmYXVsdF9jb3Zlcl9mcmFtZS5qcGVnbGlfY29udHJvbCJ9&_nc_ht=scontent-iad3-2.cdninstagram.com&_nc_cat=111&_nc_ohc=OvBcu6G3XCsQ7kNvgG42Tno&_nc_gid=bb64bc9e225f4ab1b7ee2072cdec2f4b&edm=ABmJApABAAAA&ccb=7-5&ig_cache_key=MzQ2MTQzMzY2MTg4NDg0NzY1Mw%3D%3D.3-ccb7-5&oh=00_AYBc9vCDu_PAV5QfI8It2ZZDJgsRksB3ZNKQW0hkeBKUtg&oe=66F50745&_nc_sid=b41fef, height=640}], additional_candidates={smart_frame=null, igtv_first_frame={width=360, scans_profile=e15, url=https://scontent-iad3-2.cdninstagram.com/v/t51.2885-15/460690355_448557821555021_644422439144948577_n.jpg?stp=dst-jpg_e15_p360x360_tt7&_nc_cb=dae8a7dc-1d7da1ac&efg=eyJ2ZW5jb2RlX3RhZyI6ImltYWdlX3VybGdlbi42NDB4MTEzOC5zZHIuZjcxODc4LmFkZGl0aW9uYWxfY292ZXJfZnJhbWUuanBlZ2xpX2NvbnRyb2wifQ&_nc_ht=scontent-iad3-2.cdninstagram.com&_nc_cat=105&_nc_ohc=1bT4cjmF98cQ7kNvgF8xQjd&_nc_gid=bb64bc9e225f4ab1b7ee2072cdec2f4b&edm=ABmJApABAAAA&ccb=7-5&oh=00_AYBJi8aPAVgQvzdUX6ydehNulFUktaVcek_oq9Nsvh6bdw&oe=66F4D0BA&_nc_sid=b41fef, height=640}, first_frame={width=360, scans_profile=e15, url=https://scontent-iad3-2.cdninstagram.com/v/t51.2885-15/460690355_448557821555021_644422439144948577_n.jpg?stp=dst-jpg_e15_p360x360_tt7&_nc_cb=dae8a7dc-1d7da1ac&efg=eyJ2ZW5jb2RlX3RhZyI6ImltYWdlX3VybGdlbi42NDB4MTEzOC5zZHIuZjcxODc4LmFkZGl0aW9uYWxfY292ZXJfZnJhbWUuanBlZ2xpX2NvbnRyb2wifQ&_nc_ht=scontent-iad3-2.cdninstagram.com&_nc_cat=105&_nc_ohc=1bT4cjmF98cQ7kNvgF8xQjd&_nc_gid=bb64bc9e225f4ab1b7ee2072cdec2f4b&edm=ABmJApABAAAA&ccb=7-5&oh=00_AYBJi8aPAVgQvzdUX6ydehNulFUktaVcek_oq9Nsvh6bdw&oe=66F4D0BA&_nc_sid=b41fef, height=640}}}                                          |\n",
            "|3461406938396991004_482001976  |DAJY0VqOZ4c|1726851871834649|16476     |193          |3876         |clips             |null                    |[]                                                                                                                                                                                                                                                                                                                                                                                                                                                                                                                                                                                                                                                                                                                                                                                                                                                                                                                                                                                                                                                                                                                                                                                                                                                                                                                                                                                                                                                                                                                                                                                                                                                                                                                                                                                                                                                                                                                                                                                                                                                                                                                                                                                                                                                                                                                                                                                                                                                                                                                                                                                                                                                                                                                                                                                                                                                                                                                                                                                                                                   |false                        |{scrubber_spritesheet_info_candidates={default={video_length=90.026, max_thumbnails_per_sprite=105, sprite_height=1246, sprite_urls=[https://scontent-iad3-1.cdninstagram.com/v/t51.2885-15/460848910_1198710754675744_3673513968124054359_n.jpg?_nc_ht=scontent-iad3-1.cdninstagram.com&_nc_cat=104&_nc_ohc=STapTsI9kNwQ7kNvgEg2oGl&_nc_gid=bb64bc9e225f4ab1b7ee2072cdec2f4b&edm=ABmJApABAAAA&ccb=7-5&oh=00_AYAO-gvq9WgTQbKWp0UlckrhnkVlQmOszMhSuJfth2t_AQ&oe=66F4EC0D&_nc_sid=b41fef], thumbnail_duration=0.8573904761904761, rendered_width=96, thumbnail_height=178, file_size_kb=328, total_thumbnail_num_per_sprite=105, thumbnails_per_row=15, sprite_width=1500, thumbnail_width=100}}, candidates=[{width=360, scans_profile=e15, url=https://scontent-iad3-1.cdninstagram.com/v/t51.29350-15/460814297_1046104980294542_8517747732883035892_n.jpg?stp=dst-jpg_e15_p360x360_tt7&_nc_cb=dae8a7dc-1d7da1ac&efg=eyJ2ZW5jb2RlX3RhZyI6ImltYWdlX3VybGdlbi43MjB4MTI4MC5zZHIuZjI5MzUwLmRlZmF1bHRfY292ZXJfZnJhbWUuanBlZ2xpX2NvbnRyb2wifQ&_nc_ht=scontent-iad3-1.cdninstagram.com&_nc_cat=102&_nc_ohc=4t6q13e9AA8Q7kNvgFBwUCt&edm=ABmJApABAAAA&ccb=7-5&ig_cache_key=MzQ2MTQwNjkzODM5Njk5MTAwNA%3D%3D.3-ccb7-5&oh=00_AYBcfQGSPD4HrX5zal3QAlCE7Sx4jAg1ZK9OGtZPYFhBVQ&oe=66F502A7&_nc_sid=b41fef, height=640}], additional_candidates={smart_frame=null, igtv_first_frame={width=360, scans_profile=e15, url=https://scontent-iad3-1.cdninstagram.com/v/t51.2885-15/460793285_1582179379376626_8977145349284443726_n.jpg?stp=dst-jpg_e15_p360x360_tt7&_nc_cb=dae8a7dc-1d7da1ac&efg=eyJ2ZW5jb2RlX3RhZyI6ImltYWdlX3VybGdlbi42NDB4MTEzNi5zZHIuZjcxODc4LmFkZGl0aW9uYWxfY292ZXJfZnJhbWUuanBlZ2xpX2NvbnRyb2wifQ&_nc_ht=scontent-iad3-1.cdninstagram.com&_nc_cat=110&_nc_ohc=Ph1pSwOEFr4Q7kNvgHvR6k5&edm=ABmJApABAAAA&ccb=7-5&oh=00_AYBTOkucmT29Q65ioGnAk86MZjnHMiJuCj-4UOBPWKfQdQ&oe=66F4DC22&_nc_sid=b41fef, height=639}, first_frame={width=360, scans_profile=e15, url=https://scontent-iad3-1.cdninstagram.com/v/t51.2885-15/460793285_1582179379376626_8977145349284443726_n.jpg?stp=dst-jpg_e15_p360x360_tt7&_nc_cb=dae8a7dc-1d7da1ac&efg=eyJ2ZW5jb2RlX3RhZyI6ImltYWdlX3VybGdlbi42NDB4MTEzNi5zZHIuZjcxODc4LmFkZGl0aW9uYWxfY292ZXJfZnJhbWUuanBlZ2xpX2NvbnRyb2wifQ&_nc_ht=scontent-iad3-1.cdninstagram.com&_nc_cat=110&_nc_ohc=Ph1pSwOEFr4Q7kNvgHvR6k5&edm=ABmJApABAAAA&ccb=7-5&oh=00_AYBTOkucmT29Q65ioGnAk86MZjnHMiJuCj-4UOBPWKfQdQ&oe=66F4DC22&_nc_sid=b41fef, height=639}}}                                                                                                                       |\n",
            "|3460786412071538517_482001976  |DAHLuffBc9V|1726777901410454|23294     |188          |14638        |clips             |null                    |[]                                                                                                                                                                                                                                                                                                                                                                                                                                                                                                                                                                                                                                                                                                                                                                                                                                                                                                                                                                                                                                                                                                                                                                                                                                                                                                                                                                                                                                                                                                                                                                                                                                                                                                                                                                                                                                                                                                                                                                                                                                                                                                                                                                                                                                                                                                                                                                                                                                                                                                                                                                                                                                                                                                                                                                                                                                                                                                                                                                                                                                   |false                        |{scrubber_spritesheet_info_candidates={default={video_length=71, max_thumbnails_per_sprite=105, sprite_height=1246, sprite_urls=[https://scontent-iad3-2.cdninstagram.com/v/t51.2885-15/460637396_1038967464572391_8521646999059957092_n.jpg?_nc_ht=scontent-iad3-2.cdninstagram.com&_nc_cat=103&_nc_ohc=40mA5Y_x3YMQ7kNvgFgkqba&_nc_gid=bb64bc9e225f4ab1b7ee2072cdec2f4b&edm=ABmJApABAAAA&ccb=7-5&oh=00_AYB6xZTa9lH8o5T4rvzJsZ-uzLKCetbAK99NCX8CohA4lQ&oe=66F501FC&_nc_sid=b41fef], thumbnail_duration=0.6761904761904762, rendered_width=96, thumbnail_height=178, file_size_kb=435, total_thumbnail_num_per_sprite=105, thumbnails_per_row=15, sprite_width=1500, thumbnail_width=100}}, candidates=[{width=360, scans_profile=e15, url=https://scontent-iad3-2.cdninstagram.com/v/t51.29350-15/460669518_440730931753619_8051761919709056603_n.jpg?stp=dst-jpg_e15_p360x360_tt7&_nc_cb=dae8a7dc-1d7da1ac&efg=eyJ2ZW5jb2RlX3RhZyI6ImltYWdlX3VybGdlbi43MjB4MTI4MC5zZHIuZjI5MzUwLmRlZmF1bHRfY292ZXJfZnJhbWUuanBlZ2xpX2NvbnRyb2wifQ&_nc_ht=scontent-iad3-2.cdninstagram.com&_nc_cat=111&_nc_ohc=oJ5P7BhH3MkQ7kNvgHBVBju&edm=ABmJApABAAAA&ccb=7-5&ig_cache_key=MzQ2MDc4NjQxMjA3MTUzODUxNw%3D%3D.3-ccb7-5&oh=00_AYA_z0r-fAlxjH6dqbXRyBlxYA1inWv0mVVrd9vjLyqudA&oe=66F4FA0F&_nc_sid=b41fef, height=640}], additional_candidates={smart_frame=null, igtv_first_frame={width=360, scans_profile=e15, url=https://scontent-iad3-1.cdninstagram.com/v/t51.2885-15/460674612_1219400079301438_1415967576470280050_n.jpg?stp=dst-jpg_e15_p360x360_tt7&_nc_cb=dae8a7dc-1d7da1ac&efg=eyJ2ZW5jb2RlX3RhZyI6ImltYWdlX3VybGdlbi42NDB4MTEzNi5zZHIuZjcxODc4LmFkZGl0aW9uYWxfY292ZXJfZnJhbWUuanBlZ2xpX2NvbnRyb2wifQ&_nc_ht=scontent-iad3-1.cdninstagram.com&_nc_cat=110&_nc_ohc=Pz6GDO_aLREQ7kNvgGFuaxr&_nc_gid=bb64bc9e225f4ab1b7ee2072cdec2f4b&edm=ABmJApABAAAA&ccb=7-5&oh=00_AYBWDgROfwyjZ_TzKsxM2_bUD5O6WNz4niV08NoQOQHylA&oe=66F4F6B0&_nc_sid=b41fef, height=639}, first_frame={width=360, scans_profile=e15, url=https://scontent-iad3-1.cdninstagram.com/v/t51.2885-15/460674612_1219400079301438_1415967576470280050_n.jpg?stp=dst-jpg_e15_p360x360_tt7&_nc_cb=dae8a7dc-1d7da1ac&efg=eyJ2ZW5jb2RlX3RhZyI6ImltYWdlX3VybGdlbi42NDB4MTEzNi5zZHIuZjcxODc4LmFkZGl0aW9uYWxfY292ZXJfZnJhbWUuanBlZ2xpX2NvbnRyb2wifQ&_nc_ht=scontent-iad3-1.cdninstagram.com&_nc_cat=110&_nc_ohc=Pz6GDO_aLREQ7kNvgGFuaxr&_nc_gid=bb64bc9e225f4ab1b7ee2072cdec2f4b&edm=ABmJApABAAAA&ccb=7-5&oh=00_AYBWDgROfwyjZ_TzKsxM2_bUD5O6WNz4niV08NoQOQHylA&oe=66F4F6B0&_nc_sid=b41fef, height=639}}}                                          |\n",
            "|3460766578055173719_482001976  |DAHHN3nhdZX|1726775490410450|1651      |25           |null         |feed              |null                    |[]                                                                                                                                                                                                                                                                                                                                                                                                                                                                                                                                                                                                                                                                                                                                                                                                                                                                                                                                                                                                                                                                                                                                                                                                                                                                                                                                                                                                                                                                                                                                                                                                                                                                                                                                                                                                                                                                                                                                                                                                                                                                                                                                                                                                                                                                                                                                                                                                                                                                                                                                                                                                                                                                                                                                                                                                                                                                                                                                                                                                                                   |false                        |{candidates=[{width=1080, scans_profile=e35, url=https://scontent-iad3-2.cdninstagram.com/v/t51.29350-15/460673772_888730756488366_4647222463666087086_n.jpg?stp=dst-jpg_e35_s1080x1080_tt7&_nc_cb=dae8a7dc-1d7da1ac&efg=eyJ2ZW5jb2RlX3RhZyI6ImltYWdlX3VybGdlbi4xNDQweDE0NDAuc2RyLmYyOTM1MC5kZWZhdWx0X2ltYWdlLmpwZWdsaV9jb250cm9sIn0&_nc_ht=scontent-iad3-2.cdninstagram.com&_nc_cat=106&_nc_ohc=rTaQzoMap4IQ7kNvgEwy6xj&_nc_gid=bb64bc9e225f4ab1b7ee2072cdec2f4b&edm=ABmJApABAAAA&ccb=7-5&ig_cache_key=MzQ2MDc2NjU3ODA1NTE3MzcxOQ%3D%3D.3-ccb7-5&oh=00_AYBq7Yd9TdfnGWxOKmpRABqwuVa1-xijte4Iw4n8cU1YPQ&oe=66F4D820&_nc_sid=b41fef, height=1080}, {width=360, scans_profile=e35, url=https://scontent-iad3-2.cdninstagram.com/v/t51.29350-15/460673772_888730756488366_4647222463666087086_n.jpg?stp=dst-jpg_e35_s360x360_tt7&_nc_cb=dae8a7dc-1d7da1ac&efg=eyJ2ZW5jb2RlX3RhZyI6ImltYWdlX3VybGdlbi4xNDQweDE0NDAuc2RyLmYyOTM1MC5kZWZhdWx0X2ltYWdlLmpwZWdsaV9jb250cm9sIn0&_nc_ht=scontent-iad3-2.cdninstagram.com&_nc_cat=106&_nc_ohc=rTaQzoMap4IQ7kNvgEwy6xj&_nc_gid=bb64bc9e225f4ab1b7ee2072cdec2f4b&edm=ABmJApABAAAA&ccb=7-5&ig_cache_key=MzQ2MDc2NjU3ODA1NTE3MzcxOQ%3D%3D.3-ccb7-5&oh=00_AYDwFC9ON3m5bTtMSG6Yf73cM5XEBzd1Bc7syPO-GYhFLA&oe=66F4D820&_nc_sid=b41fef, height=360}]}                                                                                                                                                                                                                                                                                                                                                                                                                                                                                                                                                                                                                                                                                                                                                                                                                                                                                                                                                                                                                                                                                                                                                                                                                                                                                                              |\n",
            "|3460724168268755601_482001976  |DAG9kubRLKR|172676988155101 |1151      |22           |null         |carousel_container|null                    |[]                                                                                                                                                                                                                                                                                                                                                                                                                                                                                                                                                                                                                                                                                                                                                                                                                                                                                                                                                                                                                                                                                                                                                                                                                                                                                                                                                                                                                                                                                                                                                                                                                                                                                                                                                                                                                                                                                                                                                                                                                                                                                                                                                                                                                                                                                                                                                                                                                                                                                                                                                                                                                                                                                                                                                                                                                                                                                                                                                                                                                                   |false                        |{candidates=[{width=1080, scans_profile=, url=https://scontent-iad3-1.cdninstagram.com/v/t51.29350-15/459958860_432803785955515_1145612606916434667_n.jpg?stp=dst-jpg_e35_p1080x1080&_nc_ht=scontent-iad3-1.cdninstagram.com&_nc_cat=107&_nc_ohc=Fbq0o-3EBl4Q7kNvgGVbidc&_nc_gid=bb64bc9e225f4ab1b7ee2072cdec2f4b&edm=ABmJApABAAAA&ccb=7-5&ig_cache_key=MzQ2MDcyNDE2MTc1MDk3OTEwNg%3D%3D.3-ccb7-5&oh=00_AYDhWjLPuEUPfQK19E8mb19LKoYB_n6VwmDpkUeyZy1PGg&oe=66F4E3A2&_nc_sid=b41fef, height=1346}, {width=320, scans_profile=, url=https://scontent-iad3-1.cdninstagram.com/v/t51.29350-15/459958860_432803785955515_1145612606916434667_n.jpg?stp=dst-jpg_e35_p320x320&_nc_ht=scontent-iad3-1.cdninstagram.com&_nc_cat=107&_nc_ohc=Fbq0o-3EBl4Q7kNvgGVbidc&_nc_gid=bb64bc9e225f4ab1b7ee2072cdec2f4b&edm=ABmJApABAAAA&ccb=7-5&ig_cache_key=MzQ2MDcyNDE2MTc1MDk3OTEwNg%3D%3D.3-ccb7-5&oh=00_AYC-dzDFX7Lg4Ifemogto3vrBgHP5lqgsN5Jg3dkXRR4nw&oe=66F4E3A2&_nc_sid=b41fef, height=398}]}                                                                                                                                                                                                                                                                                                                                                                                                                                                                                                                                                                                                                                                                                                                                                                                                                                                                                                                                                                                                                                                                                                                                                                                                                                                                                                                                                                                                                                                                                                                                                                                                              |\n",
            "|3460206618006301320_482001976  |DAFH5YLuKqI|172670876155088 |3903      |149          |30           |clips             |null                    |[]                                                                                                                                                                                                                                                                                                                                                                                                                                                                                                                                                                                                                                                                                                                                                                                                                                                                                                                                                                                                                                                                                                                                                                                                                                                                                                                                                                                                                                                                                                                                                                                                                                                                                                                                                                                                                                                                                                                                                                                                                                                                                                                                                                                                                                                                                                                                                                                                                                                                                                                                                                                                                                                                                                                                                                                                                                                                                                                                                                                                                                   |false                        |{scrubber_spritesheet_info_candidates={default={video_length=85.6, max_thumbnails_per_sprite=105, sprite_height=1246, sprite_urls=[https://scontent-iad3-1.cdninstagram.com/v/t51.2885-15/459856697_1060707135670202_2141325951670870257_n.jpg?_nc_ht=scontent-iad3-1.cdninstagram.com&_nc_cat=102&_nc_ohc=HSiCBZJ7cx8Q7kNvgFfs6Bo&_nc_gid=bb64bc9e225f4ab1b7ee2072cdec2f4b&edm=ABmJApABAAAA&ccb=7-5&oh=00_AYA-FZPb60W3a6X3-9w3GmlIjxJk1vvMbEeF8vYO3SBZHg&oe=66F4ECD1&_nc_sid=b41fef], thumbnail_duration=0.8152380952380952, rendered_width=96, thumbnail_height=178, file_size_kb=218, total_thumbnail_num_per_sprite=105, thumbnails_per_row=15, sprite_width=1500, thumbnail_width=100}}, candidates=[{width=360, scans_profile=e15, url=https://scontent-iad3-2.cdninstagram.com/v/t51.29350-15/460719408_2747451548749085_1815388452801851192_n.jpg?stp=dst-jpg_e15_p360x360_tt7&_nc_cb=dae8a7dc-1d7da1ac&efg=eyJ2ZW5jb2RlX3RhZyI6ImltYWdlX3VybGdlbi43MjB4MTI4MC5zZHIuZjI5MzUwLmRlZmF1bHRfY292ZXJfZnJhbWUuanBlZ2xpX2NvbnRyb2wifQ&_nc_ht=scontent-iad3-2.cdninstagram.com&_nc_cat=105&_nc_ohc=1zv2FQw17TMQ7kNvgEA8NO1&_nc_gid=bb64bc9e225f4ab1b7ee2072cdec2f4b&edm=ABmJApABAAAA&ccb=7-5&ig_cache_key=MzQ2MDIwNjYxODAwNjMwMTMyMA%3D%3D.3-ccb7-5&oh=00_AYAdzex_i6_GCojS0z_xdhhg6H_UgPHCD8Xq2l4mq2RTbA&oe=66F4D636&_nc_sid=b41fef, height=640}], additional_candidates={smart_frame=null, igtv_first_frame={width=360, scans_profile=e15, url=https://scontent-iad3-1.cdninstagram.com/v/t51.2885-15/459890078_534336272418112_3719437183271678683_n.jpg?stp=dst-jpg_e15_p360x360_tt7&_nc_cb=dae8a7dc-1d7da1ac&efg=eyJ2ZW5jb2RlX3RhZyI6ImltYWdlX3VybGdlbi42NDB4MTEzNi5zZHIuZjcxODc4LmFkZGl0aW9uYWxfY292ZXJfZnJhbWUuanBlZ2xpX2NvbnRyb2wifQ&_nc_ht=scontent-iad3-1.cdninstagram.com&_nc_cat=104&_nc_ohc=ccRdjpqVNjAQ7kNvgGr3Qhv&_nc_gid=bb64bc9e225f4ab1b7ee2072cdec2f4b&edm=ABmJApABAAAA&ccb=7-5&oh=00_AYC167LZ63gtGh9_G7X-Bw6k246Do2Q0ozzOD-BgKVYlNg&oe=66F4D225&_nc_sid=b41fef, height=639}, first_frame={width=360, scans_profile=e15, url=https://scontent-iad3-1.cdninstagram.com/v/t51.2885-15/459890078_534336272418112_3719437183271678683_n.jpg?stp=dst-jpg_e15_p360x360_tt7&_nc_cb=dae8a7dc-1d7da1ac&efg=eyJ2ZW5jb2RlX3RhZyI6ImltYWdlX3VybGdlbi42NDB4MTEzNi5zZHIuZjcxODc4LmFkZGl0aW9uYWxfY292ZXJfZnJhbWUuanBlZ2xpX2NvbnRyb2wifQ&_nc_ht=scontent-iad3-1.cdninstagram.com&_nc_cat=104&_nc_ohc=ccRdjpqVNjAQ7kNvgGr3Qhv&_nc_gid=bb64bc9e225f4ab1b7ee2072cdec2f4b&edm=ABmJApABAAAA&ccb=7-5&oh=00_AYC167LZ63gtGh9_G7X-Bw6k246Do2Q0ozzOD-BgKVYlNg&oe=66F4D225&_nc_sid=b41fef, height=639}}}|\n",
            "|3460071709934399167_482001976  |DAEpONQBK6_|1726692693461565|32431     |517          |20492        |clips             |null                    |[]                                                                                                                                                                                                                                                                                                                                                                                                                                                                                                                                                                                                                                                                                                                                                                                                                                                                                                                                                                                                                                                                                                                                                                                                                                                                                                                                                                                                                                                                                                                                                                                                                                                                                                                                                                                                                                                                                                                                                                                                                                                                                                                                                                                                                                                                                                                                                                                                                                                                                                                                                                                                                                                                                                                                                                                                                                                                                                                                                                                                                                   |false                        |{scrubber_spritesheet_info_candidates={default={video_length=89.966, max_thumbnails_per_sprite=105, sprite_height=1246, sprite_urls=[https://scontent-iad3-1.cdninstagram.com/v/t51.2885-15/460674825_896034695765470_5315061971105227692_n.jpg?_nc_ht=scontent-iad3-1.cdninstagram.com&_nc_cat=110&_nc_ohc=lHU9psybbPYQ7kNvgHUAZSM&_nc_gid=bb64bc9e225f4ab1b7ee2072cdec2f4b&edm=ABmJApABAAAA&ccb=7-5&oh=00_AYDH3mzSM1D9Fwkdcqi1ylWHVE5BADFNRaAuY4lCxrxG7g&oe=66F4E4C9&_nc_sid=b41fef], thumbnail_duration=0.8568190476190476, rendered_width=96, thumbnail_height=178, file_size_kb=350, total_thumbnail_num_per_sprite=105, thumbnails_per_row=15, sprite_width=1500, thumbnail_width=100}}, candidates=[{width=360, scans_profile=e15, url=https://scontent-iad3-2.cdninstagram.com/v/t51.29350-15/460548809_490560080465559_2931608726426922966_n.jpg?stp=dst-jpg_e15_p360x360_tt7&_nc_cb=dae8a7dc-1d7da1ac&efg=eyJ2ZW5jb2RlX3RhZyI6ImltYWdlX3VybGdlbi43MjB4MTI4MC5zZHIuZjI5MzUwLmRlZmF1bHRfY292ZXJfZnJhbWUuanBlZ2xpX2NvbnRyb2wifQ&_nc_ht=scontent-iad3-2.cdninstagram.com&_nc_cat=103&_nc_ohc=DlcdSkHzkbQQ7kNvgFX5TbG&_nc_gid=bb64bc9e225f4ab1b7ee2072cdec2f4b&edm=ABmJApABAAAA&ccb=7-5&ig_cache_key=MzQ2MDA3MTcwOTkzNDM5OTE2Nw%3D%3D.3-ccb7-5&oh=00_AYDK3uwaLOu4msIpsV3xU2u5OGyMtW5Dsmgjh8fxoYpiWw&oe=66F4F0D2&_nc_sid=b41fef, height=640}], additional_candidates={smart_frame=null, igtv_first_frame={width=360, scans_profile=e15, url=https://scontent-iad3-2.cdninstagram.com/v/t51.2885-15/460549224_1217018992948104_7948081931666871826_n.jpg?stp=dst-jpg_e15_p360x360_tt7&_nc_cb=dae8a7dc-1d7da1ac&efg=eyJ2ZW5jb2RlX3RhZyI6ImltYWdlX3VybGdlbi42NDB4MTEzNi5zZHIuZjcxODc4LmFkZGl0aW9uYWxfY292ZXJfZnJhbWUuanBlZ2xpX2NvbnRyb2wifQ&_nc_ht=scontent-iad3-2.cdninstagram.com&_nc_cat=100&_nc_ohc=-UTaUisBJN8Q7kNvgFCR94H&edm=ABmJApABAAAA&ccb=7-5&oh=00_AYDL3OI_TQFjF95jPsRF2TkQxN3IjPzF1X4xwpsmVxSD9Q&oe=66F4FD72&_nc_sid=b41fef, height=639}, first_frame={width=360, scans_profile=e15, url=https://scontent-iad3-2.cdninstagram.com/v/t51.2885-15/460549224_1217018992948104_7948081931666871826_n.jpg?stp=dst-jpg_e15_p360x360_tt7&_nc_cb=dae8a7dc-1d7da1ac&efg=eyJ2ZW5jb2RlX3RhZyI6ImltYWdlX3VybGdlbi42NDB4MTEzNi5zZHIuZjcxODc4LmFkZGl0aW9uYWxfY292ZXJfZnJhbWUuanBlZ2xpX2NvbnRyb2wifQ&_nc_ht=scontent-iad3-2.cdninstagram.com&_nc_cat=100&_nc_ohc=-UTaUisBJN8Q7kNvgFCR94H&edm=ABmJApABAAAA&ccb=7-5&oh=00_AYDL3OI_TQFjF95jPsRF2TkQxN3IjPzF1X4xwpsmVxSD9Q&oe=66F4FD72&_nc_sid=b41fef, height=639}}}                                                                                |\n",
            "+-------------------------------+-----------+----------------+----------+-------------+-------------+------------------+------------------------+-------------------------------------------------------------------------------------------------------------------------------------------------------------------------------------------------------------------------------------------------------------------------------------------------------------------------------------------------------------------------------------------------------------------------------------------------------------------------------------------------------------------------------------------------------------------------------------------------------------------------------------------------------------------------------------------------------------------------------------------------------------------------------------------------------------------------------------------------------------------------------------------------------------------------------------------------------------------------------------------------------------------------------------------------------------------------------------------------------------------------------------------------------------------------------------------------------------------------------------------------------------------------------------------------------------------------------------------------------------------------------------------------------------------------------------------------------------------------------------------------------------------------------------------------------------------------------------------------------------------------------------------------------------------------------------------------------------------------------------------------------------------------------------------------------------------------------------------------------------------------------------------------------------------------------------------------------------------------------------------------------------------------------------------------------------------------------------------------------------------------------------------------------------------------------------------------------------------------------------------------------------------------------------------------------------------------------------------------------------------------------------------------------------------------------------------------------------------------------------------------------------------------------------------------------------------------------------------------------------------------------------------------------------------------------------------------------------------------------------------------------------------------------------------------------------------------------------------------------------------------------------------------------------------------------------------------------------------------------------------------------------------------------------+-----------------------------+-----------------------------------------------------------------------------------------------------------------------------------------------------------------------------------------------------------------------------------------------------------------------------------------------------------------------------------------------------------------------------------------------------------------------------------------------------------------------------------------------------------------------------------------------------------------------------------------------------------------------------------------------------------------------------------------------------------------------------------------------------------------------------------------------------------------------------------------------------------------------------------------------------------------------------------------------------------------------------------------------------------------------------------------------------------------------------------------------------------------------------------------------------------------------------------------------------------------------------------------------------------------------------------------------------------------------------------------------------------------------------------------------------------------------------------------------------------------------------------------------------------------------------------------------------------------------------------------------------------------------------------------------------------------------------------------------------------------------------------------------------------------------------------------------------------------------------------------------------------------------------------------------------------------------------------------------------------------------------------------------------------------------------------------------------------------------------------------------------------------------------------------------------------------------------------------------------------------------------------------------------------------------------------------------------------------------------------------------------------------------------------------------------------------------------------------------------------------------------------------------------------------------------------------------------------------------------------------------+\n",
            "only showing top 10 rows\n",
            "\n"
          ]
        }
      ],
      "source": [
        "df_posts = spark.read.parquet('/content/drive/MyDrive/Datalake/Instagram/Posts/')\n",
        "\n",
        "df_posts.createOrReplaceTempView(\"df_posts\")\n",
        "\n",
        "spark.sql(\"\"\"\n",
        "SELECT\n",
        "    id AS post_id,\n",
        "    code,\n",
        "    device_timestamp,\n",
        "    like_count,\n",
        "    comment_count,\n",
        "    reshare_count,\n",
        "    product_type,\n",
        "    timeline_pinned_user_ids,\n",
        "    coauthor_producers,\n",
        "    like_and_view_counts_disabled,\n",
        "    image_versions2\n",
        "FROM df_posts\n",
        "\"\"\"\n",
        ").show(10, truncate=False)\n"
      ]
    },
    {
      "cell_type": "code",
      "execution_count": null,
      "metadata": {
        "colab": {
          "base_uri": "https://localhost:8080/"
        },
        "id": "h-Y186ZIseC6",
        "outputId": "20044f1c-4136-41c3-9f0c-5d1b84756ece"
      },
      "outputs": [
        {
          "name": "stdout",
          "output_type": "stream",
          "text": [
            "+-----------------+-----------+------------------------------------------------------------------------------------------------------------------------------------------------------+------------------+-------------------+------------------+-----------------------+----------------+-----------------------+\n",
            "|pk               |user_id    |text                                                                                                                                                  |comment_like_count|child_comment_count|user_username     |user_full_name         |user_is_verified|ts_exec                |\n",
            "+-----------------+-----------+------------------------------------------------------------------------------------------------------------------------------------------------------+------------------+-------------------+------------------+-----------------------+----------------+-----------------------+\n",
            "|18064855975625310|1985716545 |Acreditem , mas eu terminei hj de assistir essa série, fiquei viciado , todos dias saia do trabalho já pensando em vir assistir. Pena que já acabei :/|0                 |0                  |marcelo.knuth     |Marcelo Knuth          |false           |2024-09-18 05:03:38.878|\n",
            "|18042789332497219|1751489746 |Dpois dessa, a 2a regra da vida p ele aprender é assistindo Peak Blinders 🤭👍🏻👍🏻                                                                  |0                 |0                  |josielesilveira94 |Josiele Silveira       |false           |2024-09-18 05:03:38.878|\n",
            "|18072521242569664|2736662440 |                                                                                                                                                      |1                 |0                  |3v3rt0n71         |Έβερτον αχλαδιά Πιατάκι|false           |2024-09-18 05:03:38.878|\n",
            "|18060940513600206|56434035088|Melhor série é #thewalkingdead                                                                                                                        |0                 |0                  |pedro_henrique52xs|pedruu🖤               |false           |2024-09-18 05:03:38.878|\n",
            "|18046114975802903|493429558  |                                                                                                                                                      |0                 |0                  |luisfelipe.sccopo |Luis Felipe Matos      |false           |2024-09-18 05:03:38.878|\n",
            "|18052116352880529|8293563034 |Nossa, umas das melhores séries que vi!  W.W                                                                                                          |0                 |0                  |kwienke1990       |Kathleen Wienke        |false           |2024-09-18 05:03:38.878|\n",
            "|18052952194869603|347236076  |Ainda hoje comprei uma camiseta dos Pollos Hermanos linda kkk                                                                                         |0                 |0                  |iko.art           |Iko Art 🪼             |false           |2024-09-18 05:03:38.878|\n",
            "|18044326576956886|292338817  |Orgulho                                                                                                                                               |0                 |0                  |lpontomeira       |Lucas Meira            |false           |2024-09-18 05:03:38.878|\n",
            "|18045557086821520|4109655050 |Breaking bad e Prison break! O resto é resto!                                                                                                         |0                 |0                  |jonny.jean        |Jean Jonny             |false           |2024-09-18 05:03:38.878|\n",
            "|17861699712234914|4109655050 |😍😍😍                                                                                                                                                |0                 |0                  |jonny.jean        |Jean Jonny             |false           |2024-09-18 05:03:38.878|\n",
            "+-----------------+-----------+------------------------------------------------------------------------------------------------------------------------------------------------------+------------------+-------------------+------------------+-----------------------+----------------+-----------------------+\n",
            "only showing top 10 rows\n",
            "\n"
          ]
        }
      ],
      "source": [
        "df_comments = spark.read.parquet('/content/drive/MyDrive/Datalake/Instagram/Comments/')\n",
        "\n",
        "df_comments.createOrReplaceTempView(\"df_comments\")\n",
        "\n",
        "spark.sql(\"\"\"\n",
        "SELECT *\n",
        "FROM df_comments\n",
        "\"\"\"\n",
        ").show(10, truncate=False)\n"
      ]
    },
    {
      "cell_type": "code",
      "execution_count": null,
      "metadata": {
        "colab": {
          "base_uri": "https://localhost:8080/"
        },
        "id": "gHcBY5oMt8Hf",
        "outputId": "2d81f7a0-c706-4d01-927e-a959522a2f7f"
      },
      "outputs": [
        {
          "name": "stdout",
          "output_type": "stream",
          "text": [
            "+-----------------+------------------------------------------------------------------------------------------------------------------------------------------------------+-----------------------------------------------------------------+---------------------+\n",
            "|pk               |text_original                                                                                                                                         |classification                                                   |ts_exec              |\n",
            "+-----------------+------------------------------------------------------------------------------------------------------------------------------------------------------+-----------------------------------------------------------------+---------------------+\n",
            "|18064855975625310|Acreditem , mas eu terminei hj de assistir essa série, fiquei viciado , todos dias saia do trabalho já pensando em vir assistir. Pena que já acabei :/|Positive                                                         |2024-09-18 05:04:09.5|\n",
            "|18042789332497219|Dpois dessa, a 2a regra da vida p ele aprender é assistindo Peak Blinders 🤭👍🏻👍🏻                                                                  |Humorous                                                         |2024-09-18 05:04:09.5|\n",
            "|18072521242569664|                                                                                                                                                      |Please provide me with the comment you would like me to classify.|2024-09-18 05:04:09.5|\n",
            "|18060940513600206|Melhor série é #thewalkingdead                                                                                                                        |Positive                                                         |2024-09-18 05:04:09.5|\n",
            "|18046114975802903|                                                                                                                                                      |Please provide the comment you would like classified.            |2024-09-18 05:04:09.5|\n",
            "|18052116352880529|Nossa, umas das melhores séries que vi!  W.W                                                                                                          |Positive                                                         |2024-09-18 05:04:09.5|\n",
            "|18052952194869603|Ainda hoje comprei uma camiseta dos Pollos Hermanos linda kkk                                                                                         |Positive                                                         |2024-09-18 05:04:09.5|\n",
            "|18044326576956886|Orgulho                                                                                                                                               |Neutral                                                          |2024-09-18 05:04:09.5|\n",
            "|18045557086821520|Breaking bad e Prison break! O resto é resto!                                                                                                         |Positive                                                         |2024-09-18 05:04:09.5|\n",
            "|17861699712234914|😍😍😍                                                                                                                                                |Positive                                                         |2024-09-18 05:04:09.5|\n",
            "+-----------------+------------------------------------------------------------------------------------------------------------------------------------------------------+-----------------------------------------------------------------+---------------------+\n",
            "only showing top 10 rows\n",
            "\n"
          ]
        }
      ],
      "source": [
        "df_classified_comments = spark.read.parquet('/content/drive/MyDrive/Datalake/Instagram/Classified_comments/')\n",
        "\n",
        "df_classified_comments.createOrReplaceTempView(\"df_classified_comments\")\n",
        "\n",
        "spark.sql(\"\"\"\n",
        "SELECT *\n",
        "FROM df_classified_comments\n",
        "\"\"\"\n",
        ").show(10, truncate=False)\n"
      ]
    },
    {
      "cell_type": "code",
      "execution_count": null,
      "metadata": {
        "colab": {
          "base_uri": "https://localhost:8080/"
        },
        "id": "WlrzwJNgysaf",
        "outputId": "69e0c482-37a9-4112-8558-3855fab5ef7a"
      },
      "outputs": [
        {
          "name": "stdout",
          "output_type": "stream",
          "text": [
            "+--------------+-----------------------+\n",
            "|follower_count|ts_exec                |\n",
            "+--------------+-----------------------+\n",
            "|822214        |2024-09-21 19:04:30.894|\n",
            "|820374        |2024-09-18 05:03:20.26 |\n",
            "+--------------+-----------------------+\n",
            "\n"
          ]
        }
      ],
      "source": [
        "# 1. Influencer's Number of Followers\n",
        "followers_count_query = \"\"\"\n",
        "SELECT\n",
        "    follower_count,\n",
        "    ts_exec\n",
        "FROM df_profile\n",
        "ORDER BY ts_exec DESC\n",
        "\"\"\"\n",
        "followers_count = spark.sql(followers_count_query)\n",
        "followers_count.show(truncate=False)\n"
      ]
    },
    {
      "cell_type": "code",
      "execution_count": null,
      "metadata": {
        "colab": {
          "base_uri": "https://localhost:8080/"
        },
        "id": "8ruzb1OXzcHk",
        "outputId": "704fedb6-a875-4704-b8b3-6a2a411a84e7"
      },
      "outputs": [
        {
          "name": "stdout",
          "output_type": "stream",
          "text": [
            "+------------------+---------------+---------------------------+-----------------+\n",
            "|qnt_posts_analyzed|total_followers|sum_likes_comments_reshares|  engagement_rate|\n",
            "+------------------+---------------+---------------------------+-----------------+\n",
            "|                48|         822214|                   888473.0|2.251220991939649|\n",
            "+------------------+---------------+---------------------------+-----------------+\n",
            "\n"
          ]
        }
      ],
      "source": [
        "# 2. Engagement Rate (AVG per Post) - (Sum of Interactions across Multiple Posts / (Number of Posts * Number of Followers)) * 100\n",
        "engagement_rate_query = \"\"\"\n",
        "SELECT\n",
        "    COUNT(post.id) AS qnt_posts_analyzed,\n",
        "    prof.follower_count AS total_followers,\n",
        "    SUM(post.like_count + post.comment_count + post.reshare_count) AS sum_likes_comments_reshares,\n",
        "    (SUM(post.like_count + post.comment_count + post.reshare_count) / (COUNT(post.id) * prof.follower_count)) * 100 AS engagement_rate\n",
        "FROM df_posts post\n",
        "CROSS JOIN df_profile prof\n",
        "WHERE prof.ts_exec = (SELECT MAX(ts_exec) FROM df_profile) -- Último número de seguidores registrado\n",
        "GROUP BY prof.follower_count\n",
        "\"\"\"\n",
        "engagement_rate = spark.sql(engagement_rate_query)\n",
        "engagement_rate.show()\n"
      ]
    },
    {
      "cell_type": "code",
      "execution_count": null,
      "metadata": {
        "colab": {
          "base_uri": "https://localhost:8080/"
        },
        "id": "DeLC8GFHFN8a",
        "outputId": "659a82cf-fc1f-4d3e-b389-7d725be06676"
      },
      "outputs": [
        {
          "name": "stdout",
          "output_type": "stream",
          "text": [
            "+------------------+-----------+------------------+\n",
            "|qnt_posts_analyzed|total_likes|         avg_likes|\n",
            "+------------------+-----------+------------------+\n",
            "|                48|   584287.0|12172.645833333334|\n",
            "+------------------+-----------+------------------+\n",
            "\n"
          ]
        }
      ],
      "source": [
        "# 3. AVG Likes per Post\n",
        "avg_likes_query = \"\"\"\n",
        "SELECT\n",
        "    COUNT(post.id) AS qnt_posts_analyzed,\n",
        "    SUM(post.like_count) AS total_likes,\n",
        "    SUM(post.like_count) / COUNT(post.id) AS avg_likes\n",
        "FROM df_posts post\n",
        "\"\"\"\n",
        "avg_likes = spark.sql(avg_likes_query)\n",
        "avg_likes.show()\n"
      ]
    },
    {
      "cell_type": "code",
      "execution_count": null,
      "metadata": {
        "colab": {
          "base_uri": "https://localhost:8080/"
        },
        "id": "o6jMJ3TtHezW",
        "outputId": "5edecf1e-c45d-489c-c14c-029eeedcaa1a"
      },
      "outputs": [
        {
          "name": "stdout",
          "output_type": "stream",
          "text": [
            "+------------------+--------------+-----------------+\n",
            "|qnt_posts_analyzed|total_comments|     avg_comments|\n",
            "+------------------+--------------+-----------------+\n",
            "|                48|       13124.0|273.4166666666667|\n",
            "+------------------+--------------+-----------------+\n",
            "\n"
          ]
        }
      ],
      "source": [
        "# 4. AVG Comments per Post\n",
        "avg_comments_query = \"\"\"\n",
        "SELECT\n",
        "    COUNT(post.id) AS qnt_posts_analyzed,\n",
        "    SUM(post.comment_count) AS total_comments,\n",
        "    SUM(post.comment_count) / COUNT(post.id) AS avg_comments\n",
        "FROM df_posts post\n",
        "\"\"\"\n",
        "avg_comments = spark.sql(avg_comments_query)\n",
        "avg_comments.show()\n"
      ]
    },
    {
      "cell_type": "code",
      "execution_count": null,
      "metadata": {
        "colab": {
          "base_uri": "https://localhost:8080/"
        },
        "id": "2ZtmFQH1IDBW",
        "outputId": "124435b7-9d95-4823-8c60-4eec79dda53b"
      },
      "outputs": [
        {
          "name": "stdout",
          "output_type": "stream",
          "text": [
            "+-------------+-----------------------+------------------------+------------------+\n",
            "|influencer_id|current_followers_count|previous_followers_count|       growth_rate|\n",
            "+-------------+-----------------------+------------------------+------------------+\n",
            "|    482001976|                 822214|                  820374|0.2242879467169852|\n",
            "+-------------+-----------------------+------------------------+------------------+\n",
            "\n"
          ]
        }
      ],
      "source": [
        "# 5. Follower Growth Rate\n",
        "follower_growth_query = \"\"\"\n",
        "SELECT\n",
        "    prof.id AS influencer_id,\n",
        "    MAX(prof.follower_count) AS current_followers_count,\n",
        "    MIN(prof.follower_count) AS previous_followers_count,\n",
        "    ((MAX(prof.follower_count) - MIN(prof.follower_count)) / MIN(prof.follower_count)) * 100 AS growth_rate\n",
        "FROM df_profile prof\n",
        "GROUP BY prof.id\n",
        "\"\"\"\n",
        "follower_growth = spark.sql(follower_growth_query)\n",
        "follower_growth.show()\n"
      ]
    },
    {
      "cell_type": "code",
      "execution_count": null,
      "metadata": {
        "colab": {
          "base_uri": "https://localhost:8080/"
        },
        "id": "wZXjJitCJomZ",
        "outputId": "59238fe7-931b-4e00-c393-069304c924ea"
      },
      "outputs": [
        {
          "name": "stdout",
          "output_type": "stream",
          "text": [
            "+---------------------+--------+--------+--------+-------+\n",
            "|qnt_comments_analyzed|positive|negative|humorous|neutral|\n",
            "+---------------------+--------+--------+--------+-------+\n",
            "|                   40|      19|       1|       2|     18|\n",
            "+---------------------+--------+--------+--------+-------+\n",
            "\n"
          ]
        }
      ],
      "source": [
        "# 6. Sentiment of Comments\n",
        "sentiment_analysis_query = \"\"\"\n",
        "SELECT\n",
        "    COUNT(c.classification) AS qnt_comments_analyzed,\n",
        "    SUM(CASE WHEN c.classification = 'Positive' THEN 1 ELSE 0 END) AS positive,\n",
        "    SUM(CASE WHEN c.classification = 'Negative' THEN 1 ELSE 0 END) AS negative,\n",
        "    SUM(CASE WHEN c.classification = 'Humorous' THEN 1 ELSE 0 END) AS humorous,\n",
        "    SUM(CASE WHEN c.classification NOT IN ('Positive', 'Humorous', 'Negative') THEN 1 ELSE 0 END) AS neutral\n",
        "FROM df_classified_comments c\n",
        "\"\"\"\n",
        "sentiment_analysis = spark.sql(sentiment_analysis_query)\n",
        "sentiment_analysis.show()\n"
      ]
    },
    {
      "cell_type": "code",
      "execution_count": null,
      "metadata": {
        "colab": {
          "base_uri": "https://localhost:8080/"
        },
        "id": "RLz6kUTLU8Zl",
        "outputId": "5898f7e0-1b3e-427b-e56c-0cf888a17eec"
      },
      "outputs": [
        {
          "name": "stdout",
          "output_type": "stream",
          "text": [
            "+------------------+------------------+\n",
            "|qnt_posts_analyzed|    posts_per_week|\n",
            "+------------------+------------------+\n",
            "|                48|2.0869565217391304|\n",
            "+------------------+------------------+\n",
            "\n"
          ]
        }
      ],
      "source": [
        "# 7. Posting Frequency (Number of Posts per Week)\n",
        "post_frequency_query = \"\"\"\n",
        "SELECT\n",
        "    COUNT(id) AS qnt_posts_analyzed,\n",
        "    COUNT(id) / COUNT(DISTINCT WEEKOFYEAR(to_timestamp(device_timestamp / 1000))) AS posts_per_week\n",
        "FROM df_posts\n",
        "\"\"\"\n",
        "post_frequency = spark.sql(post_frequency_query)\n",
        "post_frequency.show()\n"
      ]
    },
    {
      "cell_type": "code",
      "execution_count": null,
      "metadata": {
        "colab": {
          "base_uri": "https://localhost:8080/"
        },
        "id": "UoP2O3SLxT2s",
        "outputId": "2dd3b325-228f-48ab-8de2-411a102e741a"
      },
      "outputs": [
        {
          "name": "stdout",
          "output_type": "stream",
          "text": [
            "+------------------+--------------+\n",
            "|      product_type|count_per_type|\n",
            "+------------------+--------------+\n",
            "|             clips|            27|\n",
            "|              feed|            20|\n",
            "|carousel_container|             1|\n",
            "+------------------+--------------+\n",
            "\n"
          ]
        }
      ],
      "source": [
        "# 8. Content Variety (Distribution of Media Types)\n",
        "media_distribution_query = \"\"\"\n",
        "SELECT\n",
        "    product_type,\n",
        "    COUNT(*) AS count_per_type\n",
        "FROM df_posts\n",
        "GROUP BY product_type\n",
        "\"\"\"\n",
        "media_distribution = spark.sql(media_distribution_query)\n",
        "media_distribution.show()\n"
      ]
    }
  ],
  "metadata": {
    "colab": {
      "provenance": [],
      "toc_visible": true
    },
    "kernelspec": {
      "display_name": "Python 3",
      "name": "python3"
    },
    "language_info": {
      "name": "python"
    }
  },
  "nbformat": 4,
  "nbformat_minor": 0
}
