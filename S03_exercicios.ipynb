{
  "cells": [
    {
      "cell_type": "markdown",
      "metadata": {
        "id": "EzT810tnlmfE"
      },
      "source": [
        "**EXERCÍCIOS**"
      ]
    },
    {
      "cell_type": "markdown",
      "metadata": {
        "id": "p62-CTXgvn5E"
      },
      "source": [
        "1 - Escrever um programa que lê 5 valores para a, um de cada vez, e conta quantos destes valores são negativos, escrevendo esta informação."
      ]
    },
    {
      "cell_type": "code",
      "execution_count": null,
      "metadata": {
        "id": "gU8NkXNYvmZv"
      },
      "outputs": [],
      "source": [
        "quantidade_negativos = 0\n",
        "\n",
        "for i in range(1, 6):\n",
        "    a = int(input(f'Informe o {i}º valor: '))\n",
        "\n",
        "    if a < 0:\n",
        "        quantidade_negativos += 1\n",
        "\n",
        "    print(f'{i}º valor: {a}')\n",
        "\n",
        "print(f'Foram informados {quantidade_negativos} números negativos.')\n"
      ]
    },
    {
      "cell_type": "markdown",
      "metadata": {
        "id": "59g_B9yRvqYS"
      },
      "source": [
        "2 - A prefeitura de uma cidade fez uma pesquisa entre seus habitantes, coletando dados sobre o salário e número de filhos. A prefeitura deseja saber:\n",
        "\n",
        "a) média do salário da população;\n",
        "\n",
        "b) média do número de filhos;\n",
        "\n",
        "c) maior salário;\n",
        "\n",
        "d) percentual de pessoas com salário até R$2000,00.\n",
        "\n",
        "Escreva um programa que receba as informações necessárias de 5 pessoas conforme a descrição e responda às questões a, b, c e d anteriores.\n"
      ]
    },
    {
      "cell_type": "code",
      "execution_count": null,
      "metadata": {
        "id": "hz6OkEJBv52O"
      },
      "outputs": [],
      "source": [
        "maior_salario = 0\n",
        "media_salarios = 0\n",
        "media_de_filhos = 0\n",
        "cont_percentual = 0\n",
        "\n",
        "for i in range(1, 6):\n",
        "    salario = float(input(f'Informe o {i}º salário: '))\n",
        "    numero_de_filhos = int(input('Informe o número de filhos: '))\n",
        "    media_salarios = media_salarios + salario\n",
        "    media_de_filhos = media_de_filhos + numero_de_filhos\n",
        "\n",
        "    if maior_salario < salario:\n",
        "        maior_salario = salario\n",
        "    \n",
        "    if salario <= 2000:\n",
        "        cont_percentual +=1\n",
        "\n",
        "media_salarios = media_salarios / 5\n",
        "media_de_filhos = media_de_filhos / 5\n",
        "cont_percentual = cont_percentual / 5 * 100\n",
        "\n",
        "print(f'Média de salário da população: R${media_salarios:.2f}')\n",
        "print(f'Média do número de filhos: {media_de_filhos}')\n",
        "print(f'Maior salário informado: R${maior_salario:.2f}')\n",
        "print(f'Percentual de pessoas com salário até R$2000,00: {cont_percentual}%')"
      ]
    },
    {
      "cell_type": "markdown",
      "metadata": {
        "id": "V-7kNtvtwDN1"
      },
      "source": [
        "3 - Chico tem 1,50 metro e cresce 2 centímetros por ano, enquanto Zé tem 1,10 metro e cresce 3 centímetros por ano. Construa um programa que calcule e imprima quantos anos serão necessários para que Zé seja maior que Chico."
      ]
    },
    {
      "cell_type": "code",
      "execution_count": null,
      "metadata": {
        "id": "Xlx4kqLpwE4L"
      },
      "outputs": [],
      "source": [
        "tamanho_chico = 1.50\n",
        "tamanho_ze = 1.10\n",
        "quantidade_anos = 0\n",
        "\n",
        "while tamanho_ze < tamanho_chico:  \n",
        "    tamanho_chico = tamanho_chico + 0.02\n",
        "    tamanho_ze = tamanho_ze + 0.03\n",
        "    quantidade_anos += 1 \n",
        "\n",
        "print(f'Serão necessários {quantidade_anos} anos para que Zé seja maior que Chico.')"
      ]
    },
    {
      "cell_type": "markdown",
      "metadata": {
        "id": "BU7x-lumwGRO"
      },
      "source": [
        "4 - Em uma eleição presidencial existem dois candidatos. Os votos são informados através de códigos. Os dados utilizados para a contagem dos votos obedecem à seguinte codificação:  \n",
        "\n",
        "1, 2 = voto para os respectivos candidatos\n",
        "\n",
        "3 = voto nulo\n",
        "\n",
        "4 = voto em branco;\n",
        "\n",
        "Elabore um programa que leia o código de votação de 5 candidatos. Calcule e escreva:\n",
        "- total de votos para cada candidato\n",
        "- total de votos nulos\n",
        "- total de votos em branco\n"
      ]
    },
    {
      "cell_type": "code",
      "execution_count": null,
      "metadata": {
        "id": "tnOkAb44wQo5"
      },
      "outputs": [],
      "source": [
        "candidato1 = 0\n",
        "candidato2 = 0\n",
        "nulos = 0\n",
        "brancos = 0\n",
        "\n",
        "for i in range(5):\n",
        "    voto = int(input('Vote 1 (Candidato 1), 2 (Candidato 2), 3 (Nulo) ou 4 (Branco)'))\n",
        "\n",
        "    if voto == 1:\n",
        "        candidato1 += 1\n",
        "    elif voto == 2:\n",
        "        candidato2 += 1\n",
        "    elif voto == 3:\n",
        "        nulos += 1\n",
        "    else:\n",
        "        brancos += 1\n",
        "\n",
        "print(f'Candidato 1: {candidato1}')\n",
        "print(f'Candidato 2: {candidato2}')\n",
        "print(f'Nulos: {nulos}')\n",
        "print(f'Em Branco: {brancos}')"
      ]
    },
    {
      "cell_type": "markdown",
      "metadata": {
        "id": "oNyazyHPwzlo"
      },
      "source": [
        "5 - Escreva um programa que receba o nome de 10 pessoas e para cada pessoa, o lugar para o qual ela já viajou. Sendo que existem 3 possibilidades:\n",
        "- Rio de Janeiro\n",
        "- Bahia\n",
        "- Minas Gerais\n",
        "\n",
        "Após, informar qual foi o destino mais visitado e qual o menos visitado.\n"
      ]
    },
    {
      "cell_type": "code",
      "execution_count": null,
      "metadata": {
        "id": "FzTr2EY1w2Ey"
      },
      "outputs": [],
      "source": [
        "rio_de_janeiro = 0\n",
        "bahia = 0\n",
        "minas_gerais = 0\n",
        "\n",
        "for i in range(1, 11):\n",
        "    nome = str(input(f'{i} - Informe seu nome: '))\n",
        "    print(nome)\n",
        "    lugar_que_viajou = int(input('Informe o lugar (1 - Rio de Janeiro / 2 - Bahia / 3 - Minas Gerais) para o qual viajou: '))\n",
        "\n",
        "    if lugar_que_viajou == 1:\n",
        "        rio_de_janeiro += 1\n",
        "    elif lugar_que_viajou == 2:\n",
        "        bahia += 1\n",
        "    else:\n",
        "        minas_gerais += 1\n",
        "\n",
        "if rio_de_janeiro > bahia and rio_de_janeiro > minas_gerais:\n",
        "    print(f'O destino mais visitado foi o Rio de Janeiro')\n",
        "elif bahia > rio_de_janeiro and bahia > minas_gerais:\n",
        "    print(f'O destino mais visitado foi a Bahia')\n",
        "else:\n",
        "    print(f'O destino mais visitado foi Minas Gerais')\n",
        "\n",
        "if rio_de_janeiro < bahia and rio_de_janeiro < minas_gerais:\n",
        "    print(f'O destino menos visitado foi o Rio de Janeiro')\n",
        "elif bahia < rio_de_janeiro and bahia < minas_gerais:\n",
        "    print(f'O destino menos visitado foi a Bahia')\n",
        "else:\n",
        "    print(f'O destino menos visitado foi Minas Gerais')\n"
      ]
    },
    {
      "cell_type": "markdown",
      "metadata": {
        "id": "HVJPsqTcw95-"
      },
      "source": [
        "6 -  A série de Fibonacci é formada pela sequência 1,1,2,3,5,8,13,21,34,55,... Faça um programa capaz de gerar a série até o n−ésimo termo."
      ]
    },
    {
      "cell_type": "code",
      "execution_count": null,
      "metadata": {
        "id": "ZwgmpSgGw-v3"
      },
      "outputs": [],
      "source": [
        "n = int(input(\"Informe o número de termos: \"))\n",
        "\n",
        "num1 = 1\n",
        "num2 = 0 \n",
        "\n",
        "print(num1, end=\" \")\n",
        "\n",
        "for i in range(2, n+1):\n",
        "    soma = num1 + num2\n",
        "    print(soma, end=\" \")\n",
        "    num2 = num1 \n",
        "    num1 = soma"
      ]
    },
    {
      "cell_type": "markdown",
      "metadata": {
        "id": "DaF7vXEWxB6R"
      },
      "source": [
        "7 - Escreva um programa que conte em ordem reversa, de 25 a zero."
      ]
    },
    {
      "cell_type": "code",
      "execution_count": null,
      "metadata": {
        "id": "2AYe_lX2xCdj"
      },
      "outputs": [],
      "source": [
        "contador = 25\n",
        "\n",
        "while True:\n",
        "    print(contador, end=\" \")\n",
        "    \n",
        "    if contador > 0:\n",
        "        contador -= 1\n",
        "    else:\n",
        "        break"
      ]
    },
    {
      "cell_type": "markdown",
      "metadata": {
        "id": "Oc2yjIGqxF3h"
      },
      "source": [
        "8 - Crie um programa para que retorne o somatório de todos os números entre 1 e um valor fornecido pelo usuário. Por exemplo, se o usuário fornecer o número 4, o computador deverá calcular o somatório 1+ 2 + 3 + 4 = 10."
      ]
    },
    {
      "cell_type": "code",
      "execution_count": null,
      "metadata": {
        "id": "m5gfIfomxGwe"
      },
      "outputs": [],
      "source": [
        "soma = 0\n",
        "\n",
        "n = int(input('Informe um valor: '))\n",
        "\n",
        "for i in range(1, n+1):\n",
        "    soma = soma + i\n",
        "\n",
        "print(f'A soma de todos os números entre 1 e {n} é {soma}')"
      ]
    },
    {
      "cell_type": "markdown",
      "metadata": {
        "id": "5D368hETyJQh"
      },
      "source": [
        "9 - Escreva um programa que leia a idade e salário de 10 pessoas. Informe em seguida:\n",
        "\n",
        "Qual é a média de idade entre as pessoas?\n",
        "\n",
        "Quantas pessoas há por faixa etária, considerando:\n",
        "- jovens < 18\n",
        "- 18 <= adultos < 60\n",
        "- idosos >= 60\n",
        "\n",
        "Em seguida, mostre qual é a faixa etária que acumula o maior salário.\n"
      ]
    },
    {
      "cell_type": "code",
      "execution_count": null,
      "metadata": {
        "id": "zZsS7JHm0UY6"
      },
      "outputs": [],
      "source": [
        "media_idade = 0\n",
        "cont_jovens, cont_adultos, cont_idosos = 0, 0, 0\n",
        "soma_salario_jovens, soma_salario_adultos, soma_salario_idosos = 0, 0, 0\n",
        "\n",
        "for i in range(1, 11):\n",
        "    idade = int(input(f'{i} - Informe sua idade:'))\n",
        "    salario = float(input(f'{i} - Informe seu salário: '))\n",
        "\n",
        "    media_idade = media_idade + idade\n",
        "\n",
        "    if idade < 18:\n",
        "        cont_jovens += 1 \n",
        "        soma_salario_jovens = soma_salario_jovens + salario\n",
        "    elif idade >= 18 and idade < 60:\n",
        "        cont_adultos += 1\n",
        "        soma_salario_adultos = soma_salario_adultos + salario\n",
        "    else:\n",
        "        cont_idosos += 1 \n",
        "        soma_salario_idosos = soma_salario_idosos + salario\n",
        "\n",
        "media_idade = media_idade / 10\n",
        "\n",
        "print(f'A média de idade é de {media_idade:.1f} anos')\n",
        "print(f'Quantidade de jovens: {cont_jovens}')\n",
        "print(f'Quantidade de adultos: {cont_adultos}')\n",
        "print(f'Quantidade de idosos: {cont_idosos}')\n",
        "\n",
        "if soma_salario_jovens > soma_salario_adultos and soma_salario_jovens > soma_salario_idosos:\n",
        "    print('Os Jovens são a faixa etária que acumula o maior salário')\n",
        "elif soma_salario_adultos > soma_salario_jovens and soma_salario_adultos > soma_salario_idosos:\n",
        "    print('Os Adultos são a faixa etária que acumula o maior salário')\n",
        "else:\n",
        "    print('Os Idosos são a faixa etária que acumula o maior salário')"
      ]
    },
    {
      "cell_type": "markdown",
      "metadata": {
        "id": "L4xlYJzdhZyV"
      },
      "source": [
        "10 - Crie uma calculadora simples que realiza operações de adição, subtração, multiplicação, divisão e exponenciação. O programa deve continuar pedindo operações até que o usuário escolha sair."
      ]
    },
    {
      "cell_type": "code",
      "execution_count": null,
      "metadata": {
        "id": "t1GTUaOshazK"
      },
      "outputs": [],
      "source": [
        "continuar_parar = 0\n",
        "\n",
        "while True:\n",
        "\n",
        "    num1 = float(input('Informe um número: '))\n",
        "    operador = int(input('Escolha (1 - Adição), (2 - Subtração), (3 - Multiplicação), (4 - Divisão) ou (5 - Exponenciação): '))\n",
        "    num2 = float(input('Informe outro número: '))\n",
        "\n",
        "    if operador == 1:\n",
        "        print(f'{num1} + {num2} = ', num1 + num2)\n",
        "    elif operador == 2:\n",
        "        print(f'{num1} - {num2} = ', num1 - num2)\n",
        "    elif operador == 3:\n",
        "        print(f'{num1} x {num2} = ', num1 * num2)\n",
        "    elif operador == 4:\n",
        "        print(f'{num1} / {num2} = ', num1 / num2)\n",
        "    else:\n",
        "        print(f'{num1} elevado a {num2} = ', num1 ** num2)  \n",
        "    \n",
        "    continuar_parar = int(input('Deseja continuar? (1 - Sim) (2 - Não): '))\n",
        "    \n",
        "    if continuar_parar == 2:\n",
        "        break"
      ]
    },
    {
      "cell_type": "markdown",
      "metadata": {
        "id": "TvOVLvpYhohk"
      },
      "source": [
        "11 - Crie um jogo em que o computador escolha um número aleatório entre 1 e 100, e o jogador tenta adivinhá-lo. O programa deve dar dicas se o número é maior ou menor do que o número digitado pelo jogador. O jogo continua até que o jogador acerte o número."
      ]
    },
    {
      "cell_type": "markdown",
      "metadata": {
        "id": "GMjNhBcxo3ks"
      },
      "source": [
        "Exemplo de saída:\n",
        "\n",
        "Bem-vindo ao jogo de adivinhação!\n",
        "\n",
        "Tente adivinhar o número entre 1 e 100.\n",
        "\n",
        "Digite sua tentativa: 50\n",
        "\n",
        "O número é menor.\n",
        "\n",
        "Digite sua tentativa: 75\n",
        "\n",
        "O número é maior.\n",
        "\n",
        "Digite sua tentativa: 63\n",
        "\n",
        "O número é menor.\n",
        "\n",
        "Digite sua tentativa: 68\n",
        "\n",
        "Parabéns! Você acertou o número 68 em 4 tentativas!"
      ]
    },
    {
      "cell_type": "code",
      "execution_count": null,
      "metadata": {
        "id": "wD7WVTzdh3Tf"
      },
      "outputs": [],
      "source": [
        "import random\n",
        "\n",
        "cont_tentativas = 0\n",
        "numero_aleatorio = random.randint(1, 100)\n",
        "\n",
        "print('Bem-vindo ao jogo de adivinhação!')\n",
        "print('Tente adivinhar o número entre 1 e 100.')\n",
        "\n",
        "while True:\n",
        "    tentativa = int(input('Digite sua tentativa: '))\n",
        "    cont_tentativas += 1\n",
        "\n",
        "    if tentativa > numero_aleatorio:\n",
        "        print(f'O número correto é MENOR do que {tentativa}. Tente novamente!')\n",
        "    elif tentativa < numero_aleatorio:\n",
        "        print(f'O número correto é MAIOR do que {tentativa}. Tente novamente!')\n",
        "    else:\n",
        "        print(f'Parabéns! Você acertou o número {numero_aleatorio} em {cont_tentativas} tentativas!')\n",
        "        break"
      ]
    },
    {
      "cell_type": "markdown",
      "metadata": {
        "id": "528JJZodmafY"
      },
      "source": [
        "12 - Escreva um programa que calcula o valor de um investimento após um número específico de anos, considerando juros compostos. O usuário deve fornecer o principal (valor inicial do investimento), a taxa de juros anual (em porcentagem) e o número de anos.\n",
        "\n",
        "A fórmula para calcular o valor de um investimento após n anos com juros compostos é:\n",
        "\n",
        "A=P×(1+r)^n\n",
        "\n",
        "\n",
        "Onde:\n",
        "\n",
        "\n",
        "A é o valor do investimento após n anos,\n",
        "\n",
        "P é o principal (valor inicial do investimento),\n",
        "\n",
        "r é a taxa de juros anual (em decimal), e\n",
        "\n",
        "n é o número de anos."
      ]
    },
    {
      "cell_type": "markdown",
      "metadata": {
        "id": "-6opTpcXoxNw"
      },
      "source": [
        "\n",
        "Exemplo de saída:\n",
        "\n",
        "Digite o principal (R$): 1000\n",
        "\n",
        "Digite a taxa de juros anual (%): 5\n",
        "\n",
        "Digite o número de anos: 10\n",
        "\n",
        "O valor do investimento após 10 anos é: R$ 1628.89"
      ]
    },
    {
      "cell_type": "code",
      "execution_count": null,
      "metadata": {
        "id": "3XHAThk1oFIT"
      },
      "outputs": [],
      "source": [
        "investimento_inicial = float(input('Informe o principal (R$):'))\n",
        "taxa_juros_anual = float(input('Informe a taxa de juros anual (%): '))\n",
        "quantidade_anos = int(input('Informe a quantidade de anos: '))\n",
        "\n",
        "valor_final = investimento_inicial * (1 + (taxa_juros_anual / 100)) ** quantidade_anos\n",
        "\n",
        "print(f'O valor do investimento após {quantidade_anos} anos é: R$ {valor_final:.2f}')"
      ]
    }
  ],
  "metadata": {
    "colab": {
      "provenance": []
    },
    "kernelspec": {
      "display_name": "Python 3",
      "name": "python3"
    },
    "language_info": {
      "codemirror_mode": {
        "name": "ipython",
        "version": 3
      },
      "file_extension": ".py",
      "mimetype": "text/x-python",
      "name": "python",
      "nbconvert_exporter": "python",
      "pygments_lexer": "ipython3",
      "version": "3.10.11"
    }
  },
  "nbformat": 4,
  "nbformat_minor": 0
}
