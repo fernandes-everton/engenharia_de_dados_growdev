{
 "cells": [
  {
   "cell_type": "markdown",
   "metadata": {},
   "source": [
    "**EXERCÍCIOS**"
   ]
  },
  {
   "cell_type": "markdown",
   "metadata": {},
   "source": [
    "**1**"
   ]
  },
  {
   "cell_type": "code",
   "execution_count": null,
   "metadata": {},
   "outputs": [],
   "source": [
    "#Celsius para Fahrenheit\n",
    "\n",
    "C = float(input('Informe a temperatura em graus Celsius: '))\n",
    "\n",
    "F = 9 / 5 * C + 32\n",
    "\n",
    "print(f'Temperatura em Fahrenheit: {F}')"
   ]
  },
  {
   "cell_type": "code",
   "execution_count": null,
   "metadata": {},
   "outputs": [],
   "source": [
    "#Fahrenheit para Celsius\n",
    "\n",
    "F = float(input('Informe a temperatura em graus Fahrenheit: '))\n",
    "\n",
    "C = (F - 32) * 5 / 9\n",
    "\n",
    "print(f'Temperatura em Celsius: {C}')"
   ]
  },
  {
   "cell_type": "markdown",
   "metadata": {},
   "source": [
    "**2**"
   ]
  },
  {
   "cell_type": "code",
   "execution_count": null,
   "metadata": {},
   "outputs": [],
   "source": [
    "num = int(input('Informe um número: '))\n",
    "\n",
    "if num % 2 == 0:\n",
    "  print('Par')\n",
    "else:\n",
    "  print('Impar')"
   ]
  },
  {
   "cell_type": "markdown",
   "metadata": {},
   "source": [
    "**3**"
   ]
  },
  {
   "cell_type": "code",
   "execution_count": null,
   "metadata": {},
   "outputs": [],
   "source": [
    "num1 = int(input('Informe o primeiro número: '))\n",
    "num2 = int(input('Informe o segundo número: '))\n",
    "\n",
    "opcao = int(input('Digite 1(adição) ou 2(subtração): '))\n",
    "\n",
    "if opcao == 1:\n",
    "  print(f'A soma de {num1} + {num2} = {num1 + num2}')\n",
    "else:\n",
    "  print(f'A subtração de {num1} - {num2} = {num1 - num2}')"
   ]
  },
  {
   "cell_type": "markdown",
   "metadata": {},
   "source": [
    "**4**"
   ]
  },
  {
   "cell_type": "code",
   "execution_count": null,
   "metadata": {},
   "outputs": [],
   "source": [
    "nota1 = float(input('Nota do 1º bimestre: '))\n",
    "nota2 = float(input('Nota do 2º bimestre: '))\n",
    "nota3 = float(input('Nota do 3º bimestre: '))\n",
    "nota4 = float(input('Nota do 4º bimestre: '))\n",
    "num_aulas = int(input('Quantidade total de aulas: '))\n",
    "num_faltas = int(input('Quantidade de faltas: '))\n",
    "\n",
    "media_presenca = (num_aulas - num_faltas) / num_aulas * 100\n",
    "media_notas = (nota1 + nota2 + nota3 + nota4) / 4\n",
    "\n",
    "if media_presenca >= 75 and media_notas >= 7:\n",
    "    print('Aprovado')\n",
    "elif media_presenca < 75:\n",
    "    print('Reprovado por Faltas')\n",
    "else:\n",
    "    print('Reprovado por Média')"
   ]
  },
  {
   "cell_type": "markdown",
   "metadata": {},
   "source": [
    "**5**"
   ]
  },
  {
   "cell_type": "code",
   "execution_count": null,
   "metadata": {},
   "outputs": [],
   "source": [
    "#Recuperação\n",
    "\n",
    "nota1 = float(input('Nota do 1º bimestre: '))\n",
    "nota2 = float(input('Nota do 2º bimestre: '))\n",
    "nota3 = float(input('Nota do 3º bimestre: '))\n",
    "nota4 = float(input('Nota do 4º bimestre: '))\n",
    "num_aulas = int(input('Quantidade total de aulas: '))\n",
    "num_faltas = int(input('Quantidade de faltas: '))\n",
    "\n",
    "media_presenca = (num_aulas - num_faltas) / num_aulas * 100\n",
    "media_notas = (nota1 + nota2 + nota3 + nota4) / 4\n",
    "\n",
    "if media_presenca >= 75 and media_notas >= 7:\n",
    "    print('Aprovado')\n",
    "elif media_presenca >= 75 and media_notas >= 5 and media_notas < 7:\n",
    "    print('Recuperação')\n",
    "else:\n",
    "    print('Reprovado')"
   ]
  },
  {
   "cell_type": "code",
   "execution_count": null,
   "metadata": {},
   "outputs": [],
   "source": [
    "#Reprovado por Média e Faltas\n",
    "\n",
    "nota1 = float(input('Nota do 1º bimestre: '))\n",
    "nota2 = float(input('Nota do 2º bimestre: '))\n",
    "nota3 = float(input('Nota do 3º bimestre: '))\n",
    "nota4 = float(input('Nota do 4º bimestre: '))\n",
    "num_aulas = int(input('Quantidade total de aulas: '))\n",
    "num_faltas = int(input('Quantidade de faltas: '))\n",
    "\n",
    "media_presenca = (num_aulas - num_faltas) / num_aulas * 100\n",
    "media_notas = (nota1 + nota2 + nota3 + nota4) / 4\n",
    "\n",
    "if media_presenca >= 75 and media_notas >= 7:\n",
    "    print('Aprovado')\n",
    "elif media_presenca < 75 and media_notas < 7:\n",
    "    print('Reprovado por Média e Faltas')\n",
    "else:\n",
    "    print('Reprovado')"
   ]
  },
  {
   "cell_type": "markdown",
   "metadata": {},
   "source": [
    "**6**"
   ]
  },
  {
   "cell_type": "code",
   "execution_count": null,
   "metadata": {},
   "outputs": [],
   "source": [
    "dia = int(input('Digite um Dia(dd): '))\n",
    "mes = int(input('Digite um Mês(mm): '))\n",
    "ano = int(input('Digite um Ano(aaaa): '))\n",
    "\n",
    "if(dia >= 1 and dia <= 31) and (mes==1 or mes==3 or mes==5 or mes==7 or mes==8 or mes==10 or mes==12):\n",
    "    print('Data válida.')\n",
    "elif(dia >= 1 and dia <= 30) and (mes==4 or mes==6 or mes==9 or mes==11):\n",
    "    print('Data válida.')\n",
    "elif (dia == 29) and (mes == 2) and (ano % 4 == 0):\n",
    "    print('Data válida.')\n",
    "elif (dia >= 1 and dia <= 28) and (mes == 2):\n",
    "    print('Data válida.')\n",
    "else:\n",
    "    print('Data inválida')"
   ]
  },
  {
   "cell_type": "markdown",
   "metadata": {},
   "source": [
    "**7**"
   ]
  },
  {
   "cell_type": "code",
   "execution_count": null,
   "metadata": {},
   "outputs": [],
   "source": [
    "dia = int(input('Digite um Dia(dd): '))\n",
    "mes = int(input('Digite um Mês(mm): '))\n",
    "ano = int(input('Digite um Ano(aaaa): '))\n",
    "\n",
    "if(dia <= 31) and (mes <= 12):\n",
    "    if(dia == 31) and (mes==1 or mes==3 or mes==5 or mes==7 or mes==8 or mes==10 or mes==12):\n",
    "        dia = 1\n",
    "        if mes == 12:\n",
    "            mes = 1\n",
    "            ano = ano + 1\n",
    "        else:\n",
    "            mes = mes + 1\n",
    "    elif(dia == 30) and (mes==4 or mes==6 or mes==9 or mes==11):\n",
    "        dia = 1\n",
    "        mes = mes + 1\n",
    "    elif (dia == 29) and (mes == 2) and (ano % 4 == 0):\n",
    "        dia = 1\n",
    "        mes = mes + 1\n",
    "    elif (dia == 28) and (mes == 2) and (ano % 4 != 0):\n",
    "        dia = 1\n",
    "        mes = mes + 1\n",
    "    else:\n",
    "        dia = dia + 1\n",
    "    print(f'A data do próximo dia é {dia}/{mes}/{ano}')\n",
    "else:\n",
    "    print('Data inválida')"
   ]
  },
  {
   "cell_type": "markdown",
   "metadata": {},
   "source": [
    "**8**"
   ]
  },
  {
   "cell_type": "code",
   "execution_count": null,
   "metadata": {},
   "outputs": [],
   "source": [
    "nota1 = float(input('Nota 1: '))\n",
    "nota2 = float(input('Nota 2: '))\n",
    "media = (nota1 + nota2) / 2\n",
    "\n",
    "if media >= 9.0 and media <= 10.0:\n",
    "    conceito = 'A'\n",
    "elif media >= 7.5 and media <= 8.9:\n",
    "    conceito = 'B'\n",
    "elif media >= 6.0 and media <= 7.4:\n",
    "    conceito = 'C'\n",
    "elif media >= 4.0 and media <= 5.9:\n",
    "    conceito = 'D'\n",
    "else:\n",
    "    conceito = 'E'\n",
    "\n",
    "print(f'Nota 1: {nota1}')\n",
    "print(f'Nota 2: {nota2}')\n",
    "print(f'Média: {media}')\n",
    "print(f'Conceito: {conceito}')\n",
    "\n",
    "if conceito == 'A' or conceito == 'B' or conceito == 'C':\n",
    "    print('APROVADO')\n",
    "else:\n",
    "    print('REPROVADO')"
   ]
  },
  {
   "cell_type": "markdown",
   "metadata": {},
   "source": [
    "**9**"
   ]
  },
  {
   "cell_type": "code",
   "execution_count": null,
   "metadata": {},
   "outputs": [],
   "source": [
    "salario_atual = float(input('Informe o salário: '))\n",
    "\n",
    "if salario_atual <= 280:\n",
    "    percentual = 20\n",
    "elif salario_atual > 280 and salario_atual <= 700:\n",
    "    percentual = 15\n",
    "elif salario_atual > 700 and salario_atual <= 1500:\n",
    "    percentual = 10\n",
    "else:\n",
    "    percentual = 5\n",
    "\n",
    "valor_aumento = (percentual / 100) * salario_atual\n",
    "novo_salario = salario_atual + valor_aumento\n",
    "\n",
    "print(f'Salário antes do reajuste: R$ {salario_atual:.2f}')\n",
    "print(f'Percentual de aumento aplicado: {percentual}%')\n",
    "print(f'Valor do aumento: R$ {valor_aumento:.2f}')\n",
    "print(f'Novo salário: R$ {novo_salario:.2f}')"
   ]
  }
 ],
 "metadata": {
  "kernelspec": {
   "display_name": "Python 3",
   "language": "python",
   "name": "python3"
  },
  "language_info": {
   "codemirror_mode": {
    "name": "ipython",
    "version": 3
   },
   "file_extension": ".py",
   "mimetype": "text/x-python",
   "name": "python",
   "nbconvert_exporter": "python",
   "pygments_lexer": "ipython3",
   "version": "3.10.11"
  }
 },
 "nbformat": 4,
 "nbformat_minor": 2
}
