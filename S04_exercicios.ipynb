{
  "cells": [
    {
      "cell_type": "markdown",
      "metadata": {
        "id": "EzT810tnlmfE"
      },
      "source": [
        "## Exercícios:"
      ]
    },
    {
      "cell_type": "markdown",
      "metadata": {},
      "source": [
        "- Para esse exercício você terá alguns desafios, separei eles em partes, vamos lá?"
      ]
    },
    {
      "cell_type": "markdown",
      "metadata": {
        "id": "rDqBAimhSq_C"
      },
      "source": [
        "### Listas:"
      ]
    },
    {
      "cell_type": "markdown",
      "metadata": {
        "id": "GoGkz2n-SudC"
      },
      "source": [
        "1 - Crie uma lista com 100 números inteiros.\n",
        "- Pode ser uma sequência, ou caso queira se desafiar faça de números aleatórios.\n",
        "- Os dados não devem ser inseridos manualmente, utilize um laço de repetição para adicionar os elementos a Lista.\n"
      ]
    },
    {
      "cell_type": "code",
      "execution_count": 92,
      "metadata": {
        "id": "lLYBJr0KSuJW"
      },
      "outputs": [],
      "source": [
        "import random\n",
        "\n",
        "lista_numeros = []\n",
        "\n",
        "for i in range(100):\n",
        "    lista_numeros.append(random.randint(0, 1000))"
      ]
    },
    {
      "cell_type": "markdown",
      "metadata": {
        "id": "LQ0SVqxyVTD5"
      },
      "source": [
        "2 - Calcule e exiba a soma de todos os números da lista."
      ]
    },
    {
      "cell_type": "code",
      "execution_count": null,
      "metadata": {
        "id": "6HP8yU1bVS0F"
      },
      "outputs": [],
      "source": [
        "print(f'Soma dos números da lista: {sum(lista_numeros)}')"
      ]
    },
    {
      "cell_type": "markdown",
      "metadata": {
        "id": "HYQGLklTTPMx"
      },
      "source": [
        "3 - Exiba o maior e o menor número da lista."
      ]
    },
    {
      "cell_type": "code",
      "execution_count": null,
      "metadata": {
        "id": "q_UZx7EETT6S"
      },
      "outputs": [],
      "source": [
        "print(f'Maior número da lista: {max(lista_numeros)} \\nMenor número da lista: {min(lista_numeros)}')"
      ]
    },
    {
      "cell_type": "markdown",
      "metadata": {
        "id": "1iU6ZtRhVN9i"
      },
      "source": [
        "4 - Pesquise se o número 77 esta presente na lista e exiba:\n",
        "- Quantas vezes esse número aparece na lista.\n",
        "- Se aparece, em qual ou quais posições (Indice)."
      ]
    },
    {
      "cell_type": "code",
      "execution_count": null,
      "metadata": {
        "id": "OGVH4AoGWU2R"
      },
      "outputs": [],
      "source": [
        "cont = 0\n",
        "\n",
        "if 77 in lista_numeros:    \n",
        "    for i in range(len(lista_numeros)):\n",
        "        if lista_numeros[i] == 77:\n",
        "            print(f'Indice: {i}')\n",
        "            cont += 1\n",
        "    \n",
        "    print(f'Vezes que o número 77 aparece na lista: {cont}')\n",
        "else:\n",
        "    print('O número 77 não está presente na lista')"
      ]
    },
    {
      "cell_type": "markdown",
      "metadata": {
        "id": "jrwycUMvWVSu"
      },
      "source": [
        "5 - Ordene a lista de forma descendente e exiba."
      ]
    },
    {
      "cell_type": "code",
      "execution_count": null,
      "metadata": {
        "id": "RvRpLp87e5CB"
      },
      "outputs": [],
      "source": [
        "lista_numeros.sort(reverse = True)\n",
        "print(f'Lista ordenada descendente: {lista_numeros}')"
      ]
    },
    {
      "cell_type": "markdown",
      "metadata": {
        "id": "Be68CsC2OftE"
      },
      "source": [
        "### Tuplas:"
      ]
    },
    {
      "cell_type": "markdown",
      "metadata": {
        "id": "SQzRrAmq1SnR"
      },
      "source": [
        "1 - Crie uma tupla com os dias da semana e peça para o usuário digitar um número de 1 a 7. Exiba o dia correspondente."
      ]
    },
    {
      "cell_type": "code",
      "execution_count": null,
      "metadata": {
        "id": "7BqDEfeq1TZE"
      },
      "outputs": [],
      "source": [
        "dias_da_semana = ('Domingo', 'Segunda-feira', 'Terça-feira', 'Quarta-feira', 'Quinta-feira', 'Sexta-feira', 'Sábado')\n",
        "\n",
        "num = int(input('Informe um número de 1 a 7: '))\n",
        "\n",
        "for i in range(len(dias_da_semana)):\n",
        "    if num - 1 == i:\n",
        "        print(dias_da_semana[i])"
      ]
    },
    {
      "cell_type": "markdown",
      "metadata": {
        "id": "J9LW9fru7hv6"
      },
      "source": [
        "2 - Crie duas tuplas com números inteiros e crie uma terceira tupla com a concatenação das duas."
      ]
    },
    {
      "cell_type": "code",
      "execution_count": 98,
      "metadata": {
        "id": "J2pBsS-f7idJ"
      },
      "outputs": [],
      "source": [
        "tupla1 = (1, 2, 3, 4, 5)\n",
        "tupla2 = (6, 7, 8, 9, 10)\n",
        "\n",
        "tupla3 = tupla1 + tupla2"
      ]
    },
    {
      "cell_type": "markdown",
      "metadata": {
        "id": "ytDz_SXB7o-8"
      },
      "source": [
        "3 - Crie uma tupla com alguns elementos e remova um elemento específico."
      ]
    },
    {
      "cell_type": "code",
      "execution_count": null,
      "metadata": {
        "id": "QvIAx6HP7pbh"
      },
      "outputs": [],
      "source": [
        "minha_tupla = (1, 2, 3, 4, 5)\n",
        "print(f'Tupla original: {minha_tupla}')\n",
        "\n",
        "minha_lista = list(minha_tupla)\n",
        "\n",
        "minha_lista.remove(4)\n",
        "\n",
        "minha_tupla = tuple(minha_lista)\n",
        "\n",
        "print(f'Tupla após remover um elemento: {minha_tupla}')"
      ]
    },
    {
      "cell_type": "markdown",
      "metadata": {
        "id": "v_JM0Has1pPL"
      },
      "source": [
        "### Sets:"
      ]
    },
    {
      "cell_type": "markdown",
      "metadata": {
        "id": "Urrv-Y291roJ"
      },
      "source": [
        "1 - Crie dois sets com cores diferentes e exiba na tela a união dos dois sets."
      ]
    },
    {
      "cell_type": "code",
      "execution_count": null,
      "metadata": {
        "id": "FM4S-PEa1zSW"
      },
      "outputs": [],
      "source": [
        "conjunto_cores1 = {'Preto', 'Branco', 'Azul'}\n",
        "conjunto_cores2 = {'Verde', 'Vermelho', 'Amarelo'}\n",
        "\n",
        "conjunto_uniao = conjunto_cores1.union(conjunto_cores2)\n",
        "\n",
        "print(conjunto_uniao)"
      ]
    },
    {
      "cell_type": "markdown",
      "metadata": {
        "id": "0q0tG4eG1zkL"
      },
      "source": [
        "2 - Crie uma lista com alguns números repetidos. Converta essa lista em um set para remover as duplicatas e exiba o resultado."
      ]
    },
    {
      "cell_type": "code",
      "execution_count": null,
      "metadata": {
        "id": "j4okoTWR2I_R"
      },
      "outputs": [],
      "source": [
        "lista_numeros = [1, 2, 2, 2, 3, 4, 4, 4, 5]\n",
        "\n",
        "set_numeros = set(lista_numeros)\n",
        "print(set_numeros)"
      ]
    },
    {
      "cell_type": "markdown",
      "metadata": {
        "id": "4MCBgr-k1fvU"
      },
      "source": [
        "### Dicionários:"
      ]
    },
    {
      "cell_type": "markdown",
      "metadata": {
        "id": "0A-DeyIMPh4g"
      },
      "source": [
        "1 - Crie um dicionário com os nomes de algumas frutas e suas respectivas cores. Exiba na tela somente as frutas que são vermelhas."
      ]
    },
    {
      "cell_type": "code",
      "execution_count": null,
      "metadata": {
        "id": "7jlD2DV4Pjom"
      },
      "outputs": [],
      "source": [
        "dic_frutas = {\n",
        "    \"Maçã\": \"Vermelho\",\n",
        "    \"Uva\": \"Roxo\",\n",
        "    \"Limão\": \"Verde\",\n",
        "    \"Morango\": \"Vermelho\",\n",
        "    \"Banana\": \"Amarelo\"\n",
        "}\n",
        "\n",
        "for key, value in dic_frutas.items():\n",
        "    if value == \"Vermelho\":\n",
        "        print(key)"
      ]
    },
    {
      "cell_type": "markdown",
      "metadata": {
        "id": "q-XV14A-PmSa"
      },
      "source": [
        "2 - Crie um dicionário com o nome e a idade de três pessoas. Busque por  um nome e exiba a idade correspondente."
      ]
    },
    {
      "cell_type": "code",
      "execution_count": null,
      "metadata": {
        "id": "8rPH-lzG2gvh"
      },
      "outputs": [],
      "source": [
        "dic_pessoas = {\n",
        "    \"Ana\": 20,\n",
        "    \"Paulo\": 62,\n",
        "    \"João\": 33\n",
        "}\n",
        "\n",
        "nome = input('Informe um nome para a busca: ')\n",
        "\n",
        "if nome in dic_pessoas:\n",
        "    print(f'{nome} tem {dic_pessoas[nome]} anos')\n",
        "else:\n",
        "    print('Nome não encontrado!')"
      ]
    },
    {
      "cell_type": "markdown",
      "metadata": {
        "id": "yEn6q_MP5SdW"
      },
      "source": [
        "3 - Crie um dicionário com os nomes e idades de algumas pessoas. Peça para o usuário digitar um nome e sua nova idade, e atualize o dicionário com essa informação."
      ]
    },
    {
      "cell_type": "code",
      "execution_count": 105,
      "metadata": {},
      "outputs": [],
      "source": [
        "dic_pessoas = {\n",
        "    \"Pedro\": 18,\n",
        "    \"Carlos\": 58,\n",
        "    \"Marcos\": 45,\n",
        "    \"Maria\": 34\n",
        "}\n",
        "\n",
        "nome = input('Informe o nome da pessoa: ')\n",
        "nova_idade = int(input(f'Informe a nova idade de {nome}: '))\n",
        "\n",
        "dic_pessoas[nome] = nova_idade"
      ]
    },
    {
      "cell_type": "markdown",
      "metadata": {
        "id": "Jeelh1Xw2hab"
      },
      "source": [
        "### Desafio Dicionários:\n",
        "\n",
        "Busque o código desenvolvido para o exercício abaixo e altere o algoritmo para:\n",
        "\n",
        " - Salvar o resultado da eleição em um dícionário.\n",
        "\n",
        "\n",
        "Exemplo de saída do dicionário: {\"Candidato 1\": 2, \"Candidato 2\": 2, \"Voto Nulo\": 0, \"Voto Branco\": 1}\n",
        "\n",
        "\n",
        "Este exercício foi realizado na lista da semana passada, exercício de número 4:"
      ]
    },
    {
      "cell_type": "markdown",
      "metadata": {
        "id": "cDnoQXk83e5B"
      },
      "source": [
        "\n",
        "\"Em uma eleição presidencial existem dois candidatos. Os votos são informados através de códigos. Os dados utilizados para a contagem dos votos obedecem à seguinte codificação:\n",
        "- 1, 2 = voto para os respectivos candidatos;\n",
        "- 3 = voto nulo;\n",
        "- 4 = voto em branco;\n",
        "\n",
        "Elabore um programa que leia o código de votação de 5 eleitores. \n",
        "\n",
        "Calcule e escreva: \n",
        "- total de votos para cada candidato \n",
        "- total de votos nulos \n",
        "- total de votos em branco\""
      ]
    },
    {
      "cell_type": "code",
      "execution_count": null,
      "metadata": {
        "id": "CRlV5NE82kpE"
      },
      "outputs": [],
      "source": [
        "dic_eleicao = {\n",
        "    \"Candidato 1\": 0,\n",
        "    \"Candidato 2\": 0,\n",
        "    \"Voto Nulo\": 0,\n",
        "    \"Voto Branco\": 0\n",
        "}\n",
        "\n",
        "for i in range(5):\n",
        "    voto = int(input('Vote (1 - Candidato 1), (2 - Candidato 2), (3 - Nulo) ou (4 - Branco)'))\n",
        "\n",
        "    if voto == 1:\n",
        "        dic_eleicao[\"Candidato 1\"] += 1\n",
        "    elif voto == 2:\n",
        "        dic_eleicao[\"Candidato 2\"] += 1\n",
        "    elif voto == 3:\n",
        "        dic_eleicao[\"Voto Nulo\"] += 1\n",
        "    else:\n",
        "        dic_eleicao[\"Voto Branco\"]  += 1\n",
        "\n",
        "print(dic_eleicao)"
      ]
    },
    {
      "cell_type": "markdown",
      "metadata": {
        "id": "ffEKF4Kx5eQu"
      },
      "source": [
        "### Listas por Compreensão:"
      ]
    },
    {
      "cell_type": "markdown",
      "metadata": {
        "id": "IrQvRhQM5oj6"
      },
      "source": [
        "1 - Crie uma lista com os números ímpares de 1 a 20 utilizando listas por compreensão."
      ]
    },
    {
      "cell_type": "code",
      "execution_count": null,
      "metadata": {
        "id": "lqgX2B6x5fLc"
      },
      "outputs": [],
      "source": [
        "numeros_impares = [num for num in range(1, 21) if num % 2 != 0]\n",
        "print(f'Números ímpares de 1 a 20: {numeros_impares}')"
      ]
    },
    {
      "cell_type": "markdown",
      "metadata": {
        "id": "R2DKj08Z5tqJ"
      },
      "source": [
        "2 - Crie uma lista com as letras da frase \"Sou estudante de dados\", utilizando listas por compreensão."
      ]
    },
    {
      "cell_type": "code",
      "execution_count": null,
      "metadata": {},
      "outputs": [],
      "source": [
        "frase = \"Sou estudante de dados\"\n",
        "\n",
        "lista_frase = [letra for letra in frase if letra != ' ']\n",
        "print(lista_frase)"
      ]
    }
  ],
  "metadata": {
    "colab": {
      "provenance": []
    },
    "kernelspec": {
      "display_name": "Python 3",
      "name": "python3"
    },
    "language_info": {
      "codemirror_mode": {
        "name": "ipython",
        "version": 3
      },
      "file_extension": ".py",
      "mimetype": "text/x-python",
      "name": "python",
      "nbconvert_exporter": "python",
      "pygments_lexer": "ipython3",
      "version": "3.10.11"
    }
  },
  "nbformat": 4,
  "nbformat_minor": 0
}
