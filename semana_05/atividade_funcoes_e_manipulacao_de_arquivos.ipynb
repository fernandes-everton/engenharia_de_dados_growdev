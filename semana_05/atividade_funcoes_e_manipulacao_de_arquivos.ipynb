{
  "cells": [
    {
      "cell_type": "markdown",
      "metadata": {
        "id": "EzT810tnlmfE"
      },
      "source": [
        "# Exercícios:"
      ]
    },
    {
      "cell_type": "markdown",
      "metadata": {
        "id": "rDqBAimhSq_C"
      },
      "source": [
        "## Funções:"
      ]
    },
    {
      "cell_type": "markdown",
      "metadata": {
        "id": "AkBqdNST8bCY"
      },
      "source": [
        "Escreva uma função chamada soma que recebe dois números como parâmetros e retorna a soma deles."
      ]
    },
    {
      "cell_type": "code",
      "execution_count": null,
      "metadata": {
        "id": "J427Pi2p8THC"
      },
      "outputs": [],
      "source": [
        "def soma(num1, num2):\n",
        "    return num1 + num2\n",
        "\n",
        "soma(1, 2)\n"
      ]
    },
    {
      "cell_type": "markdown",
      "metadata": {
        "id": "NAa3MBAM830W"
      },
      "source": [
        "Escreva uma função chamada verificar_paridade que recebe um número como parâmetro e retorna True se for par e False se for ímpar."
      ]
    },
    {
      "cell_type": "code",
      "execution_count": null,
      "metadata": {
        "id": "CRlV5NE82kpE"
      },
      "outputs": [],
      "source": [
        "def verificar_paridade(num):\n",
        "    return True if num % 2 == 0 else False\n",
        "\n",
        "verificar_paridade(10)\n"
      ]
    },
    {
      "cell_type": "markdown",
      "metadata": {
        "id": "S7Rh1p4N8_dp"
      },
      "source": [
        "Escreva uma função chamada verificar_palindromo que recebe uma string como parâmetro e retorna True se for um palíndromo (uma palavra que é igual se lida da esquerda para a direita e vice-versa) e False caso contrário."
      ]
    },
    {
      "cell_type": "code",
      "execution_count": null,
      "metadata": {
        "id": "jY3rGEWc9Gb5"
      },
      "outputs": [],
      "source": [
        "def verificar_palindromo(palavra):\n",
        "    return True if palavra == palavra[::-1] else False\n",
        "\n",
        "verificar_palindromo('arara')\n"
      ]
    },
    {
      "cell_type": "markdown",
      "metadata": {
        "id": "suLU217H9G51"
      },
      "source": [
        "### Desafio listas e funções:"
      ]
    },
    {
      "cell_type": "markdown",
      "metadata": {
        "id": "zv3Edx_T-TF5"
      },
      "source": [
        "Crie uma função que representa o jogo batalha naval.\n",
        "\n",
        "Dentro da função crie uma estrutura bidimensional utilizando listas com sublistas para representar um tabuleiro (1 lista com 20 elementos e cada elemento é uma lista de 20 elementos, tabuleiro 20x20). Cada posição irá armazenar 1 valor numérico que significa:\n",
        "- 0 - Água\n",
        "- 1 - Navio\n",
        "\n",
        "Para cada posição escolha esses valores aleatoriamente, respeitando a regra de que não podem existir mais de 20 navios no tabuleiro.\n",
        "\n",
        "Após os valores serem distribuídos, o programa deve pedir ao usuário uma posição do tabuleiro e informar se ele acertou um navio ou água e repetir o procedimento até que o usuário derrote todos os navios ou chegue ao limite de 35 tentativas.\n",
        "\n"
      ]
    },
    {
      "cell_type": "code",
      "execution_count": null,
      "metadata": {},
      "outputs": [],
      "source": [
        "import random\n",
        "\n",
        "# Criar o tabuleiro 20x20 inicializado com 0 (Água)\n",
        "def criar_tabuleiro():   \n",
        "    tamanho = 20\n",
        "    tabuleiro = [[0 for i in range(tamanho)] for i in range(tamanho)]\n",
        "    return tabuleiro\n",
        "\n",
        "# Posicionar 20 navios aleatoriamente no tabuleiro\n",
        "def posicionar_navios(tabuleiro):   \n",
        "    quantidade_navios = 20\n",
        "    while quantidade_navios > 0:\n",
        "        linha = random.randint(0, 19)\n",
        "        coluna = random.randint(0, 19)\n",
        "\n",
        "        if tabuleiro[linha][coluna] == 0:  # Verifica se a posição está livre (Água)\n",
        "            tabuleiro[linha][coluna] = 1  # Coloca um navio na posição\n",
        "            quantidade_navios -= 1\n",
        "\n",
        "# Função para iniciar o jogo\n",
        "def jogar_batalha_naval(tabuleiro): \n",
        "    tentativas = 0\n",
        "    max_tentativas = 35\n",
        "    navios_restantes = 20\n",
        "\n",
        "    while tentativas < max_tentativas and navios_restantes > 0:\n",
        "        print(f\"Tentativa {tentativas + 1} de {max_tentativas}\")\n",
        "        \n",
        "        linha = int(input(\"Informe a linha (1-20): \")) - 1\n",
        "        coluna = int(input(\"Informe a coluna (1-20): \")) - 1\n",
        "        print(f\"Linha: {linha+1} / Coluna: {coluna+1}\")\n",
        "            \n",
        "        if linha < 0 or linha > 19 or coluna < 0 or coluna > 19:\n",
        "            print(\"Posição fora do tabuleiro! Tente novamente.\")\n",
        "        else:\n",
        "            if tabuleiro[linha][coluna] == 1:\n",
        "                print(\"Você acertou um navio!\")\n",
        "                tabuleiro[linha][coluna] = -1  # Marca como acertado\n",
        "                navios_restantes -= 1\n",
        "            elif tabuleiro[linha][coluna] == 0:\n",
        "                print(\"Você acertou água.\")\n",
        "                tabuleiro[linha][coluna] = -2  # Marca como verificado\n",
        "            else:\n",
        "                print(\"Essa posição já foi tentada! Tente novamente.\")\n",
        "\n",
        "            tentativas += 1\n",
        "            print(f\"Navios restantes: {navios_restantes}\\n\")\n",
        "\n",
        "    if navios_restantes == 0:\n",
        "        print(\"Parabéns! Você derrotou todos os navios!\")\n",
        "    else:\n",
        "        print(\"Fim de jogo. Você atingiu o limite de tentativas.\")\n",
        "\n",
        "tabuleiro = criar_tabuleiro()\n",
        "posicionar_navios(tabuleiro)\n",
        "jogar_batalha_naval(tabuleiro) # Executa a função do jogo\n"
      ]
    },
    {
      "cell_type": "markdown",
      "metadata": {
        "id": "WUXJN6Dg_GET"
      },
      "source": [
        "Modifique o programa anterior para exibir as seguintes estatísticas.\n",
        "- Acertos em Água\n",
        "- Acertos em Navios\n",
        "- Porcentagem de acertos em Água\n",
        "- Porcentagem de acertos em Navios\n",
        "- Acertos ininterruptos (maior quantidade de acertos em sequência)"
      ]
    },
    {
      "cell_type": "code",
      "execution_count": null,
      "metadata": {
        "id": "N5itlDvd_Hbi"
      },
      "outputs": [],
      "source": [
        "import random\n",
        "\n",
        "# Criar o tabuleiro 20x20 inicializado com 0 (Água)\n",
        "def criar_tabuleiro():    \n",
        "    tamanho = 20\n",
        "    tabuleiro = [[0 for i in range(tamanho)] for i in range(tamanho)]\n",
        "    return tabuleiro\n",
        "\n",
        "# Posicionar 20 navios aleatoriamente no tabuleiro\n",
        "def posicionar_navios(tabuleiro):   \n",
        "    quantidade_navios = 20\n",
        "    while quantidade_navios > 0:\n",
        "        linha = random.randint(0, 19)\n",
        "        coluna = random.randint(0, 19)\n",
        "\n",
        "        if tabuleiro[linha][coluna] == 0:  # Verifica se a posição está livre (Água)\n",
        "            tabuleiro[linha][coluna] = 1  # Coloca um navio na posição\n",
        "            quantidade_navios -= 1\n",
        "\n",
        "# Função para iniciar o jogo\n",
        "def jogar_batalha_naval(tabuleiro): \n",
        "    tentativas = 0\n",
        "    max_tentativas = 35\n",
        "    navios_restantes = 20\n",
        "    acertos_agua = 0\n",
        "    acertos_navio = 0\n",
        "    acertos_ininterruptos = 0\n",
        "    max_acertos_ininterruptos = 0\n",
        "\n",
        "    while tentativas < max_tentativas and navios_restantes > 0:\n",
        "        print(f\"Tentativa {tentativas + 1} de {max_tentativas}\")\n",
        "        \n",
        "        linha = int(input(\"Informe a linha (1-20): \")) - 1\n",
        "        coluna = int(input(\"Informe a coluna (1-20): \")) - 1\n",
        "        print(f\"Linha: {linha+1} / Coluna: {coluna+1}\")\n",
        "\n",
        "        if linha < 0 or linha > 19 or coluna < 0 or coluna > 19:\n",
        "            print(\"Posição fora do tabuleiro! Tente novamente.\")\n",
        "        else:\n",
        "            if tabuleiro[linha][coluna] == 1:\n",
        "                print(\"Você acertou um navio!\")\n",
        "                tabuleiro[linha][coluna] = -1  # Marca como acertado\n",
        "                navios_restantes -= 1\n",
        "                acertos_navio += 1\n",
        "                acertos_ininterruptos += 1\n",
        "\n",
        "                if acertos_ininterruptos > max_acertos_ininterruptos:\n",
        "                    max_acertos_ininterruptos = acertos_ininterruptos\n",
        "\n",
        "            elif tabuleiro[linha][coluna] == 0:\n",
        "                print(\"Você acertou água.\")\n",
        "                tabuleiro[linha][coluna] = -2  # Marca como verificado\n",
        "                acertos_agua += 1\n",
        "                acertos_ininterruptos = 0\n",
        "            else:\n",
        "                print(\"Essa posição já foi tentada! Tente novamente.\")\n",
        "\n",
        "            tentativas += 1\n",
        "            print(f\"Navios restantes: {navios_restantes}\\n\")\n",
        "\n",
        "    if navios_restantes == 0:\n",
        "        print(\"Parabéns! Você derrotou todos os navios!\")\n",
        "    else:\n",
        "        print(\"Fim de jogo. Você atingiu o limite de tentativas.\")\n",
        "    \n",
        "    print(f\"Acertos em Água: {acertos_agua}\")\n",
        "    print(f\"Acertos em Navios: {acertos_navio}\")\n",
        "    print(f\"Porcentagem de acertos em Água: {(acertos_agua / tentativas) * 100}%\")\n",
        "    print(f\"Porcentagem de acertos em Navios: {(acertos_navio / tentativas) * 100}%\")\n",
        "    print(f\"Acertos Ininterruptos: {max_acertos_ininterruptos}\")\n",
        "\n",
        "tabuleiro = criar_tabuleiro()\n",
        "posicionar_navios(tabuleiro)\n",
        "jogar_batalha_naval(tabuleiro) # Executa a função do jogo\n"
      ]
    },
    {
      "cell_type": "markdown",
      "metadata": {
        "id": "ffEKF4Kx5eQu"
      },
      "source": [
        "## Manipulação de arquivos:"
      ]
    },
    {
      "cell_type": "markdown",
      "metadata": {
        "id": "IrQvRhQM5oj6"
      },
      "source": [
        "Utilize o arquivo ‘compras.csv’ como base para resolver os seguintes exercícios.  \n",
        "Arquivo disponivel em: https://drive.google.com/file/d/1cqqr7kWuBYYJxJ8W_-KHmcZHs6sfV_is/view"
      ]
    },
    {
      "cell_type": "markdown",
      "metadata": {
        "id": "J8g6sYrl3Xjg"
      },
      "source": [
        "Utilize as seguintes faixas etárias nos exercícios em que for necessário.\n",
        "- Jovens, 18 a 25 anos\n",
        "- Adultos, 26 a 59 anos\n",
        "- Idosos, igual ou maior que 60 anos\n"
      ]
    },
    {
      "cell_type": "code",
      "execution_count": null,
      "metadata": {},
      "outputs": [],
      "source": [
        "import csv\n",
        "import pprint\n",
        "\n",
        "def ler_arquivo_csv(caminho_arquivo):\n",
        "    dados = {}\n",
        "    \n",
        "    with open(caminho_arquivo, mode='r', newline='', encoding='utf-8') as arquivo:\n",
        "        leitor = csv.reader(arquivo)\n",
        "        cabecalho = next(leitor)    # Lê a linha de cabeçalho (O retorno da função 'next' é uma lista)\n",
        "                                    \n",
        "        for i, linha in enumerate(leitor):\n",
        "            individuo = {cabecalho[j] : linha[j] for j in range(len(cabecalho))}\n",
        "            dados[i] = individuo\n",
        "\n",
        "    return dados\n",
        "\n",
        "dados = ler_arquivo_csv('compras.csv')\n",
        "pprint.pprint(dados)\n"
      ]
    },
    {
      "cell_type": "markdown",
      "metadata": {
        "id": "apGpARF-3nW9"
      },
      "source": [
        "Procure quem foi a pessoa que mais gastou?"
      ]
    },
    {
      "cell_type": "code",
      "execution_count": null,
      "metadata": {},
      "outputs": [],
      "source": [
        "def buscar_quem_mais_gastou(dados):\n",
        "    maior_gasto = 0\n",
        "    pessoa_maior_gasto = None\n",
        "\n",
        "    for info in dados.values():\n",
        "        gasto = float(info['compra'])\n",
        "        if gasto > maior_gasto:\n",
        "            maior_gasto = gasto\n",
        "            pessoa_maior_gasto = info\n",
        "            \n",
        "    return pessoa_maior_gasto\n",
        "\n",
        "buscar_quem_mais_gastou(dados)\n"
      ]
    },
    {
      "cell_type": "markdown",
      "metadata": {
        "id": "3PBqAffp3o9I"
      },
      "source": [
        "Busque quais são os anos da base de dados?"
      ]
    },
    {
      "cell_type": "code",
      "execution_count": null,
      "metadata": {
        "id": "lqgX2B6x5fLc"
      },
      "outputs": [],
      "source": [
        "def buscar_anos_da_base_de_dados(dados):\n",
        "    anos = set()\n",
        "    \n",
        "    for info in dados.values():\n",
        "        anos.add(int(info['ano']))\n",
        "    \n",
        "    return anos\n",
        "\n",
        "anos_da_base_de_dados = buscar_anos_da_base_de_dados(dados)\n",
        "print(sorted(anos_da_base_de_dados))\n"
      ]
    },
    {
      "cell_type": "markdown",
      "metadata": {
        "id": "R2DKj08Z5tqJ"
      },
      "source": [
        "Qual a porcentagem de homens e mulheres na base de dados?"
      ]
    },
    {
      "cell_type": "code",
      "execution_count": null,
      "metadata": {
        "id": "3wZDjRn03xB0"
      },
      "outputs": [],
      "source": [
        "def calcular_porcentagem_homens_mulheres(dados):\n",
        "    cont = 0\n",
        "    homens = 0\n",
        "    mulheres = 0\n",
        "\n",
        "    for info in dados.values():\n",
        "        cont += 1\n",
        "        if info['sexo'] == 'M':\n",
        "            homens += 1\n",
        "        else:\n",
        "            mulheres += 1\n",
        "\n",
        "    porcentagem_homens = (homens / cont) * 100\n",
        "    porcentagem_mulheres = (mulheres / cont) * 100\n",
        "    \n",
        "    return porcentagem_homens, porcentagem_mulheres\n",
        "\n",
        "porcentagem_homens, porcentagem_mulheres = calcular_porcentagem_homens_mulheres(dados)\n",
        "\n",
        "print(\n",
        "    f\"Homens: {porcentagem_homens:.2f}%\\n\"\n",
        "    f\"Mulheres: {porcentagem_mulheres:.2f}%\"\n",
        ")\n"
      ]
    },
    {
      "cell_type": "markdown",
      "metadata": {
        "id": "Nou_jojr3ztM"
      },
      "source": [
        "Qual foi o gasto por ano?"
      ]
    },
    {
      "cell_type": "code",
      "execution_count": null,
      "metadata": {
        "id": "hjBuBCDb30YI"
      },
      "outputs": [],
      "source": [
        "def calcular_gasto_por_ano(dados):\n",
        "    gastos = {}\n",
        "\n",
        "    for info in dados.values():\n",
        "        ano = int(info['ano'])\n",
        "        compra = float(info['compra'])\n",
        "        if ano in gastos:\n",
        "            gastos[ano] += compra\n",
        "        else:\n",
        "            gastos[ano] = compra\n",
        "            \n",
        "    return gastos\n",
        "\n",
        "gastos_por_ano = calcular_gasto_por_ano(dados)\n",
        "pprint.pprint(gastos_por_ano)\n"
      ]
    },
    {
      "cell_type": "markdown",
      "metadata": {
        "id": "vgN3teMQ32pg"
      },
      "source": [
        "Qual foi o ano com maior gasto?"
      ]
    },
    {
      "cell_type": "code",
      "execution_count": null,
      "metadata": {
        "id": "JmN_ZHBV35ss"
      },
      "outputs": [],
      "source": [
        "def buscar_ano_com_maior_gasto(gastos_por_ano):\n",
        "\n",
        "    ano_maior_gasto = max(gastos_por_ano, key=gastos_por_ano.get)\n",
        "    maior_gasto = gastos_por_ano[ano_maior_gasto]\n",
        "    \n",
        "    return ano_maior_gasto, maior_gasto\n",
        "\n",
        "ano_maior_gasto, maior_gasto = buscar_ano_com_maior_gasto(gastos_por_ano)\n",
        "\n",
        "print(f'O ano com maior gasto foi {ano_maior_gasto} com R$ {maior_gasto:.2f} gastos!')\n"
      ]
    },
    {
      "cell_type": "markdown",
      "metadata": {
        "id": "V_y9EX0p34-E"
      },
      "source": [
        "Utilizando as faixas etárias, diga quantas pessoas há em cada faixa?"
      ]
    },
    {
      "cell_type": "code",
      "execution_count": null,
      "metadata": {
        "id": "ukkjPSE738r8"
      },
      "outputs": [],
      "source": [
        "def quantidade_de_pessoas_por_faixa_etaria(dados):\n",
        "    pessoas_por_faixa_etaria = {\n",
        "        'Jovens': 0,\n",
        "        'Adultos': 0,\n",
        "        'Idosos': 0\n",
        "    }\n",
        "\n",
        "    for info in dados.values():\n",
        "        idade = int(info['idade'])\n",
        "        if idade >= 18 and idade <= 25:\n",
        "            pessoas_por_faixa_etaria['Jovens'] += 1\n",
        "        elif idade >= 26 and idade <= 59:\n",
        "            pessoas_por_faixa_etaria['Adultos'] += 1\n",
        "        else:\n",
        "            pessoas_por_faixa_etaria['Idosos'] += 1\n",
        "\n",
        "    return pessoas_por_faixa_etaria\n",
        "\n",
        "pessoas_por_faixa_etaria = quantidade_de_pessoas_por_faixa_etaria(dados)\n",
        "print(pessoas_por_faixa_etaria)\n"
      ]
    },
    {
      "cell_type": "markdown",
      "metadata": {
        "id": "_7qmp-1y36Ac"
      },
      "source": [
        "Qual é a faixa etária que mais gasta?"
      ]
    },
    {
      "cell_type": "code",
      "execution_count": null,
      "metadata": {
        "id": "O0_Wt4I838V0"
      },
      "outputs": [],
      "source": [
        "def buscar_faixa_etaria_que_mais_gasta(dados):\n",
        "    gasto_por_faixa_etaria = {\n",
        "        'Jovens': 0,\n",
        "        'Adultos': 0,\n",
        "        'Idosos': 0\n",
        "    }\n",
        "\n",
        "    for info in dados.values():\n",
        "        idade = int(info['idade'])\n",
        "        compra = float(info['compra'])\n",
        "        if idade >= 18 and idade <= 25:\n",
        "            gasto_por_faixa_etaria['Jovens'] += compra\n",
        "        elif idade >= 26 and idade <= 59:\n",
        "            gasto_por_faixa_etaria['Adultos'] += compra\n",
        "        else:\n",
        "            gasto_por_faixa_etaria['Idosos'] += compra\n",
        "\n",
        "    faixa_com_maior_gasto = max(gasto_por_faixa_etaria, key=gasto_por_faixa_etaria.get)\n",
        "    maior_gasto = gasto_por_faixa_etaria[faixa_com_maior_gasto]\n",
        "            \n",
        "    return faixa_com_maior_gasto, maior_gasto\n",
        "\n",
        "faixa_com_maior_gasto, maior_gasto = buscar_faixa_etaria_que_mais_gasta(dados)\n",
        "\n",
        "print(f'Quem mais gasta são os {faixa_com_maior_gasto} com R$ {maior_gasto:.2f} gastos!')\n"
      ]
    },
    {
      "cell_type": "markdown",
      "metadata": {
        "id": "L_EUiizw3-jM"
      },
      "source": [
        "A opção de débito é mais utilizada entre homens ou mulheres?"
      ]
    },
    {
      "cell_type": "code",
      "execution_count": null,
      "metadata": {
        "id": "dIKB7PXj3_DE"
      },
      "outputs": [],
      "source": [
        "def buscar_utilizacao_de_debito_entre_homens_e_mulheres(dados):\n",
        "    cont_debito_homens = 0\n",
        "    cont_debito_mulheres = 0\n",
        "    \n",
        "    for info in dados.values():\n",
        "        pagamento = info['pagamento']\n",
        "        sexo = info['sexo']\n",
        "        if pagamento == 'debito' and sexo == 'M':\n",
        "            cont_debito_homens += 1\n",
        "        elif pagamento == 'debito' and sexo == 'F':\n",
        "            cont_debito_mulheres += 1\n",
        "    \n",
        "    return cont_debito_homens, cont_debito_mulheres\n",
        "\n",
        "cont_debito_homens, cont_debito_mulheres = buscar_utilizacao_de_debito_entre_homens_e_mulheres(dados)\n",
        "\n",
        "if cont_debito_homens > cont_debito_mulheres:\n",
        "    print(f'A opção de débito é mais utilizada pelos homens!')\n",
        "else:\n",
        "    print(f'A opção de débito é mais utilizada pelas mulheres!')\n",
        "    "
      ]
    },
    {
      "cell_type": "markdown",
      "metadata": {
        "id": "jOMpl3Th4Bkm"
      },
      "source": [
        "Qual o sobrenome que mais aparece na base de dados?"
      ]
    },
    {
      "cell_type": "code",
      "execution_count": null,
      "metadata": {
        "id": "LDFe_62s4B_Q"
      },
      "outputs": [],
      "source": [
        "def buscar_sobrenome_mais_recorrente(dados):\n",
        "    contador_sobrenomes = {}\n",
        "    \n",
        "    for info in dados.values():\n",
        "        sobrenome = info['sobrenome']\n",
        "        if sobrenome in contador_sobrenomes:\n",
        "            contador_sobrenomes[sobrenome] += 1\n",
        "        else:\n",
        "            contador_sobrenomes[sobrenome] = 1\n",
        "\n",
        "    sobrenome_mais_comum = None\n",
        "    maior_frequencia = 0\n",
        "\n",
        "    for sobrenome, frequencia in contador_sobrenomes.items():\n",
        "        if frequencia > maior_frequencia:\n",
        "            maior_frequencia = frequencia\n",
        "            sobrenome_mais_comum = sobrenome\n",
        "\n",
        "    return sobrenome_mais_comum, maior_frequencia\n",
        "\n",
        "sobrenome_mais_comum, maior_frequencia = buscar_sobrenome_mais_recorrente(dados)\n",
        "\n",
        "print(f'O sobrenome que mais aparece na base de dados é \"{sobrenome_mais_comum}\", com {maior_frequencia} ocorrências.')\n"
      ]
    },
    {
      "cell_type": "markdown",
      "metadata": {
        "id": "Q7VS9K_Q4ECM"
      },
      "source": [
        "Qual foi o ano em que os homens mais usaram o crédito?"
      ]
    },
    {
      "cell_type": "code",
      "execution_count": null,
      "metadata": {
        "id": "5H60b3n64Ee0"
      },
      "outputs": [],
      "source": [
        "def buscar_ano_com_maior_uso_de_credito_entre_os_homens(dados):\n",
        "    uso_credito_homens = {}\n",
        "\n",
        "    for info in dados.values():\n",
        "        ano = int(info['ano'])     \n",
        "        sexo = info['sexo']\n",
        "        tipo_pagamento = info['pagamento'] \n",
        "        \n",
        "        if sexo == 'M' and tipo_pagamento == 'credito':\n",
        "            if ano in uso_credito_homens:\n",
        "                uso_credito_homens[ano] += 1\n",
        "            else:\n",
        "                uso_credito_homens[ano] = 1\n",
        "\n",
        "    ano_mais_credito = None\n",
        "    maior_uso = 0\n",
        "\n",
        "    for ano, contador_credito in uso_credito_homens.items():\n",
        "        if contador_credito > maior_uso:\n",
        "            maior_uso = contador_credito\n",
        "            ano_mais_credito = ano\n",
        "\n",
        "    return ano_mais_credito, maior_uso \n",
        "\n",
        "ano_mais_credito, maior_uso = buscar_ano_com_maior_uso_de_credito_entre_os_homens(dados)\n",
        "\n",
        "print(f'O ano em que os homens mais usaram o crédito foi {ano_mais_credito} com um total de {maior_uso} utilizações.')\n"
      ]
    },
    {
      "cell_type": "markdown",
      "metadata": {
        "id": "ebnmp5KD4GPw"
      },
      "source": [
        "Qual opção de pagamento é mais utilizada em cada faixa etária?"
      ]
    },
    {
      "cell_type": "code",
      "execution_count": null,
      "metadata": {
        "id": "NumXkC5p4H7s"
      },
      "outputs": [],
      "source": [
        "def buscar_tipo_de_pagamento_por_faixa_etaria(dados):\n",
        "    tipo_pagamento_por_faixa_etaria = {\n",
        "        'Debito': {'Jovens': 0, 'Adultos': 0, 'Idosos': 0},\n",
        "        'Credito': {'Jovens': 0, 'Adultos': 0, 'Idosos': 0}\n",
        "    }\n",
        "    \n",
        "    for info in dados.values():\n",
        "        idade = int(info['idade'])\n",
        "        tipo_pagamento = info['pagamento']\n",
        "\n",
        "        if tipo_pagamento == 'debito':\n",
        "            if idade >= 18 and idade <= 25:\n",
        "                tipo_pagamento_por_faixa_etaria['Debito']['Jovens'] += 1\n",
        "            elif idade >= 26 and idade <= 59:\n",
        "                tipo_pagamento_por_faixa_etaria['Debito']['Adultos'] += 1\n",
        "            else:\n",
        "                tipo_pagamento_por_faixa_etaria['Debito']['Idosos'] += 1\n",
        "        else:\n",
        "            if idade >= 18 and idade <= 25:\n",
        "                tipo_pagamento_por_faixa_etaria['Credito']['Jovens'] += 1\n",
        "            elif idade >= 26 and idade <= 59:\n",
        "                tipo_pagamento_por_faixa_etaria['Credito']['Adultos'] += 1\n",
        "            else:\n",
        "                tipo_pagamento_por_faixa_etaria['Credito']['Idosos'] += 1\n",
        "            \n",
        "    return tipo_pagamento_por_faixa_etaria\n",
        "\n",
        "dados_tipo_de_pagamento = buscar_tipo_de_pagamento_por_faixa_etaria(dados)\n",
        "\n",
        "def buscar_pagamento_mais_utilizado_por_faixa_etaria(dados_tipo_de_pagamento):\n",
        "    pagamento_mais_utilizado = {}\n",
        "\n",
        "    for faixa_etaria in ['Jovens', 'Adultos', 'Idosos']:\n",
        "        debito = int(dados_tipo_de_pagamento['Debito'][faixa_etaria])\n",
        "        credito = int(dados_tipo_de_pagamento['Credito'][faixa_etaria])\n",
        "\n",
        "        if debito > credito:\n",
        "            pagamento_mais_utilizado[faixa_etaria] = 'Debito'\n",
        "        else:\n",
        "            pagamento_mais_utilizado[faixa_etaria] = 'Credito'\n",
        "    \n",
        "    return pagamento_mais_utilizado\n",
        "\n",
        "buscar_pagamento_mais_utilizado_por_faixa_etaria(dados_tipo_de_pagamento)\n"
      ]
    },
    {
      "cell_type": "markdown",
      "metadata": {
        "id": "jRKhI6Dv4IQJ"
      },
      "source": [
        "Qual o valor gasto em compras por jovens do ano de 2010 até 2015?"
      ]
    },
    {
      "cell_type": "code",
      "execution_count": null,
      "metadata": {
        "id": "6SXstcF54Itk"
      },
      "outputs": [],
      "source": [
        "def buscar_valor_gasto_pelos_jovens_por_periodo(dados, ano_inicio, ano_fim):\n",
        "    soma_compras = 0\n",
        "\n",
        "    for info in dados.values():\n",
        "        idade = int(info['idade'])\n",
        "        compra = float(info['compra'])\n",
        "        ano = int(info['ano'])\n",
        "\n",
        "        if idade >= 18 and idade <= 25:\n",
        "            if ano >= ano_inicio and ano <= ano_fim:\n",
        "                soma_compras += compra\n",
        "\n",
        "    return print(f'Foi gasto o valor de R$ {soma_compras:.2f} em compras por jovens do ano de {ano_inicio} até {ano_fim}.')\n",
        "\n",
        "buscar_valor_gasto_pelos_jovens_por_periodo(dados, 2010, 2015)\n"
      ]
    }
  ],
  "metadata": {
    "colab": {
      "provenance": []
    },
    "kernelspec": {
      "display_name": "Python 3",
      "name": "python3"
    },
    "language_info": {
      "codemirror_mode": {
        "name": "ipython",
        "version": 3
      },
      "file_extension": ".py",
      "mimetype": "text/x-python",
      "name": "python",
      "nbconvert_exporter": "python",
      "pygments_lexer": "ipython3",
      "version": "3.10.11"
    }
  },
  "nbformat": 4,
  "nbformat_minor": 0
}
