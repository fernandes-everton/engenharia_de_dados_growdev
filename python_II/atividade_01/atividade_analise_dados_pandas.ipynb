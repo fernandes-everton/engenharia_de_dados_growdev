{
  "cells": [
    {
      "cell_type": "markdown",
      "metadata": {
        "id": "EzT810tnlmfE"
      },
      "source": [
        "# Exercícios:"
      ]
    },
    {
      "cell_type": "markdown",
      "metadata": {},
      "source": [
        "- Utilize o dataset contido nesse [link](https://www.kaggle.com/datasets/upadorprofzs/testes), e responda as questões abaixo.\n",
        "\n",
        "- O dataset contém dados estatísticos do IBGE relativos à escolaridade, renda, entre outros campos avaliados pela  PNAD (Pesquisa Nacional por Amostra de Domicílios).\n",
        "\n",
        "- Os dados podem representar informações relevantes e reveladoras sobre a distribuição de renda e possivelmente alguns indicadores sobre tais situações encontradas a partir dos dados."
      ]
    },
    {
      "cell_type": "code",
      "execution_count": 3,
      "metadata": {},
      "outputs": [
        {
          "data": {
            "text/html": [
              "<div>\n",
              "<style scoped>\n",
              "    .dataframe tbody tr th:only-of-type {\n",
              "        vertical-align: middle;\n",
              "    }\n",
              "\n",
              "    .dataframe tbody tr th {\n",
              "        vertical-align: top;\n",
              "    }\n",
              "\n",
              "    .dataframe thead th {\n",
              "        text-align: right;\n",
              "    }\n",
              "</style>\n",
              "<table border=\"1\" class=\"dataframe\">\n",
              "  <thead>\n",
              "    <tr style=\"text-align: right;\">\n",
              "      <th></th>\n",
              "      <th>UF</th>\n",
              "      <th>Sexo</th>\n",
              "      <th>Idade</th>\n",
              "      <th>Cor</th>\n",
              "      <th>Anos de Estudo</th>\n",
              "      <th>Renda</th>\n",
              "      <th>Altura</th>\n",
              "    </tr>\n",
              "  </thead>\n",
              "  <tbody>\n",
              "    <tr>\n",
              "      <th>0</th>\n",
              "      <td>11</td>\n",
              "      <td>0</td>\n",
              "      <td>23</td>\n",
              "      <td>8</td>\n",
              "      <td>12</td>\n",
              "      <td>800</td>\n",
              "      <td>1.603808</td>\n",
              "    </tr>\n",
              "    <tr>\n",
              "      <th>1</th>\n",
              "      <td>11</td>\n",
              "      <td>1</td>\n",
              "      <td>23</td>\n",
              "      <td>2</td>\n",
              "      <td>12</td>\n",
              "      <td>1150</td>\n",
              "      <td>1.739790</td>\n",
              "    </tr>\n",
              "    <tr>\n",
              "      <th>2</th>\n",
              "      <td>11</td>\n",
              "      <td>1</td>\n",
              "      <td>35</td>\n",
              "      <td>8</td>\n",
              "      <td>15</td>\n",
              "      <td>880</td>\n",
              "      <td>1.760444</td>\n",
              "    </tr>\n",
              "    <tr>\n",
              "      <th>3</th>\n",
              "      <td>11</td>\n",
              "      <td>0</td>\n",
              "      <td>46</td>\n",
              "      <td>2</td>\n",
              "      <td>6</td>\n",
              "      <td>3500</td>\n",
              "      <td>1.783158</td>\n",
              "    </tr>\n",
              "    <tr>\n",
              "      <th>4</th>\n",
              "      <td>11</td>\n",
              "      <td>1</td>\n",
              "      <td>47</td>\n",
              "      <td>8</td>\n",
              "      <td>9</td>\n",
              "      <td>150</td>\n",
              "      <td>1.690631</td>\n",
              "    </tr>\n",
              "  </tbody>\n",
              "</table>\n",
              "</div>"
            ],
            "text/plain": [
              "   UF  Sexo  Idade  Cor  Anos de Estudo  Renda    Altura\n",
              "0  11     0     23    8              12    800  1.603808\n",
              "1  11     1     23    2              12   1150  1.739790\n",
              "2  11     1     35    8              15    880  1.760444\n",
              "3  11     0     46    2               6   3500  1.783158\n",
              "4  11     1     47    8               9    150  1.690631"
            ]
          },
          "execution_count": 3,
          "metadata": {},
          "output_type": "execute_result"
        }
      ],
      "source": [
        "import pandas as pd\n",
        "import numpy as np\n",
        "\n",
        "df_ibge = pd.read_csv('dados_ibge.csv')\n",
        "\n",
        "df_ibge.head()\n"
      ]
    },
    {
      "cell_type": "code",
      "execution_count": 4,
      "metadata": {},
      "outputs": [
        {
          "name": "stdout",
          "output_type": "stream",
          "text": [
            "<class 'pandas.core.frame.DataFrame'>\n",
            "RangeIndex: 76840 entries, 0 to 76839\n",
            "Data columns (total 7 columns):\n",
            " #   Column          Non-Null Count  Dtype  \n",
            "---  ------          --------------  -----  \n",
            " 0   UF              76840 non-null  int64  \n",
            " 1   Sexo            76840 non-null  int64  \n",
            " 2   Idade           76840 non-null  int64  \n",
            " 3   Cor             76840 non-null  int64  \n",
            " 4   Anos de Estudo  76840 non-null  int64  \n",
            " 5   Renda           76840 non-null  int64  \n",
            " 6   Altura          76840 non-null  float64\n",
            "dtypes: float64(1), int64(6)\n",
            "memory usage: 4.1 MB\n"
          ]
        }
      ],
      "source": [
        "df_ibge.info()\n"
      ]
    },
    {
      "cell_type": "markdown",
      "metadata": {
        "id": "sYEv1vohLu34"
      },
      "source": [
        "1) Qual a quantidade de pessoas nas seguintes faixas etárias:\n",
        "- 20 Anos ou Menos\n",
        "- 21 a 35 Anos\n",
        "- 36 a 50 Anos\n",
        "- 51 a 65 Anos\n",
        "- Maiores de 65 Anos\n",
        "\n"
      ]
    },
    {
      "cell_type": "code",
      "execution_count": 5,
      "metadata": {},
      "outputs": [
        {
          "data": {
            "text/html": [
              "<div>\n",
              "<style scoped>\n",
              "    .dataframe tbody tr th:only-of-type {\n",
              "        vertical-align: middle;\n",
              "    }\n",
              "\n",
              "    .dataframe tbody tr th {\n",
              "        vertical-align: top;\n",
              "    }\n",
              "\n",
              "    .dataframe thead th {\n",
              "        text-align: right;\n",
              "    }\n",
              "</style>\n",
              "<table border=\"1\" class=\"dataframe\">\n",
              "  <thead>\n",
              "    <tr style=\"text-align: right;\">\n",
              "      <th></th>\n",
              "      <th>Faixa Etária</th>\n",
              "      <th>Quantidade de Pessoas</th>\n",
              "    </tr>\n",
              "  </thead>\n",
              "  <tbody>\n",
              "    <tr>\n",
              "      <th>0</th>\n",
              "      <td>20 Anos ou Menos</td>\n",
              "      <td>764</td>\n",
              "    </tr>\n",
              "    <tr>\n",
              "      <th>1</th>\n",
              "      <td>21 a 35 Anos</td>\n",
              "      <td>20654</td>\n",
              "    </tr>\n",
              "    <tr>\n",
              "      <th>2</th>\n",
              "      <td>36 a 50 Anos</td>\n",
              "      <td>31770</td>\n",
              "    </tr>\n",
              "    <tr>\n",
              "      <th>3</th>\n",
              "      <td>51 a 65 Anos</td>\n",
              "      <td>20006</td>\n",
              "    </tr>\n",
              "    <tr>\n",
              "      <th>4</th>\n",
              "      <td>Mais de 65 Anos</td>\n",
              "      <td>3646</td>\n",
              "    </tr>\n",
              "  </tbody>\n",
              "</table>\n",
              "</div>"
            ],
            "text/plain": [
              "       Faixa Etária  Quantidade de Pessoas\n",
              "0  20 Anos ou Menos                    764\n",
              "1      21 a 35 Anos                  20654\n",
              "2      36 a 50 Anos                  31770\n",
              "3      51 a 65 Anos                  20006\n",
              "4   Mais de 65 Anos                   3646"
            ]
          },
          "execution_count": 5,
          "metadata": {},
          "output_type": "execute_result"
        }
      ],
      "source": [
        "bins = [0, 20, 35, 50, 65, np.inf]\n",
        "labels = ['20 Anos ou Menos', '21 a 35 Anos', '36 a 50 Anos', '51 a 65 Anos', 'Mais de 65 Anos']\n",
        "\n",
        "df_ibge['Faixa Etária'] = pd.cut(df_ibge['Idade'], bins=bins, labels=labels)\n",
        "\n",
        "df_quantidade_de_pessoas_por_faixas_etarias = df_ibge['Faixa Etária'].value_counts().sort_index().reset_index()\n",
        "\n",
        "df_quantidade_de_pessoas_por_faixas_etarias.columns = ['Faixa Etária', 'Quantidade de Pessoas']\n",
        "\n",
        "df_quantidade_de_pessoas_por_faixas_etarias\n"
      ]
    },
    {
      "cell_type": "markdown",
      "metadata": {
        "id": "6y7X1dc-MFr1"
      },
      "source": [
        "2) Qual é a média de escolaridade em cada faixa etária?"
      ]
    },
    {
      "cell_type": "code",
      "execution_count": 6,
      "metadata": {
        "id": "6X6M5T7EMb-G"
      },
      "outputs": [
        {
          "data": {
            "text/html": [
              "<div>\n",
              "<style scoped>\n",
              "    .dataframe tbody tr th:only-of-type {\n",
              "        vertical-align: middle;\n",
              "    }\n",
              "\n",
              "    .dataframe tbody tr th {\n",
              "        vertical-align: top;\n",
              "    }\n",
              "\n",
              "    .dataframe thead th {\n",
              "        text-align: right;\n",
              "    }\n",
              "</style>\n",
              "<table border=\"1\" class=\"dataframe\">\n",
              "  <thead>\n",
              "    <tr style=\"text-align: right;\">\n",
              "      <th></th>\n",
              "      <th>UF</th>\n",
              "      <th>Sexo</th>\n",
              "      <th>Idade</th>\n",
              "      <th>Cor</th>\n",
              "      <th>Anos de Estudo</th>\n",
              "      <th>Renda</th>\n",
              "      <th>Altura</th>\n",
              "      <th>Faixa Etária</th>\n",
              "    </tr>\n",
              "  </thead>\n",
              "  <tbody>\n",
              "    <tr>\n",
              "      <th>0</th>\n",
              "      <td>11</td>\n",
              "      <td>0</td>\n",
              "      <td>23</td>\n",
              "      <td>8</td>\n",
              "      <td>12</td>\n",
              "      <td>800</td>\n",
              "      <td>1.603808</td>\n",
              "      <td>21 a 35 Anos</td>\n",
              "    </tr>\n",
              "    <tr>\n",
              "      <th>1</th>\n",
              "      <td>11</td>\n",
              "      <td>1</td>\n",
              "      <td>23</td>\n",
              "      <td>2</td>\n",
              "      <td>12</td>\n",
              "      <td>1150</td>\n",
              "      <td>1.739790</td>\n",
              "      <td>21 a 35 Anos</td>\n",
              "    </tr>\n",
              "    <tr>\n",
              "      <th>2</th>\n",
              "      <td>11</td>\n",
              "      <td>1</td>\n",
              "      <td>35</td>\n",
              "      <td>8</td>\n",
              "      <td>15</td>\n",
              "      <td>880</td>\n",
              "      <td>1.760444</td>\n",
              "      <td>21 a 35 Anos</td>\n",
              "    </tr>\n",
              "    <tr>\n",
              "      <th>3</th>\n",
              "      <td>11</td>\n",
              "      <td>0</td>\n",
              "      <td>46</td>\n",
              "      <td>2</td>\n",
              "      <td>6</td>\n",
              "      <td>3500</td>\n",
              "      <td>1.783158</td>\n",
              "      <td>36 a 50 Anos</td>\n",
              "    </tr>\n",
              "    <tr>\n",
              "      <th>4</th>\n",
              "      <td>11</td>\n",
              "      <td>1</td>\n",
              "      <td>47</td>\n",
              "      <td>8</td>\n",
              "      <td>9</td>\n",
              "      <td>150</td>\n",
              "      <td>1.690631</td>\n",
              "      <td>36 a 50 Anos</td>\n",
              "    </tr>\n",
              "  </tbody>\n",
              "</table>\n",
              "</div>"
            ],
            "text/plain": [
              "   UF  Sexo  Idade  Cor  Anos de Estudo  Renda    Altura  Faixa Etária\n",
              "0  11     0     23    8              12    800  1.603808  21 a 35 Anos\n",
              "1  11     1     23    2              12   1150  1.739790  21 a 35 Anos\n",
              "2  11     1     35    8              15    880  1.760444  21 a 35 Anos\n",
              "3  11     0     46    2               6   3500  1.783158  36 a 50 Anos\n",
              "4  11     1     47    8               9    150  1.690631  36 a 50 Anos"
            ]
          },
          "execution_count": 6,
          "metadata": {},
          "output_type": "execute_result"
        }
      ],
      "source": [
        "df_ibge.head()\n"
      ]
    },
    {
      "cell_type": "code",
      "execution_count": 7,
      "metadata": {},
      "outputs": [
        {
          "data": {
            "text/plain": [
              "array([12, 15,  6,  9, 14, 16, 10,  1,  5,  7,  3,  2,  4,  8, 11, 17, 13],\n",
              "      dtype=int64)"
            ]
          },
          "execution_count": 7,
          "metadata": {},
          "output_type": "execute_result"
        }
      ],
      "source": [
        "df_ibge['Anos de Estudo'].unique()\n"
      ]
    },
    {
      "cell_type": "code",
      "execution_count": 8,
      "metadata": {},
      "outputs": [
        {
          "data": {
            "text/plain": [
              "array([11, 14,  5,  8, 13, 15,  9,  0,  4,  6,  2,  1,  3,  7, 10, 17, 12],\n",
              "      dtype=int64)"
            ]
          },
          "execution_count": 8,
          "metadata": {},
          "output_type": "execute_result"
        }
      ],
      "source": [
        "df_ibge['Anos de Estudo'] = df_ibge['Anos de Estudo'].map({\n",
        "    1: 0,\n",
        "    2: 1,\n",
        "    3: 2,\n",
        "    4: 3,\n",
        "    5: 4,\n",
        "    6: 5,\n",
        "    7: 6,\n",
        "    8: 7,\n",
        "    9: 8,\n",
        "    10: 9,\n",
        "    11: 10,\n",
        "    12: 11,\n",
        "    13: 12,\n",
        "    14: 13,\n",
        "    15: 14,\n",
        "    16: 15,\n",
        "    17: 17\n",
        "})\n",
        "\n",
        "df_ibge['Anos de Estudo'].unique()\n"
      ]
    },
    {
      "cell_type": "code",
      "execution_count": 9,
      "metadata": {},
      "outputs": [
        {
          "name": "stderr",
          "output_type": "stream",
          "text": [
            "C:\\Users\\EVERTON\\AppData\\Local\\Temp\\ipykernel_8580\\1819333857.py:3: FutureWarning: The default of observed=False is deprecated and will be changed to True in a future version of pandas. Pass observed=False to retain current behavior or observed=True to adopt the future default and silence this warning.\n",
            "  df_media_escolaridade_por_faixa_etaria = df_sem_registros_de_anos_nao_determinados.groupby(\n"
          ]
        },
        {
          "data": {
            "text/html": [
              "<div>\n",
              "<style scoped>\n",
              "    .dataframe tbody tr th:only-of-type {\n",
              "        vertical-align: middle;\n",
              "    }\n",
              "\n",
              "    .dataframe tbody tr th {\n",
              "        vertical-align: top;\n",
              "    }\n",
              "\n",
              "    .dataframe thead th {\n",
              "        text-align: right;\n",
              "    }\n",
              "</style>\n",
              "<table border=\"1\" class=\"dataframe\">\n",
              "  <thead>\n",
              "    <tr style=\"text-align: right;\">\n",
              "      <th></th>\n",
              "      <th>Faixa Etária</th>\n",
              "      <th>Média de Anos de Estudo</th>\n",
              "    </tr>\n",
              "  </thead>\n",
              "  <tbody>\n",
              "    <tr>\n",
              "      <th>0</th>\n",
              "      <td>20 Anos ou Menos</td>\n",
              "      <td>8.627477</td>\n",
              "    </tr>\n",
              "    <tr>\n",
              "      <th>1</th>\n",
              "      <td>21 a 35 Anos</td>\n",
              "      <td>9.789356</td>\n",
              "    </tr>\n",
              "    <tr>\n",
              "      <th>2</th>\n",
              "      <td>36 a 50 Anos</td>\n",
              "      <td>8.747839</td>\n",
              "    </tr>\n",
              "    <tr>\n",
              "      <th>3</th>\n",
              "      <td>51 a 65 Anos</td>\n",
              "      <td>7.254205</td>\n",
              "    </tr>\n",
              "    <tr>\n",
              "      <th>4</th>\n",
              "      <td>Mais de 65 Anos</td>\n",
              "      <td>4.833105</td>\n",
              "    </tr>\n",
              "  </tbody>\n",
              "</table>\n",
              "</div>"
            ],
            "text/plain": [
              "       Faixa Etária  Média de Anos de Estudo\n",
              "0  20 Anos ou Menos                 8.627477\n",
              "1      21 a 35 Anos                 9.789356\n",
              "2      36 a 50 Anos                 8.747839\n",
              "3      51 a 65 Anos                 7.254205\n",
              "4   Mais de 65 Anos                 4.833105"
            ]
          },
          "execution_count": 9,
          "metadata": {},
          "output_type": "execute_result"
        }
      ],
      "source": [
        "df_sem_registros_de_anos_nao_determinados = df_ibge[df_ibge['Anos de Estudo'] != 17]\n",
        "\n",
        "df_media_escolaridade_por_faixa_etaria = df_sem_registros_de_anos_nao_determinados.groupby(\n",
        "    'Faixa Etária')['Anos de Estudo'].mean().reset_index()\n",
        "\n",
        "df_media_escolaridade_por_faixa_etaria.columns = ['Faixa Etária', 'Média de Anos de Estudo']\n",
        "\n",
        "df_media_escolaridade_por_faixa_etaria\n"
      ]
    },
    {
      "cell_type": "markdown",
      "metadata": {
        "id": "FgEq2x_mMicx"
      },
      "source": [
        "3) Qual a UF que concentra a maior renda?\n"
      ]
    },
    {
      "cell_type": "code",
      "execution_count": 10,
      "metadata": {},
      "outputs": [
        {
          "data": {
            "text/plain": [
              "array([11, 12, 13, 14, 15, 16, 17, 21, 22, 23, 24, 25, 26, 27, 28, 29, 31,\n",
              "       32, 33, 35, 41, 42, 43, 50, 51, 52, 53], dtype=int64)"
            ]
          },
          "execution_count": 10,
          "metadata": {},
          "output_type": "execute_result"
        }
      ],
      "source": [
        "df_ibge['UF'].unique()\n"
      ]
    },
    {
      "cell_type": "code",
      "execution_count": 11,
      "metadata": {},
      "outputs": [
        {
          "data": {
            "text/html": [
              "<div>\n",
              "<style scoped>\n",
              "    .dataframe tbody tr th:only-of-type {\n",
              "        vertical-align: middle;\n",
              "    }\n",
              "\n",
              "    .dataframe tbody tr th {\n",
              "        vertical-align: top;\n",
              "    }\n",
              "\n",
              "    .dataframe thead th {\n",
              "        text-align: right;\n",
              "    }\n",
              "</style>\n",
              "<table border=\"1\" class=\"dataframe\">\n",
              "  <thead>\n",
              "    <tr style=\"text-align: right;\">\n",
              "      <th></th>\n",
              "      <th>UF</th>\n",
              "      <th>Sexo</th>\n",
              "      <th>Idade</th>\n",
              "      <th>Cor</th>\n",
              "      <th>Anos de Estudo</th>\n",
              "      <th>Renda</th>\n",
              "      <th>Altura</th>\n",
              "      <th>Faixa Etária</th>\n",
              "    </tr>\n",
              "  </thead>\n",
              "  <tbody>\n",
              "    <tr>\n",
              "      <th>0</th>\n",
              "      <td>Rondônia</td>\n",
              "      <td>0</td>\n",
              "      <td>23</td>\n",
              "      <td>8</td>\n",
              "      <td>11</td>\n",
              "      <td>800</td>\n",
              "      <td>1.603808</td>\n",
              "      <td>21 a 35 Anos</td>\n",
              "    </tr>\n",
              "    <tr>\n",
              "      <th>1</th>\n",
              "      <td>Rondônia</td>\n",
              "      <td>1</td>\n",
              "      <td>23</td>\n",
              "      <td>2</td>\n",
              "      <td>11</td>\n",
              "      <td>1150</td>\n",
              "      <td>1.739790</td>\n",
              "      <td>21 a 35 Anos</td>\n",
              "    </tr>\n",
              "    <tr>\n",
              "      <th>2</th>\n",
              "      <td>Rondônia</td>\n",
              "      <td>1</td>\n",
              "      <td>35</td>\n",
              "      <td>8</td>\n",
              "      <td>14</td>\n",
              "      <td>880</td>\n",
              "      <td>1.760444</td>\n",
              "      <td>21 a 35 Anos</td>\n",
              "    </tr>\n",
              "    <tr>\n",
              "      <th>3</th>\n",
              "      <td>Rondônia</td>\n",
              "      <td>0</td>\n",
              "      <td>46</td>\n",
              "      <td>2</td>\n",
              "      <td>5</td>\n",
              "      <td>3500</td>\n",
              "      <td>1.783158</td>\n",
              "      <td>36 a 50 Anos</td>\n",
              "    </tr>\n",
              "    <tr>\n",
              "      <th>4</th>\n",
              "      <td>Rondônia</td>\n",
              "      <td>1</td>\n",
              "      <td>47</td>\n",
              "      <td>8</td>\n",
              "      <td>8</td>\n",
              "      <td>150</td>\n",
              "      <td>1.690631</td>\n",
              "      <td>36 a 50 Anos</td>\n",
              "    </tr>\n",
              "  </tbody>\n",
              "</table>\n",
              "</div>"
            ],
            "text/plain": [
              "         UF  Sexo  Idade  Cor  Anos de Estudo  Renda    Altura  Faixa Etária\n",
              "0  Rondônia     0     23    8              11    800  1.603808  21 a 35 Anos\n",
              "1  Rondônia     1     23    2              11   1150  1.739790  21 a 35 Anos\n",
              "2  Rondônia     1     35    8              14    880  1.760444  21 a 35 Anos\n",
              "3  Rondônia     0     46    2               5   3500  1.783158  36 a 50 Anos\n",
              "4  Rondônia     1     47    8               8    150  1.690631  36 a 50 Anos"
            ]
          },
          "execution_count": 11,
          "metadata": {},
          "output_type": "execute_result"
        }
      ],
      "source": [
        "df_ibge['UF'] = df_ibge['UF'].map({   \n",
        "    11: 'Rondônia',\n",
        "    12: 'Acre',\n",
        "    13: 'Amazonas',\n",
        "    14: 'Roraima',\n",
        "    15: 'Pará',\n",
        "    16: 'Amapá',\n",
        "    17: 'Tocantins',\n",
        "    21: 'Maranhão',\n",
        "    22: 'Piauí',\n",
        "    23: 'Ceará',\n",
        "    24: 'Rio Grande do Norte',\n",
        "    25: 'Paraíba',\n",
        "    26: 'Pernambuco',\n",
        "    27: 'Alagoas',\n",
        "    28: 'Sergipe',\n",
        "    29: 'Bahia',\n",
        "    31: 'Minas Gerais',\n",
        "    32: 'Espírito Santo',\n",
        "    33: 'Rio de Janeiro',\n",
        "    35: 'São Paulo',\n",
        "    41: 'Paraná',\n",
        "    42: 'Santa Catarina',\n",
        "    43: 'Rio Grande do Sul',\n",
        "    50: 'Mato Grosso do Sul',\n",
        "    51: 'Mato Grosso',\n",
        "    52: 'Goiás',\n",
        "    53: 'Distrito Federal'\n",
        "})\n",
        "\n",
        "df_ibge.head()\n"
      ]
    },
    {
      "cell_type": "code",
      "execution_count": 12,
      "metadata": {},
      "outputs": [
        {
          "data": {
            "text/html": [
              "<div>\n",
              "<style scoped>\n",
              "    .dataframe tbody tr th:only-of-type {\n",
              "        vertical-align: middle;\n",
              "    }\n",
              "\n",
              "    .dataframe tbody tr th {\n",
              "        vertical-align: top;\n",
              "    }\n",
              "\n",
              "    .dataframe thead th {\n",
              "        text-align: right;\n",
              "    }\n",
              "</style>\n",
              "<table border=\"1\" class=\"dataframe\">\n",
              "  <thead>\n",
              "    <tr style=\"text-align: right;\">\n",
              "      <th></th>\n",
              "      <th>UF Com a Maior Renda</th>\n",
              "      <th>Renda</th>\n",
              "    </tr>\n",
              "  </thead>\n",
              "  <tbody>\n",
              "    <tr>\n",
              "      <th>25</th>\n",
              "      <td>São Paulo</td>\n",
              "      <td>22539969</td>\n",
              "    </tr>\n",
              "  </tbody>\n",
              "</table>\n",
              "</div>"
            ],
            "text/plain": [
              "   UF Com a Maior Renda     Renda\n",
              "25            São Paulo  22539969"
            ]
          },
          "execution_count": 12,
          "metadata": {},
          "output_type": "execute_result"
        }
      ],
      "source": [
        "df_renda_por_uf = df_ibge.groupby('UF')['Renda'].sum().reset_index()\n",
        "\n",
        "uf_com_maior_renda = df_renda_por_uf.loc[df_renda_por_uf['Renda'].idxmax()]\n",
        "\n",
        "df_uf_com_maior_renda = pd.DataFrame([uf_com_maior_renda])\n",
        "\n",
        "df_uf_com_maior_renda.columns = ['UF Com a Maior Renda', 'Renda']\n",
        "\n",
        "df_uf_com_maior_renda\n"
      ]
    },
    {
      "cell_type": "markdown",
      "metadata": {
        "id": "VFXayO6DNJ3F"
      },
      "source": [
        "4) Qual a renda média de pessoas pretas e brancas de homens e mulheres?"
      ]
    },
    {
      "cell_type": "code",
      "execution_count": 13,
      "metadata": {},
      "outputs": [
        {
          "data": {
            "text/plain": [
              "array([0, 1], dtype=int64)"
            ]
          },
          "execution_count": 13,
          "metadata": {},
          "output_type": "execute_result"
        }
      ],
      "source": [
        "df_ibge['Sexo'].unique()\n"
      ]
    },
    {
      "cell_type": "code",
      "execution_count": 14,
      "metadata": {},
      "outputs": [
        {
          "data": {
            "text/plain": [
              "array([8, 2, 4, 6, 0], dtype=int64)"
            ]
          },
          "execution_count": 14,
          "metadata": {},
          "output_type": "execute_result"
        }
      ],
      "source": [
        "df_ibge['Cor'].unique()\n"
      ]
    },
    {
      "cell_type": "code",
      "execution_count": 15,
      "metadata": {},
      "outputs": [
        {
          "data": {
            "text/html": [
              "<div>\n",
              "<style scoped>\n",
              "    .dataframe tbody tr th:only-of-type {\n",
              "        vertical-align: middle;\n",
              "    }\n",
              "\n",
              "    .dataframe tbody tr th {\n",
              "        vertical-align: top;\n",
              "    }\n",
              "\n",
              "    .dataframe thead th {\n",
              "        text-align: right;\n",
              "    }\n",
              "</style>\n",
              "<table border=\"1\" class=\"dataframe\">\n",
              "  <thead>\n",
              "    <tr style=\"text-align: right;\">\n",
              "      <th></th>\n",
              "      <th>UF</th>\n",
              "      <th>Sexo</th>\n",
              "      <th>Idade</th>\n",
              "      <th>Cor</th>\n",
              "      <th>Anos de Estudo</th>\n",
              "      <th>Renda</th>\n",
              "      <th>Altura</th>\n",
              "      <th>Faixa Etária</th>\n",
              "    </tr>\n",
              "  </thead>\n",
              "  <tbody>\n",
              "    <tr>\n",
              "      <th>0</th>\n",
              "      <td>Rondônia</td>\n",
              "      <td>Masculino</td>\n",
              "      <td>23</td>\n",
              "      <td>Parda</td>\n",
              "      <td>11</td>\n",
              "      <td>800</td>\n",
              "      <td>1.603808</td>\n",
              "      <td>21 a 35 Anos</td>\n",
              "    </tr>\n",
              "    <tr>\n",
              "      <th>1</th>\n",
              "      <td>Rondônia</td>\n",
              "      <td>Feminino</td>\n",
              "      <td>23</td>\n",
              "      <td>Branca</td>\n",
              "      <td>11</td>\n",
              "      <td>1150</td>\n",
              "      <td>1.739790</td>\n",
              "      <td>21 a 35 Anos</td>\n",
              "    </tr>\n",
              "    <tr>\n",
              "      <th>2</th>\n",
              "      <td>Rondônia</td>\n",
              "      <td>Feminino</td>\n",
              "      <td>35</td>\n",
              "      <td>Parda</td>\n",
              "      <td>14</td>\n",
              "      <td>880</td>\n",
              "      <td>1.760444</td>\n",
              "      <td>21 a 35 Anos</td>\n",
              "    </tr>\n",
              "    <tr>\n",
              "      <th>3</th>\n",
              "      <td>Rondônia</td>\n",
              "      <td>Masculino</td>\n",
              "      <td>46</td>\n",
              "      <td>Branca</td>\n",
              "      <td>5</td>\n",
              "      <td>3500</td>\n",
              "      <td>1.783158</td>\n",
              "      <td>36 a 50 Anos</td>\n",
              "    </tr>\n",
              "    <tr>\n",
              "      <th>4</th>\n",
              "      <td>Rondônia</td>\n",
              "      <td>Feminino</td>\n",
              "      <td>47</td>\n",
              "      <td>Parda</td>\n",
              "      <td>8</td>\n",
              "      <td>150</td>\n",
              "      <td>1.690631</td>\n",
              "      <td>36 a 50 Anos</td>\n",
              "    </tr>\n",
              "  </tbody>\n",
              "</table>\n",
              "</div>"
            ],
            "text/plain": [
              "         UF       Sexo  Idade     Cor  Anos de Estudo  Renda    Altura  \\\n",
              "0  Rondônia  Masculino     23   Parda              11    800  1.603808   \n",
              "1  Rondônia   Feminino     23  Branca              11   1150  1.739790   \n",
              "2  Rondônia   Feminino     35   Parda              14    880  1.760444   \n",
              "3  Rondônia  Masculino     46  Branca               5   3500  1.783158   \n",
              "4  Rondônia   Feminino     47   Parda               8    150  1.690631   \n",
              "\n",
              "   Faixa Etária  \n",
              "0  21 a 35 Anos  \n",
              "1  21 a 35 Anos  \n",
              "2  21 a 35 Anos  \n",
              "3  36 a 50 Anos  \n",
              "4  36 a 50 Anos  "
            ]
          },
          "execution_count": 15,
          "metadata": {},
          "output_type": "execute_result"
        }
      ],
      "source": [
        "df_ibge['Sexo'] = df_ibge['Sexo'].map({\n",
        "    0: 'Masculino', \n",
        "    1: 'Feminino'\n",
        "})\n",
        "\n",
        "df_ibge['Cor'] = df_ibge['Cor'].map({\n",
        "    0: 'Indígena',\n",
        "    2: 'Branca',\n",
        "    4: 'Preta',\n",
        "    6: 'Amarela',\n",
        "    8: 'Parda',\n",
        "    9: 'Sem declaração'\n",
        "})\n",
        "\n",
        "df_ibge.head()\n"
      ]
    },
    {
      "cell_type": "code",
      "execution_count": 16,
      "metadata": {},
      "outputs": [
        {
          "data": {
            "text/html": [
              "<div>\n",
              "<style scoped>\n",
              "    .dataframe tbody tr th:only-of-type {\n",
              "        vertical-align: middle;\n",
              "    }\n",
              "\n",
              "    .dataframe tbody tr th {\n",
              "        vertical-align: top;\n",
              "    }\n",
              "\n",
              "    .dataframe thead th {\n",
              "        text-align: right;\n",
              "    }\n",
              "</style>\n",
              "<table border=\"1\" class=\"dataframe\">\n",
              "  <thead>\n",
              "    <tr style=\"text-align: right;\">\n",
              "      <th></th>\n",
              "      <th>Sexo</th>\n",
              "      <th>Cor</th>\n",
              "      <th>Renda Média</th>\n",
              "    </tr>\n",
              "  </thead>\n",
              "  <tbody>\n",
              "    <tr>\n",
              "      <th>0</th>\n",
              "      <td>Feminino</td>\n",
              "      <td>Branca</td>\n",
              "      <td>2109.866750</td>\n",
              "    </tr>\n",
              "    <tr>\n",
              "      <th>1</th>\n",
              "      <td>Feminino</td>\n",
              "      <td>Preta</td>\n",
              "      <td>1134.596400</td>\n",
              "    </tr>\n",
              "    <tr>\n",
              "      <th>2</th>\n",
              "      <td>Masculino</td>\n",
              "      <td>Branca</td>\n",
              "      <td>2925.744435</td>\n",
              "    </tr>\n",
              "    <tr>\n",
              "      <th>3</th>\n",
              "      <td>Masculino</td>\n",
              "      <td>Preta</td>\n",
              "      <td>1603.861687</td>\n",
              "    </tr>\n",
              "  </tbody>\n",
              "</table>\n",
              "</div>"
            ],
            "text/plain": [
              "        Sexo     Cor  Renda Média\n",
              "0   Feminino  Branca  2109.866750\n",
              "1   Feminino   Preta  1134.596400\n",
              "2  Masculino  Branca  2925.744435\n",
              "3  Masculino   Preta  1603.861687"
            ]
          },
          "execution_count": 16,
          "metadata": {},
          "output_type": "execute_result"
        }
      ],
      "source": [
        "df_brancos_e_pretos = df_ibge[df_ibge['Cor'].isin(['Branca', 'Preta'])]\n",
        "\n",
        "df_renda_media_pessoas = df_brancos_e_pretos.groupby(['Sexo', 'Cor'])['Renda'].mean().reset_index()\n",
        "\n",
        "df_renda_media_pessoas.rename(columns={'Renda':'Renda Média'}, inplace=True)\n",
        "\n",
        "df_renda_media_pessoas\n"
      ]
    },
    {
      "cell_type": "markdown",
      "metadata": {
        "id": "aqaMxrGMNhQv"
      },
      "source": [
        "5) Qual a renda média concentrada em cada faixa etária?"
      ]
    },
    {
      "cell_type": "code",
      "execution_count": 17,
      "metadata": {
        "id": "yoT1FXJSzKwj"
      },
      "outputs": [
        {
          "name": "stderr",
          "output_type": "stream",
          "text": [
            "C:\\Users\\EVERTON\\AppData\\Local\\Temp\\ipykernel_8580\\1710618172.py:1: FutureWarning: The default of observed=False is deprecated and will be changed to True in a future version of pandas. Pass observed=False to retain current behavior or observed=True to adopt the future default and silence this warning.\n",
            "  df_renda_media_por_faixa_etaria = df_ibge.groupby(['Faixa Etária'])['Renda'].mean().reset_index()\n"
          ]
        },
        {
          "data": {
            "text/html": [
              "<div>\n",
              "<style scoped>\n",
              "    .dataframe tbody tr th:only-of-type {\n",
              "        vertical-align: middle;\n",
              "    }\n",
              "\n",
              "    .dataframe tbody tr th {\n",
              "        vertical-align: top;\n",
              "    }\n",
              "\n",
              "    .dataframe thead th {\n",
              "        text-align: right;\n",
              "    }\n",
              "</style>\n",
              "<table border=\"1\" class=\"dataframe\">\n",
              "  <thead>\n",
              "    <tr style=\"text-align: right;\">\n",
              "      <th></th>\n",
              "      <th>Faixa Etária</th>\n",
              "      <th>Renda Média</th>\n",
              "    </tr>\n",
              "  </thead>\n",
              "  <tbody>\n",
              "    <tr>\n",
              "      <th>0</th>\n",
              "      <td>20 Anos ou Menos</td>\n",
              "      <td>985.348168</td>\n",
              "    </tr>\n",
              "    <tr>\n",
              "      <th>1</th>\n",
              "      <td>21 a 35 Anos</td>\n",
              "      <td>1748.286143</td>\n",
              "    </tr>\n",
              "    <tr>\n",
              "      <th>2</th>\n",
              "      <td>36 a 50 Anos</td>\n",
              "      <td>2113.756091</td>\n",
              "    </tr>\n",
              "    <tr>\n",
              "      <th>3</th>\n",
              "      <td>51 a 65 Anos</td>\n",
              "      <td>2150.196741</td>\n",
              "    </tr>\n",
              "    <tr>\n",
              "      <th>4</th>\n",
              "      <td>Mais de 65 Anos</td>\n",
              "      <td>1831.231487</td>\n",
              "    </tr>\n",
              "  </tbody>\n",
              "</table>\n",
              "</div>"
            ],
            "text/plain": [
              "       Faixa Etária  Renda Média\n",
              "0  20 Anos ou Menos   985.348168\n",
              "1      21 a 35 Anos  1748.286143\n",
              "2      36 a 50 Anos  2113.756091\n",
              "3      51 a 65 Anos  2150.196741\n",
              "4   Mais de 65 Anos  1831.231487"
            ]
          },
          "execution_count": 17,
          "metadata": {},
          "output_type": "execute_result"
        }
      ],
      "source": [
        "df_renda_media_por_faixa_etaria = df_ibge.groupby(['Faixa Etária'])['Renda'].mean().reset_index()\n",
        "\n",
        "df_renda_media_por_faixa_etaria.columns = ['Faixa Etária', 'Renda Média']\n",
        "\n",
        "df_renda_media_por_faixa_etaria\n"
      ]
    },
    {
      "cell_type": "markdown",
      "metadata": {
        "id": "jMjZzRxr29TF"
      },
      "source": [
        "6) Qual a renda média nas faixas de anos de estudo abaixo?\n",
        "- 2 Anos ou Menos\n",
        "- 3 a 6 Anos\n",
        "- 7 a 10 Anos\n",
        "- 11 a 12 Anos\n",
        "- 13 Anos ou Mais"
      ]
    },
    {
      "cell_type": "code",
      "execution_count": 18,
      "metadata": {
        "id": "ZWpciLPN3Ckx"
      },
      "outputs": [
        {
          "name": "stderr",
          "output_type": "stream",
          "text": [
            "C:\\Users\\EVERTON\\AppData\\Local\\Temp\\ipykernel_8580\\2872713848.py:6: FutureWarning: The default of observed=False is deprecated and will be changed to True in a future version of pandas. Pass observed=False to retain current behavior or observed=True to adopt the future default and silence this warning.\n",
            "  df_renda_media_por_anos_de_estudo = df_ibge.groupby(faixa_anos_de_estudo)['Renda'].mean().reset_index()\n"
          ]
        },
        {
          "data": {
            "text/html": [
              "<div>\n",
              "<style scoped>\n",
              "    .dataframe tbody tr th:only-of-type {\n",
              "        vertical-align: middle;\n",
              "    }\n",
              "\n",
              "    .dataframe tbody tr th {\n",
              "        vertical-align: top;\n",
              "    }\n",
              "\n",
              "    .dataframe thead th {\n",
              "        text-align: right;\n",
              "    }\n",
              "</style>\n",
              "<table border=\"1\" class=\"dataframe\">\n",
              "  <thead>\n",
              "    <tr style=\"text-align: right;\">\n",
              "      <th></th>\n",
              "      <th>Faixa Anos de Estudo</th>\n",
              "      <th>Renda Média</th>\n",
              "    </tr>\n",
              "  </thead>\n",
              "  <tbody>\n",
              "    <tr>\n",
              "      <th>0</th>\n",
              "      <td>2 Anos ou Menos</td>\n",
              "      <td>828.224420</td>\n",
              "    </tr>\n",
              "    <tr>\n",
              "      <th>1</th>\n",
              "      <td>3 a 6 Anos</td>\n",
              "      <td>1149.426648</td>\n",
              "    </tr>\n",
              "    <tr>\n",
              "      <th>2</th>\n",
              "      <td>7 a 10 Anos</td>\n",
              "      <td>1403.497163</td>\n",
              "    </tr>\n",
              "    <tr>\n",
              "      <th>3</th>\n",
              "      <td>11 a 12 Anos</td>\n",
              "      <td>1869.521910</td>\n",
              "    </tr>\n",
              "    <tr>\n",
              "      <th>4</th>\n",
              "      <td>13 Anos ou Mais</td>\n",
              "      <td>4737.374037</td>\n",
              "    </tr>\n",
              "  </tbody>\n",
              "</table>\n",
              "</div>"
            ],
            "text/plain": [
              "  Faixa Anos de Estudo  Renda Média\n",
              "0      2 Anos ou Menos   828.224420\n",
              "1           3 a 6 Anos  1149.426648\n",
              "2          7 a 10 Anos  1403.497163\n",
              "3         11 a 12 Anos  1869.521910\n",
              "4      13 Anos ou Mais  4737.374037"
            ]
          },
          "execution_count": 18,
          "metadata": {},
          "output_type": "execute_result"
        }
      ],
      "source": [
        "bins = [0, 2, 6, 10, 12, np.inf]\n",
        "labels = ['2 Anos ou Menos', '3 a 6 Anos', '7 a 10 Anos', '11 a 12 Anos', '13 Anos ou Mais']\n",
        "\n",
        "faixa_anos_de_estudo = pd.cut(df_ibge['Anos de Estudo'], bins=bins, labels=labels)\n",
        "\n",
        "df_renda_media_por_anos_de_estudo = df_ibge.groupby(faixa_anos_de_estudo)['Renda'].mean().reset_index()\n",
        "\n",
        "df_renda_media_por_anos_de_estudo.columns = ['Faixa Anos de Estudo', 'Renda Média']\n",
        "\n",
        "df_renda_media_por_anos_de_estudo\n"
      ]
    },
    {
      "cell_type": "markdown",
      "metadata": {
        "id": "fDxIIqqS3DHs"
      },
      "source": [
        "7) Qual a escolaridade entre indígenas, para homens e mulheres?"
      ]
    },
    {
      "cell_type": "code",
      "execution_count": 19,
      "metadata": {},
      "outputs": [
        {
          "data": {
            "text/plain": [
              "array(['Parda', 'Branca', 'Preta', 'Amarela', 'Indígena'], dtype=object)"
            ]
          },
          "execution_count": 19,
          "metadata": {},
          "output_type": "execute_result"
        }
      ],
      "source": [
        "df_ibge['Cor'].unique()\n"
      ]
    },
    {
      "cell_type": "code",
      "execution_count": 20,
      "metadata": {
        "id": "M85a5qNt3E2y"
      },
      "outputs": [
        {
          "data": {
            "text/html": [
              "<div>\n",
              "<style scoped>\n",
              "    .dataframe tbody tr th:only-of-type {\n",
              "        vertical-align: middle;\n",
              "    }\n",
              "\n",
              "    .dataframe tbody tr th {\n",
              "        vertical-align: top;\n",
              "    }\n",
              "\n",
              "    .dataframe thead th {\n",
              "        text-align: right;\n",
              "    }\n",
              "</style>\n",
              "<table border=\"1\" class=\"dataframe\">\n",
              "  <thead>\n",
              "    <tr style=\"text-align: right;\">\n",
              "      <th></th>\n",
              "      <th>Cor</th>\n",
              "      <th>Sexo</th>\n",
              "      <th>Média de Anos de Estudo</th>\n",
              "    </tr>\n",
              "  </thead>\n",
              "  <tbody>\n",
              "    <tr>\n",
              "      <th>0</th>\n",
              "      <td>Indígena</td>\n",
              "      <td>Feminino</td>\n",
              "      <td>8.128713</td>\n",
              "    </tr>\n",
              "    <tr>\n",
              "      <th>1</th>\n",
              "      <td>Indígena</td>\n",
              "      <td>Masculino</td>\n",
              "      <td>6.878906</td>\n",
              "    </tr>\n",
              "  </tbody>\n",
              "</table>\n",
              "</div>"
            ],
            "text/plain": [
              "        Cor       Sexo  Média de Anos de Estudo\n",
              "0  Indígena   Feminino                 8.128713\n",
              "1  Indígena  Masculino                 6.878906"
            ]
          },
          "execution_count": 20,
          "metadata": {},
          "output_type": "execute_result"
        }
      ],
      "source": [
        "df_indigenas = df_ibge[df_ibge['Cor'] == 'Indígena']\n",
        "\n",
        "df_escolaridade_indigenas = df_indigenas.groupby(['Cor', 'Sexo'])['Anos de Estudo'].mean().reset_index()\n",
        "\n",
        "df_escolaridade_indigenas.rename(columns={'Anos de Estudo':'Média de Anos de Estudo'}, inplace=True)\n",
        "\n",
        "df_escolaridade_indigenas\n"
      ]
    },
    {
      "cell_type": "markdown",
      "metadata": {
        "id": "hgqYfhU33FtF"
      },
      "source": [
        "8) Qual a média de anos de estudo entre brancos e negros?"
      ]
    },
    {
      "cell_type": "code",
      "execution_count": 21,
      "metadata": {
        "id": "EK9X8wTZ3UdS"
      },
      "outputs": [
        {
          "data": {
            "text/html": [
              "<div>\n",
              "<style scoped>\n",
              "    .dataframe tbody tr th:only-of-type {\n",
              "        vertical-align: middle;\n",
              "    }\n",
              "\n",
              "    .dataframe tbody tr th {\n",
              "        vertical-align: top;\n",
              "    }\n",
              "\n",
              "    .dataframe thead th {\n",
              "        text-align: right;\n",
              "    }\n",
              "</style>\n",
              "<table border=\"1\" class=\"dataframe\">\n",
              "  <thead>\n",
              "    <tr style=\"text-align: right;\">\n",
              "      <th></th>\n",
              "      <th>Cor</th>\n",
              "      <th>Média de Anos de Estudo</th>\n",
              "    </tr>\n",
              "  </thead>\n",
              "  <tbody>\n",
              "    <tr>\n",
              "      <th>0</th>\n",
              "      <td>Branca</td>\n",
              "      <td>9.492252</td>\n",
              "    </tr>\n",
              "    <tr>\n",
              "      <th>1</th>\n",
              "      <td>Preta</td>\n",
              "      <td>7.864021</td>\n",
              "    </tr>\n",
              "  </tbody>\n",
              "</table>\n",
              "</div>"
            ],
            "text/plain": [
              "      Cor  Média de Anos de Estudo\n",
              "0  Branca                 9.492252\n",
              "1   Preta                 7.864021"
            ]
          },
          "execution_count": 21,
          "metadata": {},
          "output_type": "execute_result"
        }
      ],
      "source": [
        "df_escolaridade_brancos_e_pretos = df_brancos_e_pretos.groupby(['Cor'])['Anos de Estudo'].mean().reset_index()\n",
        "\n",
        "df_escolaridade_brancos_e_pretos.rename(columns={'Anos de Estudo':'Média de Anos de Estudo'}, inplace=True)\n",
        "\n",
        "df_escolaridade_brancos_e_pretos\n"
      ]
    },
    {
      "cell_type": "markdown",
      "metadata": {
        "id": "_ZjroKKB3WBx"
      },
      "source": [
        "9) Qual a média de anos de estudo e de renda para mulheres brancas e para mulheres negras?"
      ]
    },
    {
      "cell_type": "code",
      "execution_count": 22,
      "metadata": {
        "id": "7dx7zW7M3Wau"
      },
      "outputs": [
        {
          "data": {
            "text/html": [
              "<div>\n",
              "<style scoped>\n",
              "    .dataframe tbody tr th:only-of-type {\n",
              "        vertical-align: middle;\n",
              "    }\n",
              "\n",
              "    .dataframe tbody tr th {\n",
              "        vertical-align: top;\n",
              "    }\n",
              "\n",
              "    .dataframe thead th {\n",
              "        text-align: right;\n",
              "    }\n",
              "</style>\n",
              "<table border=\"1\" class=\"dataframe\">\n",
              "  <thead>\n",
              "    <tr style=\"text-align: right;\">\n",
              "      <th></th>\n",
              "      <th>Sexo</th>\n",
              "      <th>Cor</th>\n",
              "      <th>Média de Anos de Estudo</th>\n",
              "      <th>Renda Média</th>\n",
              "    </tr>\n",
              "  </thead>\n",
              "  <tbody>\n",
              "    <tr>\n",
              "      <th>0</th>\n",
              "      <td>Feminino</td>\n",
              "      <td>Branca</td>\n",
              "      <td>10.300385</td>\n",
              "      <td>2109.86675</td>\n",
              "    </tr>\n",
              "    <tr>\n",
              "      <th>1</th>\n",
              "      <td>Feminino</td>\n",
              "      <td>Preta</td>\n",
              "      <td>8.526480</td>\n",
              "      <td>1134.59640</td>\n",
              "    </tr>\n",
              "  </tbody>\n",
              "</table>\n",
              "</div>"
            ],
            "text/plain": [
              "       Sexo     Cor  Média de Anos de Estudo  Renda Média\n",
              "0  Feminino  Branca                10.300385   2109.86675\n",
              "1  Feminino   Preta                 8.526480   1134.59640"
            ]
          },
          "execution_count": 22,
          "metadata": {},
          "output_type": "execute_result"
        }
      ],
      "source": [
        "df_mulheres_brancas_e_pretas = df_ibge[(df_ibge['Sexo'] == 'Feminino') & (df_ibge['Cor'].isin(['Branca', 'Preta']))]\n",
        "\n",
        "df_media_estudo_e_renda_para_mulheres_brancas_e_pretas = df_mulheres_brancas_e_pretas.groupby(\n",
        "    ['Sexo', 'Cor'])[['Anos de Estudo', 'Renda']].mean().reset_index()\n",
        "\n",
        "df_media_estudo_e_renda_para_mulheres_brancas_e_pretas.columns = [\n",
        "    'Sexo', 'Cor', 'Média de Anos de Estudo', 'Renda Média'\n",
        "]\n",
        "\n",
        "df_media_estudo_e_renda_para_mulheres_brancas_e_pretas\n"
      ]
    },
    {
      "cell_type": "markdown",
      "metadata": {
        "id": "sG2Kkkrd3X5V"
      },
      "source": [
        "10) Qual é a UF com maior média de escolaridade e qual a UF com maior média de renda?"
      ]
    },
    {
      "cell_type": "code",
      "execution_count": 23,
      "metadata": {},
      "outputs": [
        {
          "data": {
            "text/html": [
              "<div>\n",
              "<style scoped>\n",
              "    .dataframe tbody tr th:only-of-type {\n",
              "        vertical-align: middle;\n",
              "    }\n",
              "\n",
              "    .dataframe tbody tr th {\n",
              "        vertical-align: top;\n",
              "    }\n",
              "\n",
              "    .dataframe thead th {\n",
              "        text-align: right;\n",
              "    }\n",
              "</style>\n",
              "<table border=\"1\" class=\"dataframe\">\n",
              "  <thead>\n",
              "    <tr style=\"text-align: right;\">\n",
              "      <th></th>\n",
              "      <th>Descrição</th>\n",
              "      <th>UF</th>\n",
              "      <th>Média de Anos de Estudo</th>\n",
              "      <th>Renda Média</th>\n",
              "    </tr>\n",
              "  </thead>\n",
              "  <tbody>\n",
              "    <tr>\n",
              "      <th>0</th>\n",
              "      <td>Maior Média de Escolaridade</td>\n",
              "      <td>Distrito Federal</td>\n",
              "      <td>10.913827</td>\n",
              "      <td>4241.954722</td>\n",
              "    </tr>\n",
              "    <tr>\n",
              "      <th>1</th>\n",
              "      <td>Maior Média de Renda</td>\n",
              "      <td>Distrito Federal</td>\n",
              "      <td>10.913827</td>\n",
              "      <td>4241.954722</td>\n",
              "    </tr>\n",
              "  </tbody>\n",
              "</table>\n",
              "</div>"
            ],
            "text/plain": [
              "                     Descrição                UF  Média de Anos de Estudo  \\\n",
              "0  Maior Média de Escolaridade  Distrito Federal                10.913827   \n",
              "1         Maior Média de Renda  Distrito Federal                10.913827   \n",
              "\n",
              "   Renda Média  \n",
              "0  4241.954722  \n",
              "1  4241.954722  "
            ]
          },
          "execution_count": 23,
          "metadata": {},
          "output_type": "execute_result"
        }
      ],
      "source": [
        "df_uf_media_escolaridade_e_renda = df_ibge.groupby(['UF'])[['Anos de Estudo', 'Renda']].mean().reset_index()\n",
        "\n",
        "df_uf_media_escolaridade_e_renda = df_uf_media_escolaridade_e_renda.loc[\n",
        "    df_uf_media_escolaridade_e_renda[['Anos de Estudo', 'Renda']].idxmax()]\n",
        "\n",
        "df_uf_media_escolaridade_e_renda.rename(columns={\n",
        "    'Anos de Estudo':'Média de Anos de Estudo', \n",
        "    'Renda':'Renda Média'\n",
        "}, inplace=True)\n",
        "\n",
        "df_uf_media_escolaridade_e_renda.insert(0, 'Descrição', ['Maior Média de Escolaridade', 'Maior Média de Renda'])\n",
        "\n",
        "df_uf_media_escolaridade_e_renda.reset_index(drop=True, inplace=True)\n",
        "\n",
        "df_uf_media_escolaridade_e_renda\n"
      ]
    },
    {
      "cell_type": "markdown",
      "metadata": {
        "id": "72Oy_JJ_3Z7F"
      },
      "source": [
        "11) Elabore você uma pergunta sobre a base de dados e escreva o código para responder a pergunta.\n",
        "- Qual UF possui a maior média de altura entre homens e mulheres?"
      ]
    },
    {
      "cell_type": "code",
      "execution_count": 24,
      "metadata": {},
      "outputs": [
        {
          "data": {
            "text/html": [
              "<div>\n",
              "<style scoped>\n",
              "    .dataframe tbody tr th:only-of-type {\n",
              "        vertical-align: middle;\n",
              "    }\n",
              "\n",
              "    .dataframe tbody tr th {\n",
              "        vertical-align: top;\n",
              "    }\n",
              "\n",
              "    .dataframe thead th {\n",
              "        text-align: right;\n",
              "    }\n",
              "</style>\n",
              "<table border=\"1\" class=\"dataframe\">\n",
              "  <thead>\n",
              "    <tr style=\"text-align: right;\">\n",
              "      <th></th>\n",
              "      <th>Sexo</th>\n",
              "      <th>UF Com Maior Média de Altura</th>\n",
              "      <th>Média de Altura</th>\n",
              "    </tr>\n",
              "  </thead>\n",
              "  <tbody>\n",
              "    <tr>\n",
              "      <th>0</th>\n",
              "      <td>Feminino</td>\n",
              "      <td>Tocantins</td>\n",
              "      <td>1.703521</td>\n",
              "    </tr>\n",
              "    <tr>\n",
              "      <th>1</th>\n",
              "      <td>Masculino</td>\n",
              "      <td>Rondônia</td>\n",
              "      <td>1.705325</td>\n",
              "    </tr>\n",
              "  </tbody>\n",
              "</table>\n",
              "</div>"
            ],
            "text/plain": [
              "        Sexo UF Com Maior Média de Altura  Média de Altura\n",
              "0   Feminino                    Tocantins         1.703521\n",
              "1  Masculino                     Rondônia         1.705325"
            ]
          },
          "execution_count": 24,
          "metadata": {},
          "output_type": "execute_result"
        }
      ],
      "source": [
        "df_media_altura_por_uf_e_sexo = df_ibge.groupby(['Sexo', 'UF'])[['Altura']].mean().reset_index()\n",
        "\n",
        "df_maior_media_altura_entre_mulheres = df_media_altura_por_uf_e_sexo.loc[\n",
        "    [df_media_altura_por_uf_e_sexo[df_media_altura_por_uf_e_sexo['Sexo'] == 'Feminino']['Altura'].idxmax()]]\n",
        "\n",
        "df_maior_media_altura_entre_homens = df_media_altura_por_uf_e_sexo.loc[\n",
        "    [df_media_altura_por_uf_e_sexo[df_media_altura_por_uf_e_sexo['Sexo'] == 'Masculino']['Altura'].idxmax()]]\n",
        "\n",
        "df_uf_maior_media_altura_para_homens_e_mulheres = pd.concat([\n",
        "    df_maior_media_altura_entre_mulheres, df_maior_media_altura_entre_homens], ignore_index=True)\n",
        "\n",
        "df_uf_maior_media_altura_para_homens_e_mulheres.columns = ['Sexo', 'UF Com Maior Média de Altura', 'Média de Altura']\n",
        "\n",
        "df_uf_maior_media_altura_para_homens_e_mulheres\n"
      ]
    }
  ],
  "metadata": {
    "colab": {
      "provenance": []
    },
    "kernelspec": {
      "display_name": "Python 3",
      "name": "python3"
    },
    "language_info": {
      "codemirror_mode": {
        "name": "ipython",
        "version": 3
      },
      "file_extension": ".py",
      "mimetype": "text/x-python",
      "name": "python",
      "nbconvert_exporter": "python",
      "pygments_lexer": "ipython3",
      "version": "3.10.11"
    }
  },
  "nbformat": 4,
  "nbformat_minor": 0
}
