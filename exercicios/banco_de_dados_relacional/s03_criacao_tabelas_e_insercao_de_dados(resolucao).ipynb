{
 "cells": [
  {
   "cell_type": "markdown",
   "metadata": {},
   "source": [
    "# Atividade\n",
    "\n",
    "* Criar um banco de dados na ferramenta cloud (ScaleGrid) ou localmente\n",
    "(PostgreSQL ou MySQL), chamado ecommerce, e definir as tabelas necessárias para o\n",
    "sistema. Além disso, como desafio, você deve criar um script em Python para inserir 10 mil\n",
    "registros em cada uma das tabelas criadas."
   ]
  },
  {
   "cell_type": "markdown",
   "metadata": {},
   "source": [
    "### Criando o Banco de Dados"
   ]
  },
  {
   "cell_type": "code",
   "execution_count": null,
   "metadata": {},
   "outputs": [],
   "source": [
    "CREATE DATABASE ecommerce;"
   ]
  },
  {
   "cell_type": "code",
   "execution_count": null,
   "metadata": {},
   "outputs": [],
   "source": [
    "CREATE TABLE categoria (\n",
    "\tid_categoria SERIAL NOT NULL,\n",
    "\tnome VARCHAR(255) NOT NULL,\n",
    "\tdescricao TEXT NOT NULL,\n",
    "\tCONSTRAINT categoria_pkey PRIMARY KEY (id_categoria)\n",
    ");\n",
    "\n",
    "CREATE TABLE cliente (\n",
    "\tid_cliente SERIAL NOT NULL,\n",
    "\tnome VARCHAR(255) NOT NULL,\n",
    "\tendereco VARCHAR(255) NOT NULL,\n",
    "\ttelefone VARCHAR(13) NOT NULL,\n",
    "\temail VARCHAR(255) NOT NULL,\n",
    "\tdata_nascimento DATE NOT NULL,\n",
    "\tCONSTRAINT cliente_email_key UNIQUE (email),\n",
    "\tCONSTRAINT cliente_pkey PRIMARY KEY (id_cliente)\n",
    ");\n",
    "\n",
    "CREATE TABLE produto (\n",
    "\tid_produto SERIAL NOT NULL,\n",
    "\tnome VARCHAR(255) NOT NULL,\n",
    "\tdescricao TEXT NOT NULL,\n",
    "\tpreco NUMERIC(10, 2) NOT NULL,\n",
    "\testoque INT NOT NULL,\n",
    "\tid_categoria INT NOT NULL,\n",
    "\tCONSTRAINT produto_pkey PRIMARY KEY (id_produto),\n",
    "\tCONSTRAINT fk_categoria FOREIGN KEY (id_categoria) REFERENCES categoria(id_categoria)\n",
    ");\n",
    "\n",
    "CREATE TABLE item_do_pedido (\n",
    "\tid_item_do_pedido SERIAL NOT NULL,\n",
    "\tquantidade INT NOT NULL,\n",
    "\tpreco_unitario NUMERIC(10, 2) NOT NULL,\n",
    "\tsubtotal NUMERIC(10, 2) NOT NULL,\n",
    "\tid_produto INT NOT NULL,\n",
    "\tCONSTRAINT item_do_pedido_pkey PRIMARY KEY (id_item_do_pedido),\n",
    "\tCONSTRAINT fk_produto FOREIGN KEY (id_produto) REFERENCES produto(id_produto)\n",
    ");\n",
    "\n",
    "CREATE TABLE pedido (\n",
    "\tid_pedido SERIAL NOT NULL,\n",
    "\tdata_pedido DATE NOT NULL,\n",
    "\tstatus VARCHAR(50) NOT NULL,\n",
    "\tvalor_total NUMERIC(10, 2) NOT NULL,\n",
    "\tid_item_do_pedido INT NOT NULL,\n",
    "\tid_cliente INT NOT NULL,\n",
    "\tCONSTRAINT pedido_pkey PRIMARY KEY (id_pedido),\n",
    "\tCONSTRAINT fk_cliente FOREIGN KEY (id_cliente) REFERENCES cliente(id_cliente),\n",
    "\tCONSTRAINT fk_item_do_pedido FOREIGN KEY (id_item_do_pedido) REFERENCES item_do_pedido(id_item_do_pedido)\n",
    ");\n",
    "\n",
    "CREATE TABLE pagamento (\n",
    "\tid_pagamento SERIAL NOT NULL,\n",
    "\tdata_pagamento DATE NULL,\n",
    "\tvalor_pago NUMERIC(10, 2) NULL,\n",
    "\tmetodo_pagamento VARCHAR(50) NULL,\n",
    "\tid_pedido INT NOT NULL,\n",
    "\tCONSTRAINT pagamento_pkey PRIMARY KEY (id_pagamento),\n",
    "\tCONSTRAINT fk_pedido FOREIGN KEY (id_pedido) REFERENCES pedido(id_pedido)\n",
    ");\n"
   ]
  },
  {
   "cell_type": "markdown",
   "metadata": {},
   "source": [
    "### Script em Python para inserir os registros"
   ]
  },
  {
   "cell_type": "code",
   "execution_count": 2,
   "metadata": {},
   "outputs": [],
   "source": [
    "import psycopg2\n",
    "import random\n",
    "from faker import Faker\n",
    "from datetime import datetime, timedelta\n"
   ]
  },
  {
   "cell_type": "code",
   "execution_count": 12,
   "metadata": {},
   "outputs": [],
   "source": [
    "fake = Faker()\n",
    "\n",
    "# Realizando conexão local\n",
    "conn = psycopg2.connect(\n",
    "    dbname=\"ecommerce\",\n",
    "    user=\"user\",\n",
    "    password=\"password\",\n",
    "    host=\"host\",\n",
    "    port=\"port\"\n",
    ")\n",
    "\n",
    "cur = conn.cursor()\n"
   ]
  },
  {
   "cell_type": "code",
   "execution_count": 4,
   "metadata": {},
   "outputs": [],
   "source": [
    "# Função para gerar dados aleatórios com limite de comprimento\n",
    "def truncate(text, max_length):\n",
    "    return text[:max_length]\n"
   ]
  },
  {
   "cell_type": "code",
   "execution_count": 5,
   "metadata": {},
   "outputs": [],
   "source": [
    "# Inserir registros na tabela 'categoria'\n",
    "categoria_ids = []\n",
    "\n",
    "for i in range(10000):\n",
    "    nome = truncate(fake.word().capitalize(), 100)\n",
    "    descricao = truncate(fake.sentence(), 255)\n",
    "\n",
    "    cur.execute(\n",
    "        \"INSERT INTO categoria (nome, descricao) VALUES (%s, %s) RETURNING id_categoria\",\n",
    "        (nome, descricao)\n",
    "    )\n",
    "\n",
    "    categoria_ids.append(cur.fetchone()[0])\n",
    "   "
   ]
  },
  {
   "cell_type": "code",
   "execution_count": 7,
   "metadata": {},
   "outputs": [],
   "source": [
    "# Inserir registros na tabela 'produto'\n",
    "produto_ids = []\n",
    "\n",
    "for i in range(10000):\n",
    "    nome = truncate(fake.word().capitalize(), 100)\n",
    "    descricao = truncate(fake.sentence(), 255)\n",
    "    preco = round(random.uniform(10.0, 100.0), 2)\n",
    "    estoque = random.randint(1, 100)\n",
    "    id_categoria = random.choice(categoria_ids)\n",
    "\n",
    "    cur.execute(\n",
    "        \"INSERT INTO produto (nome, descricao, preco, estoque, id_categoria) VALUES (%s, %s, %s, %s, %s) RETURNING id_produto\",\n",
    "        (nome, descricao, preco, estoque, id_categoria)\n",
    "    )\n",
    "    \n",
    "    produto_ids.append(cur.fetchone()[0])\n"
   ]
  },
  {
   "cell_type": "code",
   "execution_count": 13,
   "metadata": {},
   "outputs": [],
   "source": [
    "# Inserir registros na tabela 'cliente'\n",
    "cliente_ids = []\n",
    "\n",
    "for i in range(10000):\n",
    "    nome = truncate(fake.name(), 100)\n",
    "    endereco = truncate(fake.address().replace('\\n', ', '), 255)\n",
    "    telefone = truncate(fake.phone_number(), 13)\n",
    "    email = truncate(f\"{nome.replace(' ', '').lower()}_{random.randint(1, 10000)}@example.com\", 100)\n",
    "    data_nascimento = fake.date_of_birth(minimum_age=18, maximum_age=90)\n",
    "\n",
    "    cur.execute(\n",
    "        \"INSERT INTO cliente (nome, endereco, telefone, email, data_nascimento) VALUES (%s, %s, %s, %s, %s) RETURNING id_cliente\",\n",
    "        (nome, endereco, telefone, email, data_nascimento)\n",
    "    )\n",
    "    \n",
    "    cliente_ids.append(cur.fetchone()[0])\n"
   ]
  },
  {
   "cell_type": "code",
   "execution_count": 15,
   "metadata": {},
   "outputs": [],
   "source": [
    "# Inserir registros na tabela 'item_do_pedido'\n",
    "item_do_pedido_ids = []\n",
    "\n",
    "for i in range(10000):\n",
    "    quantidade = random.randint(1, 10)\n",
    "    preco_unitario = round(random.uniform(10.0, 100.0), 2)\n",
    "    subtotal = quantidade * preco_unitario\n",
    "    id_produto = random.choice(produto_ids)\n",
    "\n",
    "    cur.execute(\n",
    "        \"INSERT INTO item_do_pedido (quantidade, preco_unitario, subtotal, id_produto) VALUES (%s, %s, %s, %s) RETURNING id_item_do_pedido\",\n",
    "        (quantidade, preco_unitario, subtotal, id_produto)\n",
    "    )\n",
    "\n",
    "    item_do_pedido_ids.append(cur.fetchone()[0])\n"
   ]
  },
  {
   "cell_type": "code",
   "execution_count": 17,
   "metadata": {},
   "outputs": [],
   "source": [
    "# Inserir registros na tabela 'pedido'\n",
    "pedido_ids = []\n",
    "\n",
    "for i in range(10000):\n",
    "    data_pedido = fake.date_between(start_date='-4y', end_date='today')\n",
    "    status = truncate(random.choice(['Pendente', 'Concluído', 'Cancelado']), 20)\n",
    "    valor_total = round(random.uniform(50.0, 500.0), 2)\n",
    "    id_item_do_pedido = random.choice(item_do_pedido_ids)\n",
    "    id_cliente = random.choice(cliente_ids)\n",
    "\n",
    "    cur.execute(\n",
    "        \"INSERT INTO pedido (data_pedido, status, valor_total, id_item_do_pedido, id_cliente) VALUES (%s, %s, %s, %s, %s) RETURNING id_pedido\" ,\n",
    "        (data_pedido, status, valor_total, id_item_do_pedido, id_cliente)\n",
    "    )\n",
    "\n",
    "    pedido_ids.append(cur.fetchone()[0])\n"
   ]
  },
  {
   "cell_type": "code",
   "execution_count": 19,
   "metadata": {},
   "outputs": [],
   "source": [
    "# Inserir registros na tabela 'pagamento'\n",
    "for i in range(10000):\n",
    "    data_pagamento = fake.date_between(start_date='-4y', end_date='today')\n",
    "    valor_pago = round(random.uniform(50.0, 500.0), 2)\n",
    "    metodo_pagamento = truncate(random.choice(['Cartão de Crédito', 'Boleto', 'Pix']), 50)\n",
    "    id_pedido = random.choice(pedido_ids)\n",
    "\n",
    "    cur.execute(\n",
    "        \"INSERT INTO pagamento (data_pagamento, valor_pago, metodo_pagamento, id_pedido) VALUES (%s, %s, %s, %s)\",\n",
    "        (data_pagamento, valor_pago, metodo_pagamento, id_pedido)\n",
    "    )\n"
   ]
  },
  {
   "cell_type": "code",
   "execution_count": 21,
   "metadata": {},
   "outputs": [],
   "source": [
    "# Fazer o commit e desfazer a conexão\n",
    "conn.commit()\n",
    "cur.close()\n",
    "conn.close()\n"
   ]
  }
 ],
 "metadata": {
  "kernelspec": {
   "display_name": "Python 3",
   "language": "python",
   "name": "python3"
  },
  "language_info": {
   "codemirror_mode": {
    "name": "ipython",
    "version": 3
   },
   "file_extension": ".py",
   "mimetype": "text/x-python",
   "name": "python",
   "nbconvert_exporter": "python",
   "pygments_lexer": "ipython3",
   "version": "3.10.11"
  }
 },
 "nbformat": 4,
 "nbformat_minor": 2
}
